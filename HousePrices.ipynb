{
 "cells": [
  {
   "cell_type": "markdown",
   "id": "196849da",
   "metadata": {},
   "source": [
    "# House Prices - Advanced Regression Techniques\n",
    "## Predict sales prices and practice feature engineering, RFs, and gradient boosting\n",
    "\n",
    "https://www.kaggle.com/competitions/house-prices-advanced-regression-techniques/overview\n",
    "    "
   ]
  },
  {
   "cell_type": "markdown",
   "id": "916d29df",
   "metadata": {},
   "source": [
    "## Part 1: Analyzing data"
   ]
  },
  {
   "cell_type": "code",
   "execution_count": 253,
   "id": "4ee99774",
   "metadata": {},
   "outputs": [],
   "source": [
    "# Imports\n",
    "import torch\n",
    "import math, time\n",
    "import numpy as np\n",
    "import pandas as pd\n",
    "from torch import nn\n",
    "import seaborn as sns\n",
    "import missingno as msno\n",
    "import matplotlib.pyplot as plt\n",
    "import matplotlib.cm as cm\n",
    "from sklearn.impute import SimpleImputer\n",
    "\n",
    "from sklearn.compose import ColumnTransformer\n",
    "from sklearn.metrics import mean_squared_error, mean_absolute_error\n",
    "from torch.utils.data import Dataset, DataLoader\n",
    "from sklearn.linear_model import LinearRegression\n",
    "from sklearn.model_selection import train_test_split\n",
    "from sklearn.preprocessing import MinMaxScaler, StandardScaler, LabelEncoder"
   ]
  },
  {
   "cell_type": "code",
   "execution_count": 3,
   "id": "a206504e",
   "metadata": {},
   "outputs": [],
   "source": [
    "# Load data\n",
    "test = pd.read_csv(\"data/test.csv\")\n",
    "train = pd.read_csv(\"data/train.csv\")"
   ]
  },
  {
   "cell_type": "code",
   "execution_count": 4,
   "id": "cb0a32bb",
   "metadata": {},
   "outputs": [
    {
     "data": {
      "text/html": [
       "<div>\n",
       "<style scoped>\n",
       "    .dataframe tbody tr th:only-of-type {\n",
       "        vertical-align: middle;\n",
       "    }\n",
       "\n",
       "    .dataframe tbody tr th {\n",
       "        vertical-align: top;\n",
       "    }\n",
       "\n",
       "    .dataframe thead th {\n",
       "        text-align: right;\n",
       "    }\n",
       "</style>\n",
       "<table border=\"1\" class=\"dataframe\">\n",
       "  <thead>\n",
       "    <tr style=\"text-align: right;\">\n",
       "      <th></th>\n",
       "      <th>Id</th>\n",
       "      <th>MSSubClass</th>\n",
       "      <th>MSZoning</th>\n",
       "      <th>LotFrontage</th>\n",
       "      <th>LotArea</th>\n",
       "      <th>Street</th>\n",
       "      <th>Alley</th>\n",
       "      <th>LotShape</th>\n",
       "      <th>LandContour</th>\n",
       "      <th>Utilities</th>\n",
       "      <th>...</th>\n",
       "      <th>ScreenPorch</th>\n",
       "      <th>PoolArea</th>\n",
       "      <th>PoolQC</th>\n",
       "      <th>Fence</th>\n",
       "      <th>MiscFeature</th>\n",
       "      <th>MiscVal</th>\n",
       "      <th>MoSold</th>\n",
       "      <th>YrSold</th>\n",
       "      <th>SaleType</th>\n",
       "      <th>SaleCondition</th>\n",
       "    </tr>\n",
       "  </thead>\n",
       "  <tbody>\n",
       "    <tr>\n",
       "      <th>1454</th>\n",
       "      <td>2915</td>\n",
       "      <td>160</td>\n",
       "      <td>RM</td>\n",
       "      <td>21.0</td>\n",
       "      <td>1936</td>\n",
       "      <td>Pave</td>\n",
       "      <td>NaN</td>\n",
       "      <td>Reg</td>\n",
       "      <td>Lvl</td>\n",
       "      <td>AllPub</td>\n",
       "      <td>...</td>\n",
       "      <td>0</td>\n",
       "      <td>0</td>\n",
       "      <td>NaN</td>\n",
       "      <td>NaN</td>\n",
       "      <td>NaN</td>\n",
       "      <td>0</td>\n",
       "      <td>6</td>\n",
       "      <td>2006</td>\n",
       "      <td>WD</td>\n",
       "      <td>Normal</td>\n",
       "    </tr>\n",
       "    <tr>\n",
       "      <th>1455</th>\n",
       "      <td>2916</td>\n",
       "      <td>160</td>\n",
       "      <td>RM</td>\n",
       "      <td>21.0</td>\n",
       "      <td>1894</td>\n",
       "      <td>Pave</td>\n",
       "      <td>NaN</td>\n",
       "      <td>Reg</td>\n",
       "      <td>Lvl</td>\n",
       "      <td>AllPub</td>\n",
       "      <td>...</td>\n",
       "      <td>0</td>\n",
       "      <td>0</td>\n",
       "      <td>NaN</td>\n",
       "      <td>NaN</td>\n",
       "      <td>NaN</td>\n",
       "      <td>0</td>\n",
       "      <td>4</td>\n",
       "      <td>2006</td>\n",
       "      <td>WD</td>\n",
       "      <td>Abnorml</td>\n",
       "    </tr>\n",
       "    <tr>\n",
       "      <th>1456</th>\n",
       "      <td>2917</td>\n",
       "      <td>20</td>\n",
       "      <td>RL</td>\n",
       "      <td>160.0</td>\n",
       "      <td>20000</td>\n",
       "      <td>Pave</td>\n",
       "      <td>NaN</td>\n",
       "      <td>Reg</td>\n",
       "      <td>Lvl</td>\n",
       "      <td>AllPub</td>\n",
       "      <td>...</td>\n",
       "      <td>0</td>\n",
       "      <td>0</td>\n",
       "      <td>NaN</td>\n",
       "      <td>NaN</td>\n",
       "      <td>NaN</td>\n",
       "      <td>0</td>\n",
       "      <td>9</td>\n",
       "      <td>2006</td>\n",
       "      <td>WD</td>\n",
       "      <td>Abnorml</td>\n",
       "    </tr>\n",
       "    <tr>\n",
       "      <th>1457</th>\n",
       "      <td>2918</td>\n",
       "      <td>85</td>\n",
       "      <td>RL</td>\n",
       "      <td>62.0</td>\n",
       "      <td>10441</td>\n",
       "      <td>Pave</td>\n",
       "      <td>NaN</td>\n",
       "      <td>Reg</td>\n",
       "      <td>Lvl</td>\n",
       "      <td>AllPub</td>\n",
       "      <td>...</td>\n",
       "      <td>0</td>\n",
       "      <td>0</td>\n",
       "      <td>NaN</td>\n",
       "      <td>MnPrv</td>\n",
       "      <td>Shed</td>\n",
       "      <td>700</td>\n",
       "      <td>7</td>\n",
       "      <td>2006</td>\n",
       "      <td>WD</td>\n",
       "      <td>Normal</td>\n",
       "    </tr>\n",
       "    <tr>\n",
       "      <th>1458</th>\n",
       "      <td>2919</td>\n",
       "      <td>60</td>\n",
       "      <td>RL</td>\n",
       "      <td>74.0</td>\n",
       "      <td>9627</td>\n",
       "      <td>Pave</td>\n",
       "      <td>NaN</td>\n",
       "      <td>Reg</td>\n",
       "      <td>Lvl</td>\n",
       "      <td>AllPub</td>\n",
       "      <td>...</td>\n",
       "      <td>0</td>\n",
       "      <td>0</td>\n",
       "      <td>NaN</td>\n",
       "      <td>NaN</td>\n",
       "      <td>NaN</td>\n",
       "      <td>0</td>\n",
       "      <td>11</td>\n",
       "      <td>2006</td>\n",
       "      <td>WD</td>\n",
       "      <td>Normal</td>\n",
       "    </tr>\n",
       "  </tbody>\n",
       "</table>\n",
       "<p>5 rows × 80 columns</p>\n",
       "</div>"
      ],
      "text/plain": [
       "        Id  MSSubClass MSZoning  LotFrontage  LotArea Street Alley LotShape  \\\n",
       "1454  2915         160       RM         21.0     1936   Pave   NaN      Reg   \n",
       "1455  2916         160       RM         21.0     1894   Pave   NaN      Reg   \n",
       "1456  2917          20       RL        160.0    20000   Pave   NaN      Reg   \n",
       "1457  2918          85       RL         62.0    10441   Pave   NaN      Reg   \n",
       "1458  2919          60       RL         74.0     9627   Pave   NaN      Reg   \n",
       "\n",
       "     LandContour Utilities  ... ScreenPorch PoolArea PoolQC  Fence  \\\n",
       "1454         Lvl    AllPub  ...           0        0    NaN    NaN   \n",
       "1455         Lvl    AllPub  ...           0        0    NaN    NaN   \n",
       "1456         Lvl    AllPub  ...           0        0    NaN    NaN   \n",
       "1457         Lvl    AllPub  ...           0        0    NaN  MnPrv   \n",
       "1458         Lvl    AllPub  ...           0        0    NaN    NaN   \n",
       "\n",
       "     MiscFeature MiscVal MoSold  YrSold  SaleType  SaleCondition  \n",
       "1454         NaN       0      6    2006        WD         Normal  \n",
       "1455         NaN       0      4    2006        WD        Abnorml  \n",
       "1456         NaN       0      9    2006        WD        Abnorml  \n",
       "1457        Shed     700      7    2006        WD         Normal  \n",
       "1458         NaN       0     11    2006        WD         Normal  \n",
       "\n",
       "[5 rows x 80 columns]"
      ]
     },
     "execution_count": 4,
     "metadata": {},
     "output_type": "execute_result"
    }
   ],
   "source": [
    "test.tail()"
   ]
  },
  {
   "cell_type": "code",
   "execution_count": 5,
   "id": "b42d4027",
   "metadata": {},
   "outputs": [
    {
     "data": {
      "text/html": [
       "<div>\n",
       "<style scoped>\n",
       "    .dataframe tbody tr th:only-of-type {\n",
       "        vertical-align: middle;\n",
       "    }\n",
       "\n",
       "    .dataframe tbody tr th {\n",
       "        vertical-align: top;\n",
       "    }\n",
       "\n",
       "    .dataframe thead th {\n",
       "        text-align: right;\n",
       "    }\n",
       "</style>\n",
       "<table border=\"1\" class=\"dataframe\">\n",
       "  <thead>\n",
       "    <tr style=\"text-align: right;\">\n",
       "      <th></th>\n",
       "      <th>Id</th>\n",
       "      <th>MSSubClass</th>\n",
       "      <th>MSZoning</th>\n",
       "      <th>LotFrontage</th>\n",
       "      <th>LotArea</th>\n",
       "      <th>Street</th>\n",
       "      <th>Alley</th>\n",
       "      <th>LotShape</th>\n",
       "      <th>LandContour</th>\n",
       "      <th>Utilities</th>\n",
       "      <th>...</th>\n",
       "      <th>PoolArea</th>\n",
       "      <th>PoolQC</th>\n",
       "      <th>Fence</th>\n",
       "      <th>MiscFeature</th>\n",
       "      <th>MiscVal</th>\n",
       "      <th>MoSold</th>\n",
       "      <th>YrSold</th>\n",
       "      <th>SaleType</th>\n",
       "      <th>SaleCondition</th>\n",
       "      <th>SalePrice</th>\n",
       "    </tr>\n",
       "  </thead>\n",
       "  <tbody>\n",
       "    <tr>\n",
       "      <th>1455</th>\n",
       "      <td>1456</td>\n",
       "      <td>60</td>\n",
       "      <td>RL</td>\n",
       "      <td>62.0</td>\n",
       "      <td>7917</td>\n",
       "      <td>Pave</td>\n",
       "      <td>NaN</td>\n",
       "      <td>Reg</td>\n",
       "      <td>Lvl</td>\n",
       "      <td>AllPub</td>\n",
       "      <td>...</td>\n",
       "      <td>0</td>\n",
       "      <td>NaN</td>\n",
       "      <td>NaN</td>\n",
       "      <td>NaN</td>\n",
       "      <td>0</td>\n",
       "      <td>8</td>\n",
       "      <td>2007</td>\n",
       "      <td>WD</td>\n",
       "      <td>Normal</td>\n",
       "      <td>175000</td>\n",
       "    </tr>\n",
       "    <tr>\n",
       "      <th>1456</th>\n",
       "      <td>1457</td>\n",
       "      <td>20</td>\n",
       "      <td>RL</td>\n",
       "      <td>85.0</td>\n",
       "      <td>13175</td>\n",
       "      <td>Pave</td>\n",
       "      <td>NaN</td>\n",
       "      <td>Reg</td>\n",
       "      <td>Lvl</td>\n",
       "      <td>AllPub</td>\n",
       "      <td>...</td>\n",
       "      <td>0</td>\n",
       "      <td>NaN</td>\n",
       "      <td>MnPrv</td>\n",
       "      <td>NaN</td>\n",
       "      <td>0</td>\n",
       "      <td>2</td>\n",
       "      <td>2010</td>\n",
       "      <td>WD</td>\n",
       "      <td>Normal</td>\n",
       "      <td>210000</td>\n",
       "    </tr>\n",
       "    <tr>\n",
       "      <th>1457</th>\n",
       "      <td>1458</td>\n",
       "      <td>70</td>\n",
       "      <td>RL</td>\n",
       "      <td>66.0</td>\n",
       "      <td>9042</td>\n",
       "      <td>Pave</td>\n",
       "      <td>NaN</td>\n",
       "      <td>Reg</td>\n",
       "      <td>Lvl</td>\n",
       "      <td>AllPub</td>\n",
       "      <td>...</td>\n",
       "      <td>0</td>\n",
       "      <td>NaN</td>\n",
       "      <td>GdPrv</td>\n",
       "      <td>Shed</td>\n",
       "      <td>2500</td>\n",
       "      <td>5</td>\n",
       "      <td>2010</td>\n",
       "      <td>WD</td>\n",
       "      <td>Normal</td>\n",
       "      <td>266500</td>\n",
       "    </tr>\n",
       "    <tr>\n",
       "      <th>1458</th>\n",
       "      <td>1459</td>\n",
       "      <td>20</td>\n",
       "      <td>RL</td>\n",
       "      <td>68.0</td>\n",
       "      <td>9717</td>\n",
       "      <td>Pave</td>\n",
       "      <td>NaN</td>\n",
       "      <td>Reg</td>\n",
       "      <td>Lvl</td>\n",
       "      <td>AllPub</td>\n",
       "      <td>...</td>\n",
       "      <td>0</td>\n",
       "      <td>NaN</td>\n",
       "      <td>NaN</td>\n",
       "      <td>NaN</td>\n",
       "      <td>0</td>\n",
       "      <td>4</td>\n",
       "      <td>2010</td>\n",
       "      <td>WD</td>\n",
       "      <td>Normal</td>\n",
       "      <td>142125</td>\n",
       "    </tr>\n",
       "    <tr>\n",
       "      <th>1459</th>\n",
       "      <td>1460</td>\n",
       "      <td>20</td>\n",
       "      <td>RL</td>\n",
       "      <td>75.0</td>\n",
       "      <td>9937</td>\n",
       "      <td>Pave</td>\n",
       "      <td>NaN</td>\n",
       "      <td>Reg</td>\n",
       "      <td>Lvl</td>\n",
       "      <td>AllPub</td>\n",
       "      <td>...</td>\n",
       "      <td>0</td>\n",
       "      <td>NaN</td>\n",
       "      <td>NaN</td>\n",
       "      <td>NaN</td>\n",
       "      <td>0</td>\n",
       "      <td>6</td>\n",
       "      <td>2008</td>\n",
       "      <td>WD</td>\n",
       "      <td>Normal</td>\n",
       "      <td>147500</td>\n",
       "    </tr>\n",
       "  </tbody>\n",
       "</table>\n",
       "<p>5 rows × 81 columns</p>\n",
       "</div>"
      ],
      "text/plain": [
       "        Id  MSSubClass MSZoning  LotFrontage  LotArea Street Alley LotShape  \\\n",
       "1455  1456          60       RL         62.0     7917   Pave   NaN      Reg   \n",
       "1456  1457          20       RL         85.0    13175   Pave   NaN      Reg   \n",
       "1457  1458          70       RL         66.0     9042   Pave   NaN      Reg   \n",
       "1458  1459          20       RL         68.0     9717   Pave   NaN      Reg   \n",
       "1459  1460          20       RL         75.0     9937   Pave   NaN      Reg   \n",
       "\n",
       "     LandContour Utilities  ... PoolArea PoolQC  Fence MiscFeature MiscVal  \\\n",
       "1455         Lvl    AllPub  ...        0    NaN    NaN         NaN       0   \n",
       "1456         Lvl    AllPub  ...        0    NaN  MnPrv         NaN       0   \n",
       "1457         Lvl    AllPub  ...        0    NaN  GdPrv        Shed    2500   \n",
       "1458         Lvl    AllPub  ...        0    NaN    NaN         NaN       0   \n",
       "1459         Lvl    AllPub  ...        0    NaN    NaN         NaN       0   \n",
       "\n",
       "     MoSold YrSold  SaleType  SaleCondition  SalePrice  \n",
       "1455      8   2007        WD         Normal     175000  \n",
       "1456      2   2010        WD         Normal     210000  \n",
       "1457      5   2010        WD         Normal     266500  \n",
       "1458      4   2010        WD         Normal     142125  \n",
       "1459      6   2008        WD         Normal     147500  \n",
       "\n",
       "[5 rows x 81 columns]"
      ]
     },
     "execution_count": 5,
     "metadata": {},
     "output_type": "execute_result"
    }
   ],
   "source": [
    "train.tail()"
   ]
  },
  {
   "cell_type": "code",
   "execution_count": 6,
   "id": "48f21276",
   "metadata": {},
   "outputs": [
    {
     "data": {
      "text/plain": [
       "(81, 80)"
      ]
     },
     "execution_count": 6,
     "metadata": {},
     "output_type": "execute_result"
    }
   ],
   "source": [
    "# We have 1 column more\n",
    "train.columns.size, test.columns.size"
   ]
  },
  {
   "cell_type": "code",
   "execution_count": 7,
   "id": "7863f825",
   "metadata": {},
   "outputs": [
    {
     "data": {
      "text/plain": [
       "{'SalePrice'}"
      ]
     },
     "execution_count": 7,
     "metadata": {},
     "output_type": "execute_result"
    }
   ],
   "source": [
    "# So test doesn't have SalePrice\n",
    "diff = set(train.columns) - set(test.columns)\n",
    "diff"
   ]
  },
  {
   "cell_type": "code",
   "execution_count": 8,
   "id": "84ded67a",
   "metadata": {},
   "outputs": [
    {
     "data": {
      "text/plain": [
       "((1460, 80), (1460,))"
      ]
     },
     "execution_count": 8,
     "metadata": {},
     "output_type": "execute_result"
    }
   ],
   "source": [
    "# So I assume the test set is for submitting the results\n",
    "# I will have to use the train as my main dataset, with SalePrice as target value\n",
    "dataset = train\n",
    "X = dataset[test.columns]\n",
    "y = dataset['SalePrice']\n",
    "X.shape,y.shape"
   ]
  },
  {
   "cell_type": "code",
   "execution_count": 9,
   "id": "4d4f9996",
   "metadata": {},
   "outputs": [
    {
     "data": {
      "text/plain": [
       "LotFrontage      259\n",
       "Alley           1369\n",
       "MasVnrType         8\n",
       "MasVnrArea         8\n",
       "BsmtQual          37\n",
       "BsmtCond          37\n",
       "BsmtExposure      38\n",
       "BsmtFinType1      37\n",
       "BsmtFinType2      38\n",
       "Electrical         1\n",
       "FireplaceQu      690\n",
       "GarageType        81\n",
       "GarageYrBlt       81\n",
       "GarageFinish      81\n",
       "GarageQual        81\n",
       "GarageCond        81\n",
       "PoolQC          1453\n",
       "Fence           1179\n",
       "MiscFeature     1406\n",
       "dtype: int64"
      ]
     },
     "execution_count": 9,
     "metadata": {},
     "output_type": "execute_result"
    }
   ],
   "source": [
    "# Are there missing values?\n",
    "missing_values = X.columns[X.isnull().sum() > 0].tolist()\n",
    "X[missing_values].isnull().sum()"
   ]
  },
  {
   "cell_type": "code",
   "execution_count": 10,
   "id": "87743d9c",
   "metadata": {},
   "outputs": [
    {
     "data": {
      "text/plain": [
       "0"
      ]
     },
     "execution_count": 10,
     "metadata": {},
     "output_type": "execute_result"
    }
   ],
   "source": [
    "y.isnull().sum()"
   ]
  },
  {
   "cell_type": "code",
   "execution_count": 11,
   "id": "9943d93f",
   "metadata": {},
   "outputs": [
    {
     "name": "stdout",
     "output_type": "stream",
     "text": [
      "Index(['Id', 'MSSubClass', 'MSZoning', 'LotArea', 'Street', 'LotShape',\n",
      "       'LandContour', 'Utilities', 'LotConfig', 'LandSlope', 'Neighborhood',\n",
      "       'Condition1', 'Condition2', 'BldgType', 'HouseStyle', 'OverallQual',\n",
      "       'OverallCond', 'YearBuilt', 'YearRemodAdd', 'RoofStyle', 'RoofMatl',\n",
      "       'Exterior1st', 'Exterior2nd', 'ExterQual', 'ExterCond', 'Foundation',\n",
      "       'BsmtFinSF1', 'BsmtFinSF2', 'BsmtUnfSF', 'TotalBsmtSF', 'Heating',\n",
      "       'HeatingQC', 'CentralAir', '1stFlrSF', '2ndFlrSF', 'LowQualFinSF',\n",
      "       'GrLivArea', 'BsmtFullBath', 'BsmtHalfBath', 'FullBath', 'HalfBath',\n",
      "       'BedroomAbvGr', 'KitchenAbvGr', 'KitchenQual', 'TotRmsAbvGrd',\n",
      "       'Functional', 'Fireplaces', 'GarageCars', 'GarageArea', 'PavedDrive',\n",
      "       'WoodDeckSF', 'OpenPorchSF', 'EnclosedPorch', '3SsnPorch',\n",
      "       'ScreenPorch', 'PoolArea', 'MiscVal', 'MoSold', 'YrSold', 'SaleType',\n",
      "       'SaleCondition'],\n",
      "      dtype='object')\n",
      "Numerical columns: 34\n",
      "Categorical columns: 27\n",
      "Total: 61  Valid:  True\n"
     ]
    }
   ],
   "source": [
    "# Lets see straight ahead what can we achieve when considering all the features.\n",
    "# We'll ignore for now the features with missing values.\n",
    "\n",
    "### Pre-process data\n",
    "\n",
    "# Separate data Xm will be X without features with missing values\n",
    "Xm = X.drop(columns=missing_values)\n",
    "print(Xm.columns)\n",
    "\n",
    "# Select the numerical columns\n",
    "numerical_columns = Xm.select_dtypes(include=['int', 'float']).columns\n",
    "X_num = Xm.loc[:, numerical_columns]\n",
    "\n",
    "# Select the categorical columns\n",
    "categorical_columns = Xm.select_dtypes(include=['object']).columns\n",
    "X_cat = Xm.loc[:, categorical_columns]\n",
    "\n",
    "print('Numerical columns:', numerical_columns.size)\n",
    "print('Categorical columns:', categorical_columns.size)\n",
    "print('Total:', categorical_columns.size + numerical_columns.size, \" Valid: \", Xm.shape[1] == categorical_columns.size + numerical_columns.size)"
   ]
  },
  {
   "cell_type": "code",
   "execution_count": 12,
   "id": "7a02f2dd",
   "metadata": {},
   "outputs": [
    {
     "data": {
      "text/plain": [
       "(Index(['Id', 'MSSubClass', 'LotArea', 'OverallQual', 'OverallCond',\n",
       "        'YearBuilt', 'YearRemodAdd', 'BsmtFinSF1', 'BsmtFinSF2', 'BsmtUnfSF',\n",
       "        'TotalBsmtSF', '1stFlrSF', '2ndFlrSF', 'LowQualFinSF', 'GrLivArea',\n",
       "        'BsmtFullBath', 'BsmtHalfBath', 'FullBath', 'HalfBath', 'BedroomAbvGr',\n",
       "        'KitchenAbvGr', 'TotRmsAbvGrd', 'Fireplaces', 'GarageCars',\n",
       "        'GarageArea', 'WoodDeckSF', 'OpenPorchSF', 'EnclosedPorch', '3SsnPorch',\n",
       "        'ScreenPorch', 'PoolArea', 'MiscVal', 'MoSold', 'YrSold'],\n",
       "       dtype='object'),\n",
       " Index(['MSZoning', 'Street', 'LotShape', 'LandContour', 'Utilities',\n",
       "        'LotConfig', 'LandSlope', 'Neighborhood', 'Condition1', 'Condition2',\n",
       "        'BldgType', 'HouseStyle', 'RoofStyle', 'RoofMatl', 'Exterior1st',\n",
       "        'Exterior2nd', 'ExterQual', 'ExterCond', 'Foundation', 'Heating',\n",
       "        'HeatingQC', 'CentralAir', 'KitchenQual', 'Functional', 'PavedDrive',\n",
       "        'SaleType', 'SaleCondition'],\n",
       "       dtype='object'))"
      ]
     },
     "execution_count": 12,
     "metadata": {},
     "output_type": "execute_result"
    }
   ],
   "source": [
    "numerical_columns, categorical_columns"
   ]
  },
  {
   "cell_type": "markdown",
   "id": "194f6f82",
   "metadata": {},
   "source": [
    "- Scaling numerical data is pretty straightforward, we have to standarize data so the data looks like a standart distribution which makes data comparable and so, machine learning estimators can behave as intended.\n",
    "- Encoding categorical features is a bit more complicated, because we have to decide if we are going to encode it with an ordinal encoder or not. So for this experiment, I'm gonna go with just get dummies wich is for non ordinal encoding. Which means its going to create new columns with only 0 and 1, instead of turning the labels into a column with 0, 1, 2, 3... because if I do that, the model might learn that 3 > 1 which is not the case for example with colors."
   ]
  },
  {
   "cell_type": "code",
   "execution_count": 13,
   "id": "6be7bc21",
   "metadata": {},
   "outputs": [],
   "source": [
    "# Preprocess the numerical features\n",
    "scaler = StandardScaler()\n",
    "\n",
    "X_num = scaler.fit_transform(X_num)\n",
    "\n",
    "# Encode the categorical features\n",
    "X_cat = pd.get_dummies(X_cat)"
   ]
  },
  {
   "cell_type": "code",
   "execution_count": 14,
   "id": "6038219b",
   "metadata": {},
   "outputs": [
    {
     "name": "stdout",
     "output_type": "stream",
     "text": [
      "(1460, 34) (1460, 182)\n"
     ]
    }
   ],
   "source": [
    "print(X_num.shape, X_cat.shape)"
   ]
  },
  {
   "cell_type": "code",
   "execution_count": 15,
   "id": "03bfe399",
   "metadata": {},
   "outputs": [
    {
     "data": {
      "text/plain": [
       "(1460, 216)"
      ]
     },
     "execution_count": 15,
     "metadata": {},
     "output_type": "execute_result"
    }
   ],
   "source": [
    "X_merged = pd.concat([pd.DataFrame(X_num, columns=numerical_columns), pd.DataFrame(X_cat)], axis=1)\n",
    "X_merged.shape"
   ]
  },
  {
   "cell_type": "code",
   "execution_count": 16,
   "id": "add05fb5",
   "metadata": {},
   "outputs": [],
   "source": [
    "X_train, X_test, y_train, y_test = train_test_split(X_merged, y, test_size=0.2, random_state=0)"
   ]
  },
  {
   "cell_type": "code",
   "execution_count": 17,
   "id": "5cc6639d",
   "metadata": {
    "scrolled": true
   },
   "outputs": [
    {
     "name": "stdout",
     "output_type": "stream",
     "text": [
      "(1168, 216) (292, 216) (1168,) (292,)\n"
     ]
    }
   ],
   "source": [
    "print(X_train.shape, X_test.shape, y_train.shape, y_test.shape)"
   ]
  },
  {
   "cell_type": "code",
   "execution_count": 18,
   "id": "a3a6561c",
   "metadata": {
    "scrolled": true
   },
   "outputs": [
    {
     "name": "stdout",
     "output_type": "stream",
     "text": [
      "int64 int64\n"
     ]
    }
   ],
   "source": [
    "print(y_train.dtype, y_test.dtype)"
   ]
  },
  {
   "cell_type": "code",
   "execution_count": 19,
   "id": "4de63755",
   "metadata": {},
   "outputs": [],
   "source": [
    "# Choose a regression algorithm\n",
    "regressor = LinearRegression()\n",
    "\n",
    "# Train the regression model\n",
    "regressor.fit(X_train, y_train);"
   ]
  },
  {
   "cell_type": "code",
   "execution_count": 20,
   "id": "1e4c46b5",
   "metadata": {},
   "outputs": [
    {
     "name": "stdout",
     "output_type": "stream",
     "text": [
      "(292,) (292,)\n",
      "Mean Squared Error: 4323736233256735788303908864.00\n",
      "Mean Absolute Error: 8226226617921.66\n"
     ]
    }
   ],
   "source": [
    "# Evaluate the performance of the model\n",
    "y_pred = regressor.predict(X_test)\n",
    "print(y_test.shape, y_test.shape)\n",
    "results = pd.DataFrame(\n",
    "    np.concatenate(\n",
    "        (\n",
    "            y_test.to_numpy().reshape(len(y_test), 1),\n",
    "            y_pred.reshape(len(y_pred), 1)\n",
    "\n",
    "        ), axis=1),\n",
    "    columns=[\"Original\", \"Predicted\"]\n",
    "    )\n",
    "\n",
    "mse = mean_squared_error(y_test, y_pred)\n",
    "mae = mean_absolute_error(y_test, y_pred)\n",
    "\n",
    "print(f'Mean Squared Error: {mse:0.2f}')\n",
    "print(f'Mean Absolute Error: {mae:0.2f}')"
   ]
  },
  {
   "cell_type": "code",
   "execution_count": 21,
   "id": "2f1d00d5",
   "metadata": {},
   "outputs": [
    {
     "data": {
      "text/plain": [
       "(    Original  Predicted\n",
       " 0   200624.0   275109.0\n",
       " 1   133000.0   145210.0\n",
       " 2   110000.0   117224.0\n",
       " 3   192000.0   216340.0\n",
       " 4    88000.0    98508.0\n",
       " ..       ...        ...\n",
       " 95  157000.0   166554.0\n",
       " 96  213000.0   213814.0\n",
       " 97  185000.0   163470.0\n",
       " 98  124500.0   106210.0\n",
       " 99  162900.0   158950.0\n",
       " \n",
       " [100 rows x 2 columns],\n",
       "      Original  Predicted\n",
       " 100  260000.0   249340.0\n",
       " 101  198500.0   236068.0\n",
       " 102  120000.0   112726.0\n",
       " 103  159500.0   152850.0\n",
       " 104  105900.0   105946.0\n",
       " ..        ...        ...\n",
       " 195  142500.0   150840.0\n",
       " 196   80000.0    65056.0\n",
       " 197  145000.0   144488.0\n",
       " 198  171000.0   171700.0\n",
       " 199  122500.0   118338.0\n",
       " \n",
       " [100 rows x 2 columns],\n",
       "      Original  Predicted\n",
       " 200  139000.0   116426.0\n",
       " 201  189000.0   219712.0\n",
       " 202  120500.0   114692.0\n",
       " 203  124000.0   132612.0\n",
       " 204  160000.0   110126.0\n",
       " ..        ...        ...\n",
       " 287  324000.0   284284.0\n",
       " 288  555000.0   460834.0\n",
       " 289  136000.0   264300.0\n",
       " 290   82500.0   127678.0\n",
       " 291  101000.0   101224.0\n",
       " \n",
       " [92 rows x 2 columns])"
      ]
     },
     "execution_count": 21,
     "metadata": {},
     "output_type": "execute_result"
    }
   ],
   "source": [
    "# Baseline approach results\n",
    "results[0:100], results[100:200], results[200:]"
   ]
  },
  {
   "cell_type": "markdown",
   "id": "12039923",
   "metadata": {},
   "source": [
    "- It shows a very big number for the MSE as well as MAE, and that's because the target data is in it's original price value, but if we look at the predictions, doesn't look so off the original value considering we haven't touched too much the data.\n",
    "- So after we are done with cleaning most of the data, we'll start trying some feature selection techniques and other models."
   ]
  },
  {
   "cell_type": "code",
   "execution_count": 123,
   "id": "eba542be",
   "metadata": {},
   "outputs": [
    {
     "data": {
      "text/plain": [
       "(34900, 755000)"
      ]
     },
     "execution_count": 123,
     "metadata": {},
     "output_type": "execute_result"
    }
   ],
   "source": [
    "# Some min max data of prices\n",
    "min(y), max(y)"
   ]
  },
  {
   "cell_type": "markdown",
   "id": "9381b925",
   "metadata": {},
   "source": [
    "## Part 2: Missing data\n",
    "- We trained a simple regression model using all the data that had no missing values.\n",
    "- But if we look at the missing data, there are some features that have only few missing parts that could be imputed so we have more features available."
   ]
  },
  {
   "cell_type": "code",
   "execution_count": 22,
   "id": "97896e0e",
   "metadata": {},
   "outputs": [
    {
     "data": {
      "text/plain": [
       "LotFrontage      259\n",
       "Alley           1369\n",
       "MasVnrType         8\n",
       "MasVnrArea         8\n",
       "BsmtQual          37\n",
       "BsmtCond          37\n",
       "BsmtExposure      38\n",
       "BsmtFinType1      37\n",
       "BsmtFinType2      38\n",
       "Electrical         1\n",
       "FireplaceQu      690\n",
       "GarageType        81\n",
       "GarageYrBlt       81\n",
       "GarageFinish      81\n",
       "GarageQual        81\n",
       "GarageCond        81\n",
       "PoolQC          1453\n",
       "Fence           1179\n",
       "MiscFeature     1406\n",
       "dtype: int64"
      ]
     },
     "execution_count": 22,
     "metadata": {},
     "output_type": "execute_result"
    }
   ],
   "source": [
    "X[missing_values].isnull().sum()"
   ]
  },
  {
   "cell_type": "code",
   "execution_count": 23,
   "id": "cb86067f",
   "metadata": {},
   "outputs": [
    {
     "name": "stdout",
     "output_type": "stream",
     "text": [
      "['BsmtCond' 'BsmtExposure' 'BsmtFinType1' 'BsmtFinType2' 'BsmtQual'\n",
      " 'Electrical' 'GarageCond' 'GarageFinish' 'GarageQual' 'GarageType'\n",
      " 'GarageYrBlt' 'MasVnrArea' 'MasVnrType']\n"
     ]
    }
   ],
   "source": [
    "# Lets say we want to take into account these extra data\n",
    "# Let's consider the ones with less than 100 missing points.\n",
    "\n",
    "incomplete = X.columns[X.isnull().sum() > 0].tolist()\n",
    "incomplete100 = X.columns[X.isnull().sum() <= 100].tolist()\n",
    "incomplete_columns = list(set(incomplete) & set(incomplete100))\n",
    "print(np.sort(incomplete_columns))"
   ]
  },
  {
   "cell_type": "code",
   "execution_count": 24,
   "id": "5921f6cf",
   "metadata": {},
   "outputs": [
    {
     "data": {
      "text/html": [
       "<div>\n",
       "<style scoped>\n",
       "    .dataframe tbody tr th:only-of-type {\n",
       "        vertical-align: middle;\n",
       "    }\n",
       "\n",
       "    .dataframe tbody tr th {\n",
       "        vertical-align: top;\n",
       "    }\n",
       "\n",
       "    .dataframe thead th {\n",
       "        text-align: right;\n",
       "    }\n",
       "</style>\n",
       "<table border=\"1\" class=\"dataframe\">\n",
       "  <thead>\n",
       "    <tr style=\"text-align: right;\">\n",
       "      <th></th>\n",
       "      <th>BsmtFinType1</th>\n",
       "      <th>MasVnrArea</th>\n",
       "      <th>GarageYrBlt</th>\n",
       "      <th>MasVnrType</th>\n",
       "      <th>BsmtQual</th>\n",
       "      <th>GarageType</th>\n",
       "      <th>GarageFinish</th>\n",
       "      <th>GarageQual</th>\n",
       "      <th>BsmtFinType2</th>\n",
       "      <th>BsmtCond</th>\n",
       "      <th>BsmtExposure</th>\n",
       "      <th>GarageCond</th>\n",
       "      <th>Electrical</th>\n",
       "    </tr>\n",
       "  </thead>\n",
       "  <tbody>\n",
       "    <tr>\n",
       "      <th>0</th>\n",
       "      <td>GLQ</td>\n",
       "      <td>196.0</td>\n",
       "      <td>2003.0</td>\n",
       "      <td>BrkFace</td>\n",
       "      <td>Gd</td>\n",
       "      <td>Attchd</td>\n",
       "      <td>RFn</td>\n",
       "      <td>TA</td>\n",
       "      <td>Unf</td>\n",
       "      <td>TA</td>\n",
       "      <td>No</td>\n",
       "      <td>TA</td>\n",
       "      <td>SBrkr</td>\n",
       "    </tr>\n",
       "    <tr>\n",
       "      <th>1</th>\n",
       "      <td>ALQ</td>\n",
       "      <td>0.0</td>\n",
       "      <td>1976.0</td>\n",
       "      <td>None</td>\n",
       "      <td>Gd</td>\n",
       "      <td>Attchd</td>\n",
       "      <td>RFn</td>\n",
       "      <td>TA</td>\n",
       "      <td>Unf</td>\n",
       "      <td>TA</td>\n",
       "      <td>Gd</td>\n",
       "      <td>TA</td>\n",
       "      <td>SBrkr</td>\n",
       "    </tr>\n",
       "    <tr>\n",
       "      <th>2</th>\n",
       "      <td>GLQ</td>\n",
       "      <td>162.0</td>\n",
       "      <td>2001.0</td>\n",
       "      <td>BrkFace</td>\n",
       "      <td>Gd</td>\n",
       "      <td>Attchd</td>\n",
       "      <td>RFn</td>\n",
       "      <td>TA</td>\n",
       "      <td>Unf</td>\n",
       "      <td>TA</td>\n",
       "      <td>Mn</td>\n",
       "      <td>TA</td>\n",
       "      <td>SBrkr</td>\n",
       "    </tr>\n",
       "    <tr>\n",
       "      <th>3</th>\n",
       "      <td>ALQ</td>\n",
       "      <td>0.0</td>\n",
       "      <td>1998.0</td>\n",
       "      <td>None</td>\n",
       "      <td>TA</td>\n",
       "      <td>Detchd</td>\n",
       "      <td>Unf</td>\n",
       "      <td>TA</td>\n",
       "      <td>Unf</td>\n",
       "      <td>Gd</td>\n",
       "      <td>No</td>\n",
       "      <td>TA</td>\n",
       "      <td>SBrkr</td>\n",
       "    </tr>\n",
       "    <tr>\n",
       "      <th>4</th>\n",
       "      <td>GLQ</td>\n",
       "      <td>350.0</td>\n",
       "      <td>2000.0</td>\n",
       "      <td>BrkFace</td>\n",
       "      <td>Gd</td>\n",
       "      <td>Attchd</td>\n",
       "      <td>RFn</td>\n",
       "      <td>TA</td>\n",
       "      <td>Unf</td>\n",
       "      <td>TA</td>\n",
       "      <td>Av</td>\n",
       "      <td>TA</td>\n",
       "      <td>SBrkr</td>\n",
       "    </tr>\n",
       "    <tr>\n",
       "      <th>...</th>\n",
       "      <td>...</td>\n",
       "      <td>...</td>\n",
       "      <td>...</td>\n",
       "      <td>...</td>\n",
       "      <td>...</td>\n",
       "      <td>...</td>\n",
       "      <td>...</td>\n",
       "      <td>...</td>\n",
       "      <td>...</td>\n",
       "      <td>...</td>\n",
       "      <td>...</td>\n",
       "      <td>...</td>\n",
       "      <td>...</td>\n",
       "    </tr>\n",
       "    <tr>\n",
       "      <th>1455</th>\n",
       "      <td>Unf</td>\n",
       "      <td>0.0</td>\n",
       "      <td>1999.0</td>\n",
       "      <td>None</td>\n",
       "      <td>Gd</td>\n",
       "      <td>Attchd</td>\n",
       "      <td>RFn</td>\n",
       "      <td>TA</td>\n",
       "      <td>Unf</td>\n",
       "      <td>TA</td>\n",
       "      <td>No</td>\n",
       "      <td>TA</td>\n",
       "      <td>SBrkr</td>\n",
       "    </tr>\n",
       "    <tr>\n",
       "      <th>1456</th>\n",
       "      <td>ALQ</td>\n",
       "      <td>119.0</td>\n",
       "      <td>1978.0</td>\n",
       "      <td>Stone</td>\n",
       "      <td>Gd</td>\n",
       "      <td>Attchd</td>\n",
       "      <td>Unf</td>\n",
       "      <td>TA</td>\n",
       "      <td>Rec</td>\n",
       "      <td>TA</td>\n",
       "      <td>No</td>\n",
       "      <td>TA</td>\n",
       "      <td>SBrkr</td>\n",
       "    </tr>\n",
       "    <tr>\n",
       "      <th>1457</th>\n",
       "      <td>GLQ</td>\n",
       "      <td>0.0</td>\n",
       "      <td>1941.0</td>\n",
       "      <td>None</td>\n",
       "      <td>TA</td>\n",
       "      <td>Attchd</td>\n",
       "      <td>RFn</td>\n",
       "      <td>TA</td>\n",
       "      <td>Unf</td>\n",
       "      <td>Gd</td>\n",
       "      <td>No</td>\n",
       "      <td>TA</td>\n",
       "      <td>SBrkr</td>\n",
       "    </tr>\n",
       "    <tr>\n",
       "      <th>1458</th>\n",
       "      <td>GLQ</td>\n",
       "      <td>0.0</td>\n",
       "      <td>1950.0</td>\n",
       "      <td>None</td>\n",
       "      <td>TA</td>\n",
       "      <td>Attchd</td>\n",
       "      <td>Unf</td>\n",
       "      <td>TA</td>\n",
       "      <td>Rec</td>\n",
       "      <td>TA</td>\n",
       "      <td>Mn</td>\n",
       "      <td>TA</td>\n",
       "      <td>FuseA</td>\n",
       "    </tr>\n",
       "    <tr>\n",
       "      <th>1459</th>\n",
       "      <td>BLQ</td>\n",
       "      <td>0.0</td>\n",
       "      <td>1965.0</td>\n",
       "      <td>None</td>\n",
       "      <td>TA</td>\n",
       "      <td>Attchd</td>\n",
       "      <td>Fin</td>\n",
       "      <td>TA</td>\n",
       "      <td>LwQ</td>\n",
       "      <td>TA</td>\n",
       "      <td>No</td>\n",
       "      <td>TA</td>\n",
       "      <td>SBrkr</td>\n",
       "    </tr>\n",
       "  </tbody>\n",
       "</table>\n",
       "<p>1460 rows × 13 columns</p>\n",
       "</div>"
      ],
      "text/plain": [
       "     BsmtFinType1  MasVnrArea  GarageYrBlt MasVnrType BsmtQual GarageType  \\\n",
       "0             GLQ       196.0       2003.0    BrkFace       Gd     Attchd   \n",
       "1             ALQ         0.0       1976.0       None       Gd     Attchd   \n",
       "2             GLQ       162.0       2001.0    BrkFace       Gd     Attchd   \n",
       "3             ALQ         0.0       1998.0       None       TA     Detchd   \n",
       "4             GLQ       350.0       2000.0    BrkFace       Gd     Attchd   \n",
       "...           ...         ...          ...        ...      ...        ...   \n",
       "1455          Unf         0.0       1999.0       None       Gd     Attchd   \n",
       "1456          ALQ       119.0       1978.0      Stone       Gd     Attchd   \n",
       "1457          GLQ         0.0       1941.0       None       TA     Attchd   \n",
       "1458          GLQ         0.0       1950.0       None       TA     Attchd   \n",
       "1459          BLQ         0.0       1965.0       None       TA     Attchd   \n",
       "\n",
       "     GarageFinish GarageQual BsmtFinType2 BsmtCond BsmtExposure GarageCond  \\\n",
       "0             RFn         TA          Unf       TA           No         TA   \n",
       "1             RFn         TA          Unf       TA           Gd         TA   \n",
       "2             RFn         TA          Unf       TA           Mn         TA   \n",
       "3             Unf         TA          Unf       Gd           No         TA   \n",
       "4             RFn         TA          Unf       TA           Av         TA   \n",
       "...           ...        ...          ...      ...          ...        ...   \n",
       "1455          RFn         TA          Unf       TA           No         TA   \n",
       "1456          Unf         TA          Rec       TA           No         TA   \n",
       "1457          RFn         TA          Unf       Gd           No         TA   \n",
       "1458          Unf         TA          Rec       TA           Mn         TA   \n",
       "1459          Fin         TA          LwQ       TA           No         TA   \n",
       "\n",
       "     Electrical  \n",
       "0         SBrkr  \n",
       "1         SBrkr  \n",
       "2         SBrkr  \n",
       "3         SBrkr  \n",
       "4         SBrkr  \n",
       "...         ...  \n",
       "1455      SBrkr  \n",
       "1456      SBrkr  \n",
       "1457      SBrkr  \n",
       "1458      FuseA  \n",
       "1459      SBrkr  \n",
       "\n",
       "[1460 rows x 13 columns]"
      ]
     },
     "execution_count": 24,
     "metadata": {},
     "output_type": "execute_result"
    }
   ],
   "source": [
    "X[incomplete_columns]"
   ]
  },
  {
   "cell_type": "markdown",
   "id": "e1a71d37",
   "metadata": {},
   "source": [
    "- Let's take a look at the descriptions for each one\n",
    "\n",
    "1. 'BsmtCond': Evaluates the general condition of the basement\n",
    "2. 'BsmtExposure': Refers to walkout or garden level walls\n",
    "3. 'BsmtFinType1': Rating of basement finished area\n",
    "4. 'BsmtFinType2': Rating of basement finished area (if multiple types)\n",
    "5. 'BsmtQual': Height of the basement\n",
    "6. 'Electrical': Electrical system\n",
    "7. 'GarageCond': Garage condition\n",
    "8. 'GarageFinish': Interior finish of the garage\n",
    "9. 'GarageQual': Garage quality\n",
    "10. 'GarageType': Garage location\n",
    "11. 'GarageYrBlt': Year garage was built\n",
    "12. 'MasVnrArea': Masonry veneer area in square feet\n",
    "13. 'MasVnrType': Masonry veneer type\n",
    "    \n",
    " \n",
    " - So at first glance, appears obvious that the missing data could be because the house doesn't have a basement or garage. The electrical system seems a bit less obvious one, and might be because of actual missing data because it's just 1 data that has no electrical system. I don't actually know about masonry veneer so I had to ask my friend ChatGPT which said:\n",
    " \n",
    "   Masonry veneer is a type of exterior cladding that provides a **beautiful and durable finish** to a building's façade. There are several types of masonry veneer, including:\n",
    "\n",
    "    **Brick veneer**: This is the most common type of masonry veneer. It is made up of a layer of bricks that are placed over a frame or wall. The bricks are typically held in place with mortar.\n",
    "\n",
    "    **Stone veneer**: This type of veneer is made up of thin pieces of natural or manufactured stone that are attached to a frame or wall. Stone veneer can be used to achieve a wide range of aesthetic styles, from rustic to modern.\n",
    "\n",
    "    **Stucco veneer**: Stucco is a mixture of cement, sand, and water that is applied to a wall or frame to create a smooth or textured finish. Stucco veneer can be colored and textured to mimic the appearance of other types of masonry.\n",
    "\n",
    "    **Concrete block veneer**: Concrete blocks can be used as a veneer to achieve a modern, industrial look. The blocks can be left unfinished or painted to create a specific aesthetic.\n",
    "\n",
    "    **Terra cotta veneer**: Terra cotta is a type of clay that can be molded into various shapes and sizes. Terra cotta veneer is a lightweight option that is often used for decorative features, such as window surrounds or cornices."
   ]
  },
  {
   "cell_type": "code",
   "execution_count": 25,
   "id": "0c82a565",
   "metadata": {},
   "outputs": [
    {
     "data": {
      "text/plain": [
       "array(['BrkFace', 'None', 'Stone', 'BrkCmn', nan], dtype=object)"
      ]
     },
     "execution_count": 25,
     "metadata": {},
     "output_type": "execute_result"
    }
   ],
   "source": [
    "# Processing: MasVnrType & MasVnrArea\n",
    "X['MasVnrType'].unique()"
   ]
  },
  {
   "cell_type": "code",
   "execution_count": 26,
   "id": "341966e8",
   "metadata": {},
   "outputs": [
    {
     "data": {
      "text/plain": [
       "234    NaN\n",
       "529    NaN\n",
       "650    NaN\n",
       "936    NaN\n",
       "973    NaN\n",
       "977    NaN\n",
       "1243   NaN\n",
       "1278   NaN\n",
       "Name: MasVnrArea, dtype: float64"
      ]
     },
     "execution_count": 26,
     "metadata": {},
     "output_type": "execute_result"
    }
   ],
   "source": [
    "X[X['MasVnrType'].isnull()]['MasVnrArea']"
   ]
  },
  {
   "cell_type": "markdown",
   "id": "c65227a1",
   "metadata": {},
   "source": [
    "- In this case we have in MasVnrType a category 'None' which we could use it to default the missing values, and for MasVnrArea we also can see in the data that some have 0.0, which could also work as a default value. We also don't have any more data about the masonry veneer to make us think that there is missing data and instead of 0 or None it could be another category, so best way would be set the values to default.\n",
    "- Also happens that missing data from 'MasVnrArea' are the same rows, so we can default it to 0."
   ]
  },
  {
   "cell_type": "code",
   "execution_count": 27,
   "id": "87c0b151",
   "metadata": {},
   "outputs": [
    {
     "data": {
      "text/plain": [
       "(0, 0)"
      ]
     },
     "execution_count": 27,
     "metadata": {},
     "output_type": "execute_result"
    }
   ],
   "source": [
    "X.loc[X['MasVnrType'].isnull(), 'MasVnrType'] = 'None'\n",
    "X.loc[X['MasVnrArea'].isnull(), 'MasVnrArea'] = 0.0\n",
    "X['MasVnrType'].isnull().sum(), X['MasVnrType'].isnull().sum()"
   ]
  },
  {
   "cell_type": "code",
   "execution_count": 28,
   "id": "7d829936",
   "metadata": {},
   "outputs": [
    {
     "data": {
      "text/plain": [
       "(SBrkr    1334\n",
       " FuseA      94\n",
       " FuseF      27\n",
       " FuseP       3\n",
       " Mix         1\n",
       " Name: Electrical, dtype: int64,\n",
       " array(['SBrkr', 'FuseF', 'FuseA', 'FuseP', 'Mix', nan], dtype=object))"
      ]
     },
     "execution_count": 28,
     "metadata": {},
     "output_type": "execute_result"
    }
   ],
   "source": [
    "# Processing: Electrical\n",
    "X['Electrical'].value_counts(), X['Electrical'].unique()"
   ]
  },
  {
   "cell_type": "code",
   "execution_count": 29,
   "id": "a576a2b9",
   "metadata": {},
   "outputs": [
    {
     "data": {
      "text/plain": [
       "(        Id  MSSubClass MSZoning  LotFrontage  LotArea Street Alley LotShape  \\\n",
       " 1379  1380          80       RL         73.0     9735   Pave   NaN      Reg   \n",
       " \n",
       "      LandContour Utilities  ... ScreenPorch PoolArea PoolQC Fence MiscFeature  \\\n",
       " 1379         Lvl    AllPub  ...           0        0    NaN   NaN         NaN   \n",
       " \n",
       "      MiscVal MoSold  YrSold  SaleType  SaleCondition  \n",
       " 1379       0      5    2008        WD         Normal  \n",
       " \n",
       " [1 rows x 80 columns],\n",
       " 1379    167500\n",
       " Name: SalePrice, dtype: int64)"
      ]
     },
     "execution_count": 29,
     "metadata": {},
     "output_type": "execute_result"
    }
   ],
   "source": [
    "# Let's print this 1 row\n",
    "X[X['Electrical'].isnull()], y[X['Electrical'].isnull()]\n",
    "# We can see that it has the Utilities feature set to 'AllPub': All public Utilities (E,G,W,& S).\n",
    "# I wouldn't mess much with only 1 datapoint\n",
    "# so I'll set it to the average Electrical System: SBrkr Standard Circuit Breakers & Romex"
   ]
  },
  {
   "cell_type": "code",
   "execution_count": 30,
   "id": "e855430c",
   "metadata": {},
   "outputs": [
    {
     "data": {
      "text/plain": [
       "0"
      ]
     },
     "execution_count": 30,
     "metadata": {},
     "output_type": "execute_result"
    }
   ],
   "source": [
    "X.loc[X['Electrical'].isnull(), 'Electrical'] = 'SBrkr'\n",
    "X['Electrical'].isnull().sum()"
   ]
  },
  {
   "cell_type": "code",
   "execution_count": 31,
   "id": "cd6b24db",
   "metadata": {},
   "outputs": [
    {
     "data": {
      "text/plain": [
       "BsmtCond        37\n",
       "BsmtExposure    38\n",
       "BsmtFinType1    37\n",
       "BsmtFinType2    38\n",
       "BsmtQual        37\n",
       "dtype: int64"
      ]
     },
     "execution_count": 31,
     "metadata": {},
     "output_type": "execute_result"
    }
   ],
   "source": [
    "# Processing: Basement\n",
    "bsmt_columns = ['BsmtCond', 'BsmtExposure', 'BsmtFinType1', 'BsmtFinType2', 'BsmtQual']\n",
    "X[bsmt_columns].isnull().sum()"
   ]
  },
  {
   "cell_type": "code",
   "execution_count": 32,
   "id": "636646e7",
   "metadata": {},
   "outputs": [
    {
     "data": {
      "text/html": [
       "<div>\n",
       "<style scoped>\n",
       "    .dataframe tbody tr th:only-of-type {\n",
       "        vertical-align: middle;\n",
       "    }\n",
       "\n",
       "    .dataframe tbody tr th {\n",
       "        vertical-align: top;\n",
       "    }\n",
       "\n",
       "    .dataframe thead th {\n",
       "        text-align: right;\n",
       "    }\n",
       "</style>\n",
       "<table border=\"1\" class=\"dataframe\">\n",
       "  <thead>\n",
       "    <tr style=\"text-align: right;\">\n",
       "      <th></th>\n",
       "      <th>BsmtCond</th>\n",
       "      <th>BsmtExposure</th>\n",
       "      <th>BsmtFinType1</th>\n",
       "      <th>BsmtFinType2</th>\n",
       "      <th>BsmtQual</th>\n",
       "    </tr>\n",
       "  </thead>\n",
       "  <tbody>\n",
       "    <tr>\n",
       "      <th>17</th>\n",
       "      <td>NaN</td>\n",
       "      <td>NaN</td>\n",
       "      <td>NaN</td>\n",
       "      <td>NaN</td>\n",
       "      <td>NaN</td>\n",
       "    </tr>\n",
       "    <tr>\n",
       "      <th>39</th>\n",
       "      <td>NaN</td>\n",
       "      <td>NaN</td>\n",
       "      <td>NaN</td>\n",
       "      <td>NaN</td>\n",
       "      <td>NaN</td>\n",
       "    </tr>\n",
       "    <tr>\n",
       "      <th>90</th>\n",
       "      <td>NaN</td>\n",
       "      <td>NaN</td>\n",
       "      <td>NaN</td>\n",
       "      <td>NaN</td>\n",
       "      <td>NaN</td>\n",
       "    </tr>\n",
       "    <tr>\n",
       "      <th>102</th>\n",
       "      <td>NaN</td>\n",
       "      <td>NaN</td>\n",
       "      <td>NaN</td>\n",
       "      <td>NaN</td>\n",
       "      <td>NaN</td>\n",
       "    </tr>\n",
       "    <tr>\n",
       "      <th>156</th>\n",
       "      <td>NaN</td>\n",
       "      <td>NaN</td>\n",
       "      <td>NaN</td>\n",
       "      <td>NaN</td>\n",
       "      <td>NaN</td>\n",
       "    </tr>\n",
       "    <tr>\n",
       "      <th>182</th>\n",
       "      <td>NaN</td>\n",
       "      <td>NaN</td>\n",
       "      <td>NaN</td>\n",
       "      <td>NaN</td>\n",
       "      <td>NaN</td>\n",
       "    </tr>\n",
       "    <tr>\n",
       "      <th>259</th>\n",
       "      <td>NaN</td>\n",
       "      <td>NaN</td>\n",
       "      <td>NaN</td>\n",
       "      <td>NaN</td>\n",
       "      <td>NaN</td>\n",
       "    </tr>\n",
       "    <tr>\n",
       "      <th>342</th>\n",
       "      <td>NaN</td>\n",
       "      <td>NaN</td>\n",
       "      <td>NaN</td>\n",
       "      <td>NaN</td>\n",
       "      <td>NaN</td>\n",
       "    </tr>\n",
       "    <tr>\n",
       "      <th>362</th>\n",
       "      <td>NaN</td>\n",
       "      <td>NaN</td>\n",
       "      <td>NaN</td>\n",
       "      <td>NaN</td>\n",
       "      <td>NaN</td>\n",
       "    </tr>\n",
       "    <tr>\n",
       "      <th>371</th>\n",
       "      <td>NaN</td>\n",
       "      <td>NaN</td>\n",
       "      <td>NaN</td>\n",
       "      <td>NaN</td>\n",
       "      <td>NaN</td>\n",
       "    </tr>\n",
       "    <tr>\n",
       "      <th>392</th>\n",
       "      <td>NaN</td>\n",
       "      <td>NaN</td>\n",
       "      <td>NaN</td>\n",
       "      <td>NaN</td>\n",
       "      <td>NaN</td>\n",
       "    </tr>\n",
       "    <tr>\n",
       "      <th>520</th>\n",
       "      <td>NaN</td>\n",
       "      <td>NaN</td>\n",
       "      <td>NaN</td>\n",
       "      <td>NaN</td>\n",
       "      <td>NaN</td>\n",
       "    </tr>\n",
       "    <tr>\n",
       "      <th>532</th>\n",
       "      <td>NaN</td>\n",
       "      <td>NaN</td>\n",
       "      <td>NaN</td>\n",
       "      <td>NaN</td>\n",
       "      <td>NaN</td>\n",
       "    </tr>\n",
       "    <tr>\n",
       "      <th>533</th>\n",
       "      <td>NaN</td>\n",
       "      <td>NaN</td>\n",
       "      <td>NaN</td>\n",
       "      <td>NaN</td>\n",
       "      <td>NaN</td>\n",
       "    </tr>\n",
       "    <tr>\n",
       "      <th>553</th>\n",
       "      <td>NaN</td>\n",
       "      <td>NaN</td>\n",
       "      <td>NaN</td>\n",
       "      <td>NaN</td>\n",
       "      <td>NaN</td>\n",
       "    </tr>\n",
       "    <tr>\n",
       "      <th>646</th>\n",
       "      <td>NaN</td>\n",
       "      <td>NaN</td>\n",
       "      <td>NaN</td>\n",
       "      <td>NaN</td>\n",
       "      <td>NaN</td>\n",
       "    </tr>\n",
       "    <tr>\n",
       "      <th>705</th>\n",
       "      <td>NaN</td>\n",
       "      <td>NaN</td>\n",
       "      <td>NaN</td>\n",
       "      <td>NaN</td>\n",
       "      <td>NaN</td>\n",
       "    </tr>\n",
       "    <tr>\n",
       "      <th>736</th>\n",
       "      <td>NaN</td>\n",
       "      <td>NaN</td>\n",
       "      <td>NaN</td>\n",
       "      <td>NaN</td>\n",
       "      <td>NaN</td>\n",
       "    </tr>\n",
       "    <tr>\n",
       "      <th>749</th>\n",
       "      <td>NaN</td>\n",
       "      <td>NaN</td>\n",
       "      <td>NaN</td>\n",
       "      <td>NaN</td>\n",
       "      <td>NaN</td>\n",
       "    </tr>\n",
       "    <tr>\n",
       "      <th>778</th>\n",
       "      <td>NaN</td>\n",
       "      <td>NaN</td>\n",
       "      <td>NaN</td>\n",
       "      <td>NaN</td>\n",
       "      <td>NaN</td>\n",
       "    </tr>\n",
       "    <tr>\n",
       "      <th>868</th>\n",
       "      <td>NaN</td>\n",
       "      <td>NaN</td>\n",
       "      <td>NaN</td>\n",
       "      <td>NaN</td>\n",
       "      <td>NaN</td>\n",
       "    </tr>\n",
       "    <tr>\n",
       "      <th>894</th>\n",
       "      <td>NaN</td>\n",
       "      <td>NaN</td>\n",
       "      <td>NaN</td>\n",
       "      <td>NaN</td>\n",
       "      <td>NaN</td>\n",
       "    </tr>\n",
       "    <tr>\n",
       "      <th>897</th>\n",
       "      <td>NaN</td>\n",
       "      <td>NaN</td>\n",
       "      <td>NaN</td>\n",
       "      <td>NaN</td>\n",
       "      <td>NaN</td>\n",
       "    </tr>\n",
       "    <tr>\n",
       "      <th>948</th>\n",
       "      <td>TA</td>\n",
       "      <td>NaN</td>\n",
       "      <td>Unf</td>\n",
       "      <td>Unf</td>\n",
       "      <td>Gd</td>\n",
       "    </tr>\n",
       "    <tr>\n",
       "      <th>984</th>\n",
       "      <td>NaN</td>\n",
       "      <td>NaN</td>\n",
       "      <td>NaN</td>\n",
       "      <td>NaN</td>\n",
       "      <td>NaN</td>\n",
       "    </tr>\n",
       "    <tr>\n",
       "      <th>1000</th>\n",
       "      <td>NaN</td>\n",
       "      <td>NaN</td>\n",
       "      <td>NaN</td>\n",
       "      <td>NaN</td>\n",
       "      <td>NaN</td>\n",
       "    </tr>\n",
       "    <tr>\n",
       "      <th>1011</th>\n",
       "      <td>NaN</td>\n",
       "      <td>NaN</td>\n",
       "      <td>NaN</td>\n",
       "      <td>NaN</td>\n",
       "      <td>NaN</td>\n",
       "    </tr>\n",
       "    <tr>\n",
       "      <th>1035</th>\n",
       "      <td>NaN</td>\n",
       "      <td>NaN</td>\n",
       "      <td>NaN</td>\n",
       "      <td>NaN</td>\n",
       "      <td>NaN</td>\n",
       "    </tr>\n",
       "    <tr>\n",
       "      <th>1045</th>\n",
       "      <td>NaN</td>\n",
       "      <td>NaN</td>\n",
       "      <td>NaN</td>\n",
       "      <td>NaN</td>\n",
       "      <td>NaN</td>\n",
       "    </tr>\n",
       "    <tr>\n",
       "      <th>1048</th>\n",
       "      <td>NaN</td>\n",
       "      <td>NaN</td>\n",
       "      <td>NaN</td>\n",
       "      <td>NaN</td>\n",
       "      <td>NaN</td>\n",
       "    </tr>\n",
       "    <tr>\n",
       "      <th>1049</th>\n",
       "      <td>NaN</td>\n",
       "      <td>NaN</td>\n",
       "      <td>NaN</td>\n",
       "      <td>NaN</td>\n",
       "      <td>NaN</td>\n",
       "    </tr>\n",
       "    <tr>\n",
       "      <th>1090</th>\n",
       "      <td>NaN</td>\n",
       "      <td>NaN</td>\n",
       "      <td>NaN</td>\n",
       "      <td>NaN</td>\n",
       "      <td>NaN</td>\n",
       "    </tr>\n",
       "    <tr>\n",
       "      <th>1179</th>\n",
       "      <td>NaN</td>\n",
       "      <td>NaN</td>\n",
       "      <td>NaN</td>\n",
       "      <td>NaN</td>\n",
       "      <td>NaN</td>\n",
       "    </tr>\n",
       "    <tr>\n",
       "      <th>1216</th>\n",
       "      <td>NaN</td>\n",
       "      <td>NaN</td>\n",
       "      <td>NaN</td>\n",
       "      <td>NaN</td>\n",
       "      <td>NaN</td>\n",
       "    </tr>\n",
       "    <tr>\n",
       "      <th>1218</th>\n",
       "      <td>NaN</td>\n",
       "      <td>NaN</td>\n",
       "      <td>NaN</td>\n",
       "      <td>NaN</td>\n",
       "      <td>NaN</td>\n",
       "    </tr>\n",
       "    <tr>\n",
       "      <th>1232</th>\n",
       "      <td>NaN</td>\n",
       "      <td>NaN</td>\n",
       "      <td>NaN</td>\n",
       "      <td>NaN</td>\n",
       "      <td>NaN</td>\n",
       "    </tr>\n",
       "    <tr>\n",
       "      <th>1321</th>\n",
       "      <td>NaN</td>\n",
       "      <td>NaN</td>\n",
       "      <td>NaN</td>\n",
       "      <td>NaN</td>\n",
       "      <td>NaN</td>\n",
       "    </tr>\n",
       "    <tr>\n",
       "      <th>1412</th>\n",
       "      <td>NaN</td>\n",
       "      <td>NaN</td>\n",
       "      <td>NaN</td>\n",
       "      <td>NaN</td>\n",
       "      <td>NaN</td>\n",
       "    </tr>\n",
       "  </tbody>\n",
       "</table>\n",
       "</div>"
      ],
      "text/plain": [
       "     BsmtCond BsmtExposure BsmtFinType1 BsmtFinType2 BsmtQual\n",
       "17        NaN          NaN          NaN          NaN      NaN\n",
       "39        NaN          NaN          NaN          NaN      NaN\n",
       "90        NaN          NaN          NaN          NaN      NaN\n",
       "102       NaN          NaN          NaN          NaN      NaN\n",
       "156       NaN          NaN          NaN          NaN      NaN\n",
       "182       NaN          NaN          NaN          NaN      NaN\n",
       "259       NaN          NaN          NaN          NaN      NaN\n",
       "342       NaN          NaN          NaN          NaN      NaN\n",
       "362       NaN          NaN          NaN          NaN      NaN\n",
       "371       NaN          NaN          NaN          NaN      NaN\n",
       "392       NaN          NaN          NaN          NaN      NaN\n",
       "520       NaN          NaN          NaN          NaN      NaN\n",
       "532       NaN          NaN          NaN          NaN      NaN\n",
       "533       NaN          NaN          NaN          NaN      NaN\n",
       "553       NaN          NaN          NaN          NaN      NaN\n",
       "646       NaN          NaN          NaN          NaN      NaN\n",
       "705       NaN          NaN          NaN          NaN      NaN\n",
       "736       NaN          NaN          NaN          NaN      NaN\n",
       "749       NaN          NaN          NaN          NaN      NaN\n",
       "778       NaN          NaN          NaN          NaN      NaN\n",
       "868       NaN          NaN          NaN          NaN      NaN\n",
       "894       NaN          NaN          NaN          NaN      NaN\n",
       "897       NaN          NaN          NaN          NaN      NaN\n",
       "948        TA          NaN          Unf          Unf       Gd\n",
       "984       NaN          NaN          NaN          NaN      NaN\n",
       "1000      NaN          NaN          NaN          NaN      NaN\n",
       "1011      NaN          NaN          NaN          NaN      NaN\n",
       "1035      NaN          NaN          NaN          NaN      NaN\n",
       "1045      NaN          NaN          NaN          NaN      NaN\n",
       "1048      NaN          NaN          NaN          NaN      NaN\n",
       "1049      NaN          NaN          NaN          NaN      NaN\n",
       "1090      NaN          NaN          NaN          NaN      NaN\n",
       "1179      NaN          NaN          NaN          NaN      NaN\n",
       "1216      NaN          NaN          NaN          NaN      NaN\n",
       "1218      NaN          NaN          NaN          NaN      NaN\n",
       "1232      NaN          NaN          NaN          NaN      NaN\n",
       "1321      NaN          NaN          NaN          NaN      NaN\n",
       "1412      NaN          NaN          NaN          NaN      NaN"
      ]
     },
     "execution_count": 32,
     "metadata": {},
     "output_type": "execute_result"
    }
   ],
   "source": [
    "X[bsmt_columns][X['BsmtExposure'].isnull()] # I use basement exposure because has 38 missing values"
   ]
  },
  {
   "cell_type": "code",
   "execution_count": 33,
   "id": "1412f7f1",
   "metadata": {},
   "outputs": [
    {
     "data": {
      "text/html": [
       "<div>\n",
       "<style scoped>\n",
       "    .dataframe tbody tr th:only-of-type {\n",
       "        vertical-align: middle;\n",
       "    }\n",
       "\n",
       "    .dataframe tbody tr th {\n",
       "        vertical-align: top;\n",
       "    }\n",
       "\n",
       "    .dataframe thead th {\n",
       "        text-align: right;\n",
       "    }\n",
       "</style>\n",
       "<table border=\"1\" class=\"dataframe\">\n",
       "  <thead>\n",
       "    <tr style=\"text-align: right;\">\n",
       "      <th></th>\n",
       "      <th>BsmtCond</th>\n",
       "      <th>BsmtExposure</th>\n",
       "      <th>BsmtFinType1</th>\n",
       "      <th>BsmtFinType2</th>\n",
       "      <th>BsmtQual</th>\n",
       "    </tr>\n",
       "  </thead>\n",
       "  <tbody>\n",
       "    <tr>\n",
       "      <th>17</th>\n",
       "      <td>NaN</td>\n",
       "      <td>NaN</td>\n",
       "      <td>NaN</td>\n",
       "      <td>NaN</td>\n",
       "      <td>NaN</td>\n",
       "    </tr>\n",
       "    <tr>\n",
       "      <th>39</th>\n",
       "      <td>NaN</td>\n",
       "      <td>NaN</td>\n",
       "      <td>NaN</td>\n",
       "      <td>NaN</td>\n",
       "      <td>NaN</td>\n",
       "    </tr>\n",
       "    <tr>\n",
       "      <th>90</th>\n",
       "      <td>NaN</td>\n",
       "      <td>NaN</td>\n",
       "      <td>NaN</td>\n",
       "      <td>NaN</td>\n",
       "      <td>NaN</td>\n",
       "    </tr>\n",
       "    <tr>\n",
       "      <th>102</th>\n",
       "      <td>NaN</td>\n",
       "      <td>NaN</td>\n",
       "      <td>NaN</td>\n",
       "      <td>NaN</td>\n",
       "      <td>NaN</td>\n",
       "    </tr>\n",
       "    <tr>\n",
       "      <th>156</th>\n",
       "      <td>NaN</td>\n",
       "      <td>NaN</td>\n",
       "      <td>NaN</td>\n",
       "      <td>NaN</td>\n",
       "      <td>NaN</td>\n",
       "    </tr>\n",
       "    <tr>\n",
       "      <th>182</th>\n",
       "      <td>NaN</td>\n",
       "      <td>NaN</td>\n",
       "      <td>NaN</td>\n",
       "      <td>NaN</td>\n",
       "      <td>NaN</td>\n",
       "    </tr>\n",
       "    <tr>\n",
       "      <th>259</th>\n",
       "      <td>NaN</td>\n",
       "      <td>NaN</td>\n",
       "      <td>NaN</td>\n",
       "      <td>NaN</td>\n",
       "      <td>NaN</td>\n",
       "    </tr>\n",
       "    <tr>\n",
       "      <th>332</th>\n",
       "      <td>TA</td>\n",
       "      <td>No</td>\n",
       "      <td>GLQ</td>\n",
       "      <td>NaN</td>\n",
       "      <td>Gd</td>\n",
       "    </tr>\n",
       "    <tr>\n",
       "      <th>342</th>\n",
       "      <td>NaN</td>\n",
       "      <td>NaN</td>\n",
       "      <td>NaN</td>\n",
       "      <td>NaN</td>\n",
       "      <td>NaN</td>\n",
       "    </tr>\n",
       "    <tr>\n",
       "      <th>362</th>\n",
       "      <td>NaN</td>\n",
       "      <td>NaN</td>\n",
       "      <td>NaN</td>\n",
       "      <td>NaN</td>\n",
       "      <td>NaN</td>\n",
       "    </tr>\n",
       "    <tr>\n",
       "      <th>371</th>\n",
       "      <td>NaN</td>\n",
       "      <td>NaN</td>\n",
       "      <td>NaN</td>\n",
       "      <td>NaN</td>\n",
       "      <td>NaN</td>\n",
       "    </tr>\n",
       "    <tr>\n",
       "      <th>392</th>\n",
       "      <td>NaN</td>\n",
       "      <td>NaN</td>\n",
       "      <td>NaN</td>\n",
       "      <td>NaN</td>\n",
       "      <td>NaN</td>\n",
       "    </tr>\n",
       "    <tr>\n",
       "      <th>520</th>\n",
       "      <td>NaN</td>\n",
       "      <td>NaN</td>\n",
       "      <td>NaN</td>\n",
       "      <td>NaN</td>\n",
       "      <td>NaN</td>\n",
       "    </tr>\n",
       "    <tr>\n",
       "      <th>532</th>\n",
       "      <td>NaN</td>\n",
       "      <td>NaN</td>\n",
       "      <td>NaN</td>\n",
       "      <td>NaN</td>\n",
       "      <td>NaN</td>\n",
       "    </tr>\n",
       "    <tr>\n",
       "      <th>533</th>\n",
       "      <td>NaN</td>\n",
       "      <td>NaN</td>\n",
       "      <td>NaN</td>\n",
       "      <td>NaN</td>\n",
       "      <td>NaN</td>\n",
       "    </tr>\n",
       "    <tr>\n",
       "      <th>553</th>\n",
       "      <td>NaN</td>\n",
       "      <td>NaN</td>\n",
       "      <td>NaN</td>\n",
       "      <td>NaN</td>\n",
       "      <td>NaN</td>\n",
       "    </tr>\n",
       "    <tr>\n",
       "      <th>646</th>\n",
       "      <td>NaN</td>\n",
       "      <td>NaN</td>\n",
       "      <td>NaN</td>\n",
       "      <td>NaN</td>\n",
       "      <td>NaN</td>\n",
       "    </tr>\n",
       "    <tr>\n",
       "      <th>705</th>\n",
       "      <td>NaN</td>\n",
       "      <td>NaN</td>\n",
       "      <td>NaN</td>\n",
       "      <td>NaN</td>\n",
       "      <td>NaN</td>\n",
       "    </tr>\n",
       "    <tr>\n",
       "      <th>736</th>\n",
       "      <td>NaN</td>\n",
       "      <td>NaN</td>\n",
       "      <td>NaN</td>\n",
       "      <td>NaN</td>\n",
       "      <td>NaN</td>\n",
       "    </tr>\n",
       "    <tr>\n",
       "      <th>749</th>\n",
       "      <td>NaN</td>\n",
       "      <td>NaN</td>\n",
       "      <td>NaN</td>\n",
       "      <td>NaN</td>\n",
       "      <td>NaN</td>\n",
       "    </tr>\n",
       "    <tr>\n",
       "      <th>778</th>\n",
       "      <td>NaN</td>\n",
       "      <td>NaN</td>\n",
       "      <td>NaN</td>\n",
       "      <td>NaN</td>\n",
       "      <td>NaN</td>\n",
       "    </tr>\n",
       "    <tr>\n",
       "      <th>868</th>\n",
       "      <td>NaN</td>\n",
       "      <td>NaN</td>\n",
       "      <td>NaN</td>\n",
       "      <td>NaN</td>\n",
       "      <td>NaN</td>\n",
       "    </tr>\n",
       "    <tr>\n",
       "      <th>894</th>\n",
       "      <td>NaN</td>\n",
       "      <td>NaN</td>\n",
       "      <td>NaN</td>\n",
       "      <td>NaN</td>\n",
       "      <td>NaN</td>\n",
       "    </tr>\n",
       "    <tr>\n",
       "      <th>897</th>\n",
       "      <td>NaN</td>\n",
       "      <td>NaN</td>\n",
       "      <td>NaN</td>\n",
       "      <td>NaN</td>\n",
       "      <td>NaN</td>\n",
       "    </tr>\n",
       "    <tr>\n",
       "      <th>984</th>\n",
       "      <td>NaN</td>\n",
       "      <td>NaN</td>\n",
       "      <td>NaN</td>\n",
       "      <td>NaN</td>\n",
       "      <td>NaN</td>\n",
       "    </tr>\n",
       "    <tr>\n",
       "      <th>1000</th>\n",
       "      <td>NaN</td>\n",
       "      <td>NaN</td>\n",
       "      <td>NaN</td>\n",
       "      <td>NaN</td>\n",
       "      <td>NaN</td>\n",
       "    </tr>\n",
       "    <tr>\n",
       "      <th>1011</th>\n",
       "      <td>NaN</td>\n",
       "      <td>NaN</td>\n",
       "      <td>NaN</td>\n",
       "      <td>NaN</td>\n",
       "      <td>NaN</td>\n",
       "    </tr>\n",
       "    <tr>\n",
       "      <th>1035</th>\n",
       "      <td>NaN</td>\n",
       "      <td>NaN</td>\n",
       "      <td>NaN</td>\n",
       "      <td>NaN</td>\n",
       "      <td>NaN</td>\n",
       "    </tr>\n",
       "    <tr>\n",
       "      <th>1045</th>\n",
       "      <td>NaN</td>\n",
       "      <td>NaN</td>\n",
       "      <td>NaN</td>\n",
       "      <td>NaN</td>\n",
       "      <td>NaN</td>\n",
       "    </tr>\n",
       "    <tr>\n",
       "      <th>1048</th>\n",
       "      <td>NaN</td>\n",
       "      <td>NaN</td>\n",
       "      <td>NaN</td>\n",
       "      <td>NaN</td>\n",
       "      <td>NaN</td>\n",
       "    </tr>\n",
       "    <tr>\n",
       "      <th>1049</th>\n",
       "      <td>NaN</td>\n",
       "      <td>NaN</td>\n",
       "      <td>NaN</td>\n",
       "      <td>NaN</td>\n",
       "      <td>NaN</td>\n",
       "    </tr>\n",
       "    <tr>\n",
       "      <th>1090</th>\n",
       "      <td>NaN</td>\n",
       "      <td>NaN</td>\n",
       "      <td>NaN</td>\n",
       "      <td>NaN</td>\n",
       "      <td>NaN</td>\n",
       "    </tr>\n",
       "    <tr>\n",
       "      <th>1179</th>\n",
       "      <td>NaN</td>\n",
       "      <td>NaN</td>\n",
       "      <td>NaN</td>\n",
       "      <td>NaN</td>\n",
       "      <td>NaN</td>\n",
       "    </tr>\n",
       "    <tr>\n",
       "      <th>1216</th>\n",
       "      <td>NaN</td>\n",
       "      <td>NaN</td>\n",
       "      <td>NaN</td>\n",
       "      <td>NaN</td>\n",
       "      <td>NaN</td>\n",
       "    </tr>\n",
       "    <tr>\n",
       "      <th>1218</th>\n",
       "      <td>NaN</td>\n",
       "      <td>NaN</td>\n",
       "      <td>NaN</td>\n",
       "      <td>NaN</td>\n",
       "      <td>NaN</td>\n",
       "    </tr>\n",
       "    <tr>\n",
       "      <th>1232</th>\n",
       "      <td>NaN</td>\n",
       "      <td>NaN</td>\n",
       "      <td>NaN</td>\n",
       "      <td>NaN</td>\n",
       "      <td>NaN</td>\n",
       "    </tr>\n",
       "    <tr>\n",
       "      <th>1321</th>\n",
       "      <td>NaN</td>\n",
       "      <td>NaN</td>\n",
       "      <td>NaN</td>\n",
       "      <td>NaN</td>\n",
       "      <td>NaN</td>\n",
       "    </tr>\n",
       "    <tr>\n",
       "      <th>1412</th>\n",
       "      <td>NaN</td>\n",
       "      <td>NaN</td>\n",
       "      <td>NaN</td>\n",
       "      <td>NaN</td>\n",
       "      <td>NaN</td>\n",
       "    </tr>\n",
       "  </tbody>\n",
       "</table>\n",
       "</div>"
      ],
      "text/plain": [
       "     BsmtCond BsmtExposure BsmtFinType1 BsmtFinType2 BsmtQual\n",
       "17        NaN          NaN          NaN          NaN      NaN\n",
       "39        NaN          NaN          NaN          NaN      NaN\n",
       "90        NaN          NaN          NaN          NaN      NaN\n",
       "102       NaN          NaN          NaN          NaN      NaN\n",
       "156       NaN          NaN          NaN          NaN      NaN\n",
       "182       NaN          NaN          NaN          NaN      NaN\n",
       "259       NaN          NaN          NaN          NaN      NaN\n",
       "332        TA           No          GLQ          NaN       Gd\n",
       "342       NaN          NaN          NaN          NaN      NaN\n",
       "362       NaN          NaN          NaN          NaN      NaN\n",
       "371       NaN          NaN          NaN          NaN      NaN\n",
       "392       NaN          NaN          NaN          NaN      NaN\n",
       "520       NaN          NaN          NaN          NaN      NaN\n",
       "532       NaN          NaN          NaN          NaN      NaN\n",
       "533       NaN          NaN          NaN          NaN      NaN\n",
       "553       NaN          NaN          NaN          NaN      NaN\n",
       "646       NaN          NaN          NaN          NaN      NaN\n",
       "705       NaN          NaN          NaN          NaN      NaN\n",
       "736       NaN          NaN          NaN          NaN      NaN\n",
       "749       NaN          NaN          NaN          NaN      NaN\n",
       "778       NaN          NaN          NaN          NaN      NaN\n",
       "868       NaN          NaN          NaN          NaN      NaN\n",
       "894       NaN          NaN          NaN          NaN      NaN\n",
       "897       NaN          NaN          NaN          NaN      NaN\n",
       "984       NaN          NaN          NaN          NaN      NaN\n",
       "1000      NaN          NaN          NaN          NaN      NaN\n",
       "1011      NaN          NaN          NaN          NaN      NaN\n",
       "1035      NaN          NaN          NaN          NaN      NaN\n",
       "1045      NaN          NaN          NaN          NaN      NaN\n",
       "1048      NaN          NaN          NaN          NaN      NaN\n",
       "1049      NaN          NaN          NaN          NaN      NaN\n",
       "1090      NaN          NaN          NaN          NaN      NaN\n",
       "1179      NaN          NaN          NaN          NaN      NaN\n",
       "1216      NaN          NaN          NaN          NaN      NaN\n",
       "1218      NaN          NaN          NaN          NaN      NaN\n",
       "1232      NaN          NaN          NaN          NaN      NaN\n",
       "1321      NaN          NaN          NaN          NaN      NaN\n",
       "1412      NaN          NaN          NaN          NaN      NaN"
      ]
     },
     "execution_count": 33,
     "metadata": {},
     "output_type": "execute_result"
    }
   ],
   "source": [
    "X[bsmt_columns][X['BsmtFinType2'].isnull()] # BsmtFinType2 also had 38 values, but the row 948 had BsmtFinType2 as a non null"
   ]
  },
  {
   "cell_type": "markdown",
   "id": "8a893bc0",
   "metadata": {},
   "source": [
    "- If we take a look, we can see that almost all the missing data from the basement comes from the same houses.\n",
    "- We could just assume that those houses don't have a basement, but we have to look just in case there is some inconsistent data, for example, another feature that has a label which indicates the pressence of a basement.\n",
    "- What other features consider a basement? and how it tells us if there is no basement?\n"
   ]
  },
  {
   "cell_type": "code",
   "execution_count": 34,
   "id": "d5bd88ea",
   "metadata": {},
   "outputs": [
    {
     "name": "stdout",
     "output_type": "stream",
     "text": [
      "TA    1311\n",
      "Gd      65\n",
      "Fa      45\n",
      "Po       2\n",
      "Name: BsmtCond, dtype: int64 \n",
      "\n",
      "No    953\n",
      "Av    221\n",
      "Gd    134\n",
      "Mn    114\n",
      "Name: BsmtExposure, dtype: int64 \n",
      "\n",
      "Unf    430\n",
      "GLQ    418\n",
      "ALQ    220\n",
      "BLQ    148\n",
      "Rec    133\n",
      "LwQ     74\n",
      "Name: BsmtFinType1, dtype: int64 \n",
      "\n",
      "Unf    1256\n",
      "Rec      54\n",
      "LwQ      46\n",
      "BLQ      33\n",
      "ALQ      19\n",
      "GLQ      14\n",
      "Name: BsmtFinType2, dtype: int64 \n",
      "\n",
      "TA    649\n",
      "Gd    618\n",
      "Ex    121\n",
      "Fa     35\n",
      "Name: BsmtQual, dtype: int64 \n",
      "\n"
     ]
    }
   ],
   "source": [
    "for b in bsmt_columns:\n",
    "    print(X[b].value_counts(), \"\\n\")"
   ]
  },
  {
   "cell_type": "markdown",
   "id": "9413e726",
   "metadata": {},
   "source": [
    "- If we take a look at the data description we have that we have for example:\n",
    "\n",
    "BsmtQual: Evaluates the height of the basement\n",
    "\n",
    "       Ex\tExcellent (100+ inches)\t\n",
    "       Gd\tGood (90-99 inches)\n",
    "       TA\tTypical (80-89 inches)\n",
    "       Fa\tFair (70-79 inches)\n",
    "       Po\tPoor (<70 inches\n",
    "       NA\tNo Basement\n",
    "\t\t\n",
    "BsmtCond: Evaluates the general condition of the basement\n",
    "\n",
    "       Ex\tExcellent\n",
    "       Gd\tGood\n",
    "       TA\tTypical - slight dampness allowed\n",
    "       Fa\tFair - dampness or some cracking or settling\n",
    "       Po\tPoor - Severe cracking, settling, or wetness\n",
    "       NA\tNo Basement\n",
    "\t\n",
    "BsmtExposure: Refers to walkout or garden level walls\n",
    "\n",
    "       Gd\tGood Exposure\n",
    "       Av\tAverage Exposure (split levels or foyers typically score average or above)\t\n",
    "       Mn\tMimimum Exposure\n",
    "       No\tNo Exposure\n",
    "       NA\tNo Basement\n",
    "\t\n",
    "BsmtFinType1: Rating of basement finished area\n",
    "\n",
    "       GLQ\tGood Living Quarters\n",
    "       ALQ\tAverage Living Quarters\n",
    "       BLQ\tBelow Average Living Quarters\t\n",
    "       Rec\tAverage Rec Room\n",
    "       LwQ\tLow Quality\n",
    "       Unf\tUnfinshed\n",
    "       NA\tNo Basement\n",
    "\t\t\n",
    "BsmtFinType2: Rating of basement finished area (if multiple types)\n",
    "\n",
    "       GLQ\tGood Living Quarters\n",
    "       ALQ\tAverage Living Quarters\n",
    "       BLQ\tBelow Average Living Quarters\t\n",
    "       Rec\tAverage Rec Room\n",
    "       LwQ\tLow Quality\n",
    "       Unf\tUnfinshed\n",
    "       NA\tNo Basement\n",
    "      \n",
    "- There were only 2 rows with filled data\n",
    "- Rows:\n",
    "\n",
    "        'BsmtCond', 'BsmtExposure', 'BsmtFinType1', 'BsmtFinType2', 'BsmtQual'\n",
    "\n",
    "- BsmtExposure NaN\n",
    "\n",
    "        948 \tTA \tNaN \tUnf \tUnf \tGd\n",
    "\n",
    "- BsmtFinType2 NaN\n",
    "\n",
    "        332 \tTA \tNo \tGLQ \tNaN \tGd\n",
    "        \n",
    "        \n",
    "- But both are valid since they meet the relation, because has TA as Basement condition, we know it has a basement but BsmtExposure is NaN, which could mean that it has no exposue of the basement, because the other data gives me indications that it has a basement.\n",
    "- And in the case of BsmtFinType2 is the same, we can complete it with Unf.\n",
    "     "
   ]
  },
  {
   "cell_type": "code",
   "execution_count": 35,
   "id": "a6e82095",
   "metadata": {},
   "outputs": [],
   "source": [
    "X.loc[948, 'BsmtExposure'] = 'No'\n",
    "X.loc[332, 'BsmtFinType2'] = 'Unf'"
   ]
  },
  {
   "cell_type": "code",
   "execution_count": 36,
   "id": "9877df52",
   "metadata": {},
   "outputs": [
    {
     "data": {
      "text/plain": [
       "BsmtCond        37\n",
       "BsmtExposure    37\n",
       "BsmtFinType1    37\n",
       "BsmtFinType2    37\n",
       "BsmtQual        37\n",
       "dtype: int64"
      ]
     },
     "execution_count": 36,
     "metadata": {},
     "output_type": "execute_result"
    }
   ],
   "source": [
    "X[bsmt_columns].isnull().sum()"
   ]
  },
  {
   "cell_type": "markdown",
   "id": "0c9c66d7",
   "metadata": {},
   "source": [
    "- So now we can complete this data and fill those values with the NA category"
   ]
  },
  {
   "cell_type": "code",
   "execution_count": 37,
   "id": "867e8ce8",
   "metadata": {},
   "outputs": [],
   "source": [
    "for i in bsmt_columns:\n",
    "    X.loc[X[i].isnull(), i] = 'NA'"
   ]
  },
  {
   "cell_type": "code",
   "execution_count": 38,
   "id": "590361b0",
   "metadata": {},
   "outputs": [
    {
     "data": {
      "text/plain": [
       "BsmtCond        0\n",
       "BsmtExposure    0\n",
       "BsmtFinType1    0\n",
       "BsmtFinType2    0\n",
       "BsmtQual        0\n",
       "dtype: int64"
      ]
     },
     "execution_count": 38,
     "metadata": {},
     "output_type": "execute_result"
    }
   ],
   "source": [
    "X[bsmt_columns].isnull().sum()"
   ]
  },
  {
   "cell_type": "markdown",
   "id": "9213f4f3",
   "metadata": {},
   "source": [
    "- Let's check again the missing data"
   ]
  },
  {
   "cell_type": "code",
   "execution_count": 39,
   "id": "9dadfca0",
   "metadata": {},
   "outputs": [
    {
     "data": {
      "text/plain": [
       "LotFrontage      259\n",
       "Alley           1369\n",
       "MasVnrType         0\n",
       "MasVnrArea         0\n",
       "BsmtQual           0\n",
       "BsmtCond           0\n",
       "BsmtExposure       0\n",
       "BsmtFinType1       0\n",
       "BsmtFinType2       0\n",
       "Electrical         0\n",
       "FireplaceQu      690\n",
       "GarageType        81\n",
       "GarageYrBlt       81\n",
       "GarageFinish      81\n",
       "GarageQual        81\n",
       "GarageCond        81\n",
       "PoolQC          1453\n",
       "Fence           1179\n",
       "MiscFeature     1406\n",
       "dtype: int64"
      ]
     },
     "execution_count": 39,
     "metadata": {},
     "output_type": "execute_result"
    }
   ],
   "source": [
    "X[missing_values].isnull().sum()"
   ]
  },
  {
   "cell_type": "code",
   "execution_count": 40,
   "id": "eb2f0a90",
   "metadata": {},
   "outputs": [],
   "source": [
    "garage_columns = [\"GarageType\", \"GarageYrBlt\", \"GarageFinish\", \"GarageQual\", \"GarageCond\"]"
   ]
  },
  {
   "cell_type": "code",
   "execution_count": 41,
   "id": "4d7441e9",
   "metadata": {},
   "outputs": [
    {
     "name": "stdout",
     "output_type": "stream",
     "text": [
      "81\n",
      "81\n",
      "81\n",
      "81\n",
      "81\n"
     ]
    }
   ],
   "source": [
    "# Let's check how many data has missing for every garage column\n",
    "for i in garage_columns:\n",
    "    print(len(X[i][X[i].isnull()]))"
   ]
  },
  {
   "cell_type": "code",
   "execution_count": 42,
   "id": "763ae1bd",
   "metadata": {},
   "outputs": [
    {
     "name": "stdout",
     "output_type": "stream",
     "text": [
      "Equal\n"
     ]
    }
   ],
   "source": [
    "# Are they all the same?\n",
    "indexes = []\n",
    "for i in garage_columns:\n",
    "    indexes.append(list(X[i][X[i].isnull()].index))\n",
    "are_equal = True\n",
    "for i in range(len(indexes) - 1):\n",
    "    for j in range(i + 1, len(indexes)):\n",
    "        if indexes[i] != indexes[j]:\n",
    "            are_equal = False\n",
    "            break\n",
    "if are_equal:\n",
    "    print(\"Equal\")\n",
    "else:\n",
    "    print(\"Different\")"
   ]
  },
  {
   "cell_type": "markdown",
   "id": "13297b2d",
   "metadata": {},
   "source": [
    "- Here we encounter one problem. We could fill almost all these categories with NA for no garage, but because there is no garage, we can't fill the column GarageYrBlt with 0. So in this case we'll leave this from our features.\n",
    "\n",
    "GarageType: Garage location\n",
    "\t\t\n",
    "       2Types\tMore than one type of garage\n",
    "       Attchd\tAttached to home\n",
    "       Basment\tBasement Garage\n",
    "       BuiltIn\tBuilt-In (Garage part of house - typically has room above garage)\n",
    "       CarPort\tCar Port\n",
    "       Detchd\tDetached from home\n",
    "       NA\tNo Garage\n",
    "\t\t\n",
    "GarageYrBlt: Year garage was built\n",
    "\t\t\n",
    "GarageFinish: Interior finish of the garage\n",
    "\n",
    "       Fin\tFinished\n",
    "       RFn\tRough Finished\t\n",
    "       Unf\tUnfinished\n",
    "       NA\tNo Garage\n",
    "\n",
    "GarageQual: Garage quality\n",
    "\n",
    "       Ex\tExcellent\n",
    "       Gd\tGood\n",
    "       TA\tTypical/Average\n",
    "       Fa\tFair\n",
    "       Po\tPoor\n",
    "       NA\tNo Garage\n",
    "\t\t\n",
    "GarageCond: Garage condition\n",
    "\n",
    "       Ex\tExcellent\n",
    "       Gd\tGood\n",
    "       TA\tTypical/Average\n",
    "       Fa\tFair\n",
    "       Po\tPoor\n",
    "       NA\tNo Garage"
   ]
  },
  {
   "cell_type": "code",
   "execution_count": 43,
   "id": "18c17176",
   "metadata": {},
   "outputs": [],
   "source": [
    "garage_columns = [\"GarageType\", \"GarageFinish\", \"GarageQual\", \"GarageCond\"] # Removed year built garage"
   ]
  },
  {
   "cell_type": "code",
   "execution_count": 44,
   "id": "8ad2f3ee",
   "metadata": {},
   "outputs": [],
   "source": [
    "# Filling the columns with data\n",
    "for i in garage_columns:\n",
    "    X.loc[X[i].isnull(), i] = 'NA'"
   ]
  },
  {
   "cell_type": "code",
   "execution_count": 45,
   "id": "46f96c8d",
   "metadata": {},
   "outputs": [
    {
     "name": "stdout",
     "output_type": "stream",
     "text": [
      "0\n",
      "0\n",
      "0\n",
      "0\n"
     ]
    }
   ],
   "source": [
    "# Check again\n",
    "for i in garage_columns:\n",
    "    print(len(X[i][X[i].isnull()]))"
   ]
  },
  {
   "cell_type": "markdown",
   "id": "ff4e4c11",
   "metadata": {},
   "source": [
    "## Part 3: Testing our new features"
   ]
  },
  {
   "cell_type": "code",
   "execution_count": 46,
   "id": "e97b23fb",
   "metadata": {},
   "outputs": [
    {
     "data": {
      "text/plain": [
       "(['MasVnrType',\n",
       "  'MasVnrArea',\n",
       "  'BsmtQual',\n",
       "  'BsmtCond',\n",
       "  'BsmtExposure',\n",
       "  'BsmtFinType1',\n",
       "  'BsmtFinType2',\n",
       "  'Electrical',\n",
       "  'GarageType',\n",
       "  'GarageFinish',\n",
       "  'GarageQual',\n",
       "  'GarageCond'],\n",
       " 12)"
      ]
     },
     "execution_count": 46,
     "metadata": {},
     "output_type": "execute_result"
    }
   ],
   "source": [
    "# Get all our new filled columns names\n",
    "null_sum = X[missing_values].isnull().sum()\n",
    "new_columns = null_sum[null_sum == 0].index.tolist()\n",
    "new_columns, len(new_columns)"
   ]
  },
  {
   "cell_type": "markdown",
   "id": "d3f03c99",
   "metadata": {},
   "source": [
    "### Concat old and new data, and apply the same process from the Part 1"
   ]
  },
  {
   "cell_type": "code",
   "execution_count": 47,
   "id": "5732d8d9",
   "metadata": {},
   "outputs": [
    {
     "name": "stdout",
     "output_type": "stream",
     "text": [
      "Index(['Id', 'MSSubClass', 'LotArea', 'OverallQual', 'OverallCond',\n",
      "       'YearBuilt', 'YearRemodAdd', 'BsmtFinSF1', 'BsmtFinSF2', 'BsmtUnfSF',\n",
      "       'TotalBsmtSF', '1stFlrSF', '2ndFlrSF', 'LowQualFinSF', 'GrLivArea',\n",
      "       'BsmtFullBath', 'BsmtHalfBath', 'FullBath', 'HalfBath', 'BedroomAbvGr',\n",
      "       'KitchenAbvGr', 'TotRmsAbvGrd', 'Fireplaces', 'GarageCars',\n",
      "       'GarageArea', 'WoodDeckSF', 'OpenPorchSF', 'EnclosedPorch', '3SsnPorch',\n",
      "       'ScreenPorch', 'PoolArea', 'MiscVal', 'MoSold', 'YrSold'],\n",
      "      dtype='object') Index(['MSZoning', 'Street', 'LotShape', 'LandContour', 'Utilities',\n",
      "       'LotConfig', 'LandSlope', 'Neighborhood', 'Condition1', 'Condition2',\n",
      "       'BldgType', 'HouseStyle', 'RoofStyle', 'RoofMatl', 'Exterior1st',\n",
      "       'Exterior2nd', 'ExterQual', 'ExterCond', 'Foundation', 'Heating',\n",
      "       'HeatingQC', 'CentralAir', 'KitchenQual', 'Functional', 'PavedDrive',\n",
      "       'SaleType', 'SaleCondition'],\n",
      "      dtype='object')\n",
      "Numerical columns: 1\n",
      "Categorical columns: 11\n",
      "Total: 12  Valid:  True\n"
     ]
    }
   ],
   "source": [
    "# Save last values\n",
    "X_num_old = X_num\n",
    "X_cat_old = X_cat\n",
    "numerical_columns_old = numerical_columns\n",
    "categorical_columns_old = categorical_columns\n",
    "print(numerical_columns, categorical_columns)\n",
    "# Get all the data from the columns that was missing before\n",
    "X_miss = X[new_columns]\n",
    "\n",
    "# Select the numerical columns\n",
    "numerical_columns = X_miss.select_dtypes(include=['int', 'float']).columns\n",
    "X_num = X_miss.loc[:, numerical_columns]\n",
    "\n",
    "# Select the categorical columns\n",
    "categorical_columns = X_miss.select_dtypes(include=['object']).columns\n",
    "X_cat = X_miss.loc[:, categorical_columns]\n",
    "\n",
    "print('Numerical columns:', numerical_columns.size)\n",
    "print('Categorical columns:', categorical_columns.size)\n",
    "print('Total:', categorical_columns.size + numerical_columns.size, \" Valid: \", X_miss.shape[1] == categorical_columns.size + numerical_columns.size)"
   ]
  },
  {
   "cell_type": "code",
   "execution_count": 48,
   "id": "5188cd63",
   "metadata": {},
   "outputs": [
    {
     "data": {
      "text/plain": [
       "(Index(['MasVnrArea'], dtype='object'),\n",
       " Index(['MasVnrType', 'BsmtQual', 'BsmtCond', 'BsmtExposure', 'BsmtFinType1',\n",
       "        'BsmtFinType2', 'Electrical', 'GarageType', 'GarageFinish',\n",
       "        'GarageQual', 'GarageCond'],\n",
       "       dtype='object'))"
      ]
     },
     "execution_count": 48,
     "metadata": {},
     "output_type": "execute_result"
    }
   ],
   "source": [
    "numerical_columns, categorical_columns"
   ]
  },
  {
   "cell_type": "code",
   "execution_count": 49,
   "id": "d9eff7c0",
   "metadata": {},
   "outputs": [
    {
     "data": {
      "text/plain": [
       "(array(['Id', 'MSSubClass', 'LotArea', 'OverallQual', 'OverallCond',\n",
       "        'YearBuilt', 'YearRemodAdd', 'BsmtFinSF1', 'BsmtFinSF2',\n",
       "        'BsmtUnfSF', 'TotalBsmtSF', '1stFlrSF', '2ndFlrSF', 'LowQualFinSF',\n",
       "        'GrLivArea', 'BsmtFullBath', 'BsmtHalfBath', 'FullBath',\n",
       "        'HalfBath', 'BedroomAbvGr', 'KitchenAbvGr', 'TotRmsAbvGrd',\n",
       "        'Fireplaces', 'GarageCars', 'GarageArea', 'WoodDeckSF',\n",
       "        'OpenPorchSF', 'EnclosedPorch', '3SsnPorch', 'ScreenPorch',\n",
       "        'PoolArea', 'MiscVal', 'MoSold', 'YrSold', 'MasVnrArea'],\n",
       "       dtype=object),\n",
       " (35,),\n",
       " array(['MSZoning', 'Street', 'LotShape', 'LandContour', 'Utilities',\n",
       "        'LotConfig', 'LandSlope', 'Neighborhood', 'Condition1',\n",
       "        'Condition2', 'BldgType', 'HouseStyle', 'RoofStyle', 'RoofMatl',\n",
       "        'Exterior1st', 'Exterior2nd', 'ExterQual', 'ExterCond',\n",
       "        'Foundation', 'Heating', 'HeatingQC', 'CentralAir', 'KitchenQual',\n",
       "        'Functional', 'PavedDrive', 'SaleType', 'SaleCondition',\n",
       "        'MasVnrType', 'BsmtQual', 'BsmtCond', 'BsmtExposure',\n",
       "        'BsmtFinType1', 'BsmtFinType2', 'Electrical', 'GarageType',\n",
       "        'GarageFinish', 'GarageQual', 'GarageCond'], dtype=object),\n",
       " (38,))"
      ]
     },
     "execution_count": 49,
     "metadata": {},
     "output_type": "execute_result"
    }
   ],
   "source": [
    "# Concatenate the data\n",
    "numerical_columns = np.concatenate((numerical_columns_old, numerical_columns), axis=0)\n",
    "categorical_columns = np.concatenate((categorical_columns_old, categorical_columns), axis=0)\n",
    "\n",
    "numerical_columns, numerical_columns.shape, categorical_columns, categorical_columns.shape"
   ]
  },
  {
   "cell_type": "code",
   "execution_count": 50,
   "id": "fab416ca",
   "metadata": {},
   "outputs": [
    {
     "data": {
      "text/plain": [
       "((1460, 35), (1460, 38))"
      ]
     },
     "execution_count": 50,
     "metadata": {},
     "output_type": "execute_result"
    }
   ],
   "source": [
    "X_num = X.loc[:, numerical_columns]\n",
    "X_cat = X.loc[:, categorical_columns]\n",
    "X_num.shape, X_cat.shape"
   ]
  },
  {
   "cell_type": "code",
   "execution_count": 51,
   "id": "5aac12c4",
   "metadata": {},
   "outputs": [
    {
     "name": "stdout",
     "output_type": "stream",
     "text": [
      "(1460, 35) (1460, 243)\n"
     ]
    }
   ],
   "source": [
    "# Preprocess the numerical features\n",
    "scaler = StandardScaler()\n",
    "X_num = scaler.fit_transform(X_num)\n",
    "\n",
    "# Encode the categorical features\n",
    "X_cat = pd.get_dummies(X_cat)\n",
    "\n",
    "print(X_num.shape, X_cat.shape)"
   ]
  },
  {
   "cell_type": "code",
   "execution_count": 52,
   "id": "84af0f40",
   "metadata": {},
   "outputs": [
    {
     "data": {
      "text/plain": [
       "((1460, 278),\n",
       " Index(['Id', 'MSSubClass', 'LotArea', 'OverallQual', 'OverallCond',\n",
       "        'YearBuilt', 'YearRemodAdd', 'BsmtFinSF1', 'BsmtFinSF2', 'BsmtUnfSF',\n",
       "        ...\n",
       "        'GarageQual_Gd', 'GarageQual_NA', 'GarageQual_Po', 'GarageQual_TA',\n",
       "        'GarageCond_Ex', 'GarageCond_Fa', 'GarageCond_Gd', 'GarageCond_NA',\n",
       "        'GarageCond_Po', 'GarageCond_TA'],\n",
       "       dtype='object', length=278))"
      ]
     },
     "execution_count": 52,
     "metadata": {},
     "output_type": "execute_result"
    }
   ],
   "source": [
    "X_merged = pd.concat([pd.DataFrame(X_num, columns=numerical_columns), pd.DataFrame(X_cat)], axis=1)\n",
    "X_merged.shape, X_merged.columns"
   ]
  },
  {
   "cell_type": "code",
   "execution_count": 53,
   "id": "4fc202eb",
   "metadata": {},
   "outputs": [],
   "source": [
    "X_train, X_test, y_train, y_test = train_test_split(X_merged, y, test_size=0.2, random_state=0)"
   ]
  },
  {
   "cell_type": "code",
   "execution_count": 54,
   "id": "dac229c4",
   "metadata": {
    "scrolled": true
   },
   "outputs": [
    {
     "name": "stdout",
     "output_type": "stream",
     "text": [
      "(1168, 278) (292, 278) (1168,) (292,)\n"
     ]
    }
   ],
   "source": [
    "print(X_train.shape, X_test.shape, y_train.shape, y_test.shape)"
   ]
  },
  {
   "cell_type": "code",
   "execution_count": 55,
   "id": "19d4028b",
   "metadata": {
    "scrolled": true
   },
   "outputs": [
    {
     "name": "stdout",
     "output_type": "stream",
     "text": [
      "int64 int64\n"
     ]
    }
   ],
   "source": [
    "print(y_train.dtype, y_test.dtype)"
   ]
  },
  {
   "cell_type": "code",
   "execution_count": 56,
   "id": "e7bacfbd",
   "metadata": {},
   "outputs": [],
   "source": [
    "# Reinstantiate the regressor\n",
    "regressor = LinearRegression()\n",
    "\n",
    "# Train the regression model\n",
    "regressor.fit(X_train, y_train);"
   ]
  },
  {
   "cell_type": "code",
   "execution_count": 57,
   "id": "15dfb953",
   "metadata": {},
   "outputs": [
    {
     "name": "stdout",
     "output_type": "stream",
     "text": [
      "(292,) (292,)\n",
      "Mean Squared Error: 133510241737180368806206242816.00\n",
      "Mean Absolute Error: 37936496619715.09\n"
     ]
    }
   ],
   "source": [
    "# Evaluate the performance of the model\n",
    "y_pred = regressor.predict(X_test)\n",
    "print(y_test.shape, y_test.shape)\n",
    "results = pd.DataFrame(\n",
    "    np.concatenate(\n",
    "        (\n",
    "            y_test.to_numpy().reshape(len(y_test), 1),\n",
    "            y_pred.reshape(len(y_pred), 1)\n",
    "\n",
    "        ), axis=1),\n",
    "    columns=[\"Original\", \"Predicted\"]\n",
    "    )\n",
    "\n",
    "mse = mean_squared_error(y_test, y_pred)\n",
    "mae = mean_absolute_error(y_test, y_pred)\n",
    "\n",
    "print(f'Mean Squared Error: {mse:0.2f}')\n",
    "print(f'Mean Absolute Error: {mae:0.2f}')"
   ]
  },
  {
   "cell_type": "code",
   "execution_count": 58,
   "id": "0d12baae",
   "metadata": {
    "scrolled": true
   },
   "outputs": [
    {
     "data": {
      "text/plain": [
       "(    Original  Predicted\n",
       " 0   200624.0   266300.0\n",
       " 1   133000.0   144288.0\n",
       " 2   110000.0   108044.0\n",
       " 3   192000.0   209948.0\n",
       " 4    88000.0    95928.0\n",
       " ..       ...        ...\n",
       " 95  157000.0   156164.0\n",
       " 96  213000.0   210044.0\n",
       " 97  185000.0   160772.0\n",
       " 98  124500.0   112272.0\n",
       " 99  162900.0   160800.0\n",
       " \n",
       " [100 rows x 2 columns],\n",
       "      Original  Predicted\n",
       " 100  260000.0   245316.0\n",
       " 101  198500.0   235716.0\n",
       " 102  120000.0   118236.0\n",
       " 103  159500.0   145284.0\n",
       " 104  105900.0   105456.0\n",
       " ..        ...        ...\n",
       " 195  142500.0   159328.0\n",
       " 196   80000.0    61960.0\n",
       " 197  145000.0   135132.0\n",
       " 198  171000.0   169412.0\n",
       " 199  122500.0   120052.0\n",
       " \n",
       " [100 rows x 2 columns],\n",
       "      Original  Predicted\n",
       " 200  139000.0   114632.0\n",
       " 201  189000.0   206772.0\n",
       " 202  120500.0   117940.0\n",
       " 203  124000.0   128208.0\n",
       " 204  160000.0   132216.0\n",
       " ..        ...        ...\n",
       " 287  324000.0   299860.0\n",
       " 288  555000.0   471676.0\n",
       " 289  136000.0   252120.0\n",
       " 290   82500.0   110576.0\n",
       " 291  101000.0    96208.0\n",
       " \n",
       " [92 rows x 2 columns])"
      ]
     },
     "execution_count": 58,
     "metadata": {},
     "output_type": "execute_result"
    }
   ],
   "source": [
    "# Baseline approach results\n",
    "results[0:100], results[100:200], results[200:]"
   ]
  },
  {
   "cell_type": "markdown",
   "id": "b9cae1c1",
   "metadata": {},
   "source": [
    "- So the error has gone worse, but on the other hand, this was just a simple test, the good thing is we have more features to consider."
   ]
  },
  {
   "cell_type": "markdown",
   "id": "7eae625e",
   "metadata": {},
   "source": [
    "## Part 4: Feature Selection"
   ]
  },
  {
   "cell_type": "markdown",
   "id": "4b8d5945",
   "metadata": {},
   "source": [
    " - We've been using a simple regression model, but for a problem like this, there are better models that also offer more interpretability like Random Forests. But first, we'll use some feature selection methods, and see how much we can improve the accuracy of our model, and then see the difference between the regression one and the random forest.\n",
    " - Right now the training time is barely noticeable and we don't have a LOT of features, 278 doesn't seem too much right now, so we could probably use a greedier method instead of going with a filter method first, to see if we can reduce the features to a smaller number.\n",
    " - I have an assumption that maybe because a lot of features are used to describe a characteristic like for example the garage, all the garage features could be highly correlated, so we could remove many of those features OR create a new feature with them.\n",
    " - The method I would like to test is scikit-learn's Sequential Feature Selection, but first I would like to clean my feature s a little bit, and see if there are features that have very low variance (almost the same values in all observations)."
   ]
  },
  {
   "cell_type": "code",
   "execution_count": 59,
   "id": "811f1c7b",
   "metadata": {},
   "outputs": [
    {
     "name": "stdout",
     "output_type": "stream",
     "text": [
      "(1460, 278)\n",
      "(1460, 123)\n"
     ]
    }
   ],
   "source": [
    "from sklearn.feature_selection import VarianceThreshold\n",
    "# Variance threshold of 5%\n",
    "sel = VarianceThreshold(threshold=(0.05))\n",
    "sel.feature_names_in_=X_merged.columns\n",
    "print(X_merged.shape)\n",
    "X_var = sel.fit_transform(X_merged)\n",
    "print(X_var.shape)\n",
    "selected_features = sel.get_support()\n",
    "selected_columns = X_merged.columns[selected_features]\n",
    "# So basically we've removed all features which had >=95% zeros in all observations"
   ]
  },
  {
   "cell_type": "markdown",
   "id": "ea4d64b0",
   "metadata": {},
   "source": [
    "- Until now I've been looking at a feature, the first one \"Id\", I didn't want to arbitrarily remove it until now so if we can see if the feature selection method can remove it.\n",
    "\n",
    "- Following what recommends the official page of Sequential Feature Selection https://scikit-learn.org/stable/auto_examples/feature_selection/plot_select_from_model_diabetes.html#sphx-glr-auto-examples-feature-selection-plot-select-from-model-diabetes-py\n",
    "\n",
    "- We use RidgeCV which is a regression model that uses cross validation for selecting the most important feature.\n",
    "- Regression feature selection works by fitting a model and extracting the betas/coefficients of each feature.\n"
   ]
  },
  {
   "cell_type": "code",
   "execution_count": 60,
   "id": "a71488a9",
   "metadata": {},
   "outputs": [
    {
     "data": {
      "image/png": "[encoded data removed]",
      "text/plain": [
       "<Figure size 640x480 with 1 Axes>"
      ]
     },
     "metadata": {},
     "output_type": "display_data"
    }
   ],
   "source": [
    "from sklearn.linear_model import RidgeCV\n",
    "# \n",
    "ridge = RidgeCV().fit(X_var, y)\n",
    "importance = np.abs(ridge.coef_) # Extract coefficients\n",
    "plt.bar(height=importance, x=selected_columns)\n",
    "plt.title(\"Feature importances via coefficients\")\n",
    "plt.show()"
   ]
  },
  {
   "cell_type": "markdown",
   "id": "627801ca",
   "metadata": {},
   "source": [
    "- Which gives us the following top 5 features"
   ]
  },
  {
   "cell_type": "code",
   "execution_count": 61,
   "id": "e349b69f",
   "metadata": {},
   "outputs": [
    {
     "data": {
      "text/plain": [
       "['KitchenQual_Ex',\n",
       " 'BsmtQual_Ex',\n",
       " 'Neighborhood_Edwards',\n",
       " 'OverallQual',\n",
       " 'BsmtExposure_Gd']"
      ]
     },
     "execution_count": 61,
     "metadata": {},
     "output_type": "execute_result"
    }
   ],
   "source": [
    "# Make list of values\n",
    "importance_features = list(zip(selected_columns, importance))\n",
    "\n",
    "# Sort the list of tuples by values in descending order and select top 5 tuples\n",
    "top5 = sorted(importance_features, key=lambda x: x[1], reverse=True)[:5]\n",
    "\n",
    "# Extract column names from selected tuples\n",
    "top5_features = [t[0] for t in top5]\n",
    "top5_features"
   ]
  },
  {
   "cell_type": "markdown",
   "id": "ad4a5309",
   "metadata": {},
   "source": [
    "- Following the example instructions, we want to select the best features from the model, so then we can use the sequential feature selection which adds the next best feature"
   ]
  },
  {
   "cell_type": "code",
   "execution_count": 62,
   "id": "44a5ab6e",
   "metadata": {
    "scrolled": true
   },
   "outputs": [
    {
     "name": "stdout",
     "output_type": "stream",
     "text": [
      "Features selected by SelectFromModel: Index(['KitchenQual_Ex', 'BsmtQual_Ex'], dtype='object')\n",
      "Done in 0.010s\n"
     ]
    }
   ],
   "source": [
    "from sklearn.feature_selection import SelectFromModel\n",
    "\n",
    "# Selects the threshold of the third best feature importance\n",
    "threshold = np.sort(importance)[-3] + 0.01\n",
    "\n",
    "tic = time.time()\n",
    "sfm = SelectFromModel(ridge, threshold=threshold).fit(X_var, y)\n",
    "toc = time.time()\n",
    "\n",
    "print(f\"Features selected by SelectFromModel: {selected_columns[sfm.get_support()]}\")\n",
    "print(f\"Done in {toc - tic:.3f}s\")"
   ]
  },
  {
   "cell_type": "markdown",
   "id": "a8899e08",
   "metadata": {},
   "source": [
    "- And now finally we use the SequentialFeatureSelector\n",
    "- We can do a forward selection where we start with the 2 features and then we add 1 feature and see if the new subset improves or not, with backwards is the opposite"
   ]
  },
  {
   "cell_type": "code",
   "execution_count": 63,
   "id": "ee61fb2e",
   "metadata": {},
   "outputs": [
    {
     "name": "stdout",
     "output_type": "stream",
     "text": [
      "Features selected by forward sequential selection: Index(['MSSubClass', 'OverallQual', 'OverallCond', 'YearBuilt', 'BsmtFinSF1',\n",
      "       'GrLivArea', 'BsmtFullBath', 'Fireplaces', 'GarageCars', 'MSZoning_RM',\n",
      "       'LotConfig_CulDSac', 'Neighborhood_Edwards', 'Neighborhood_NAmes',\n",
      "       'Condition1_Norm', 'ExterQual_TA', 'KitchenQual_Ex', 'Functional_Typ',\n",
      "       'BsmtQual_Ex', 'BsmtExposure_Gd', 'GarageType_NA'],\n",
      "      dtype='object')\n",
      "Done in 13.894s\n",
      "Features selected by backward sequential selection: Index(['OverallQual', 'OverallCond', '1stFlrSF', '2ndFlrSF', 'BsmtFullBath',\n",
      "       'GarageCars', 'WoodDeckSF', 'LotConfig_CulDSac', 'Neighborhood_Edwards',\n",
      "       'Neighborhood_OldTown', 'Condition1_Norm', 'BldgType_1Fam',\n",
      "       'HouseStyle_1Story', 'ExterQual_TA', 'KitchenQual_Ex', 'Functional_Typ',\n",
      "       'BsmtQual_Ex', 'BsmtExposure_Gd', 'BsmtFinType1_Unf', 'GarageCond_NA'],\n",
      "      dtype='object')\n",
      "Done in 147.237s\n"
     ]
    }
   ],
   "source": [
    "from sklearn.feature_selection import SequentialFeatureSelector\n",
    "\n",
    "tic_fwd = time.time()\n",
    "sfs_forward = SequentialFeatureSelector(\n",
    "    ridge, n_features_to_select=20, direction=\"forward\"\n",
    ").fit(X_var, y)\n",
    "toc_fwd = time.time()\n",
    "\n",
    "tic_bwd = time.time()\n",
    "sfs_backward = SequentialFeatureSelector(\n",
    "    ridge, n_features_to_select=20, direction=\"backward\"\n",
    ").fit(X_var, y)\n",
    "toc_bwd = time.time()\n",
    "\n",
    "print(\n",
    "    \"Features selected by forward sequential selection: \"\n",
    "    f\"{selected_columns[sfs_forward.get_support()]}\"\n",
    ")\n",
    "print(f\"Done in {toc_fwd - tic_fwd:.3f}s\")\n",
    "print(\n",
    "    \"Features selected by backward sequential selection: \"\n",
    "    f\"{selected_columns[sfs_backward.get_support()]}\"\n",
    ")\n",
    "print(f\"Done in {toc_bwd - tic_bwd:.3f}s\")"
   ]
  },
  {
   "cell_type": "markdown",
   "id": "89192583",
   "metadata": {},
   "source": [
    "### Evaluation\n",
    "- You see that? The feature selection method selected some features from the variables with missing values we fixed, so it was worth fixing!\n",
    "\n",
    "- The columns we had with missing values were: \n",
    "\n",
    "\n",
    "      'MasVnrType',\n",
    "      'MasVnrArea',\n",
    "      'BsmtQual',\n",
    "      'BsmtCond',\n",
    "      'BsmtExposure',\n",
    "      'BsmtFinType1',\n",
    "      'BsmtFinType2',\n",
    "      'Electrical',\n",
    "      'GarageType',\n",
    "      'GarageFinish',\n",
    "      'GarageQual',\n",
    "      'GarageCond'\n",
    "  \n",
    "- From this, we have BsmtQual_Ex, BsmtExposure_Gd, BsmtFinType1_Unf, GarageType_NA, in forward selection.\n",
    "- And BsmtQual_Ex, BsmtExposure_Gd, BsmtFinType1_Unf, GarageCond_NA, for backward selection.\n",
    "- Now let's train our model with these features."
   ]
  },
  {
   "cell_type": "code",
   "execution_count": 64,
   "id": "efd0d3ff",
   "metadata": {},
   "outputs": [
    {
     "data": {
      "text/plain": [
       "((1460, 20), (1460, 20))"
      ]
     },
     "execution_count": 64,
     "metadata": {},
     "output_type": "execute_result"
    }
   ],
   "source": [
    "features_forward = selected_columns[sfs_forward.get_support()]\n",
    "features_backward = selected_columns[sfs_backward.get_support()]\n",
    "X_forward = X_merged[features_forward]\n",
    "X_backward = X_merged[features_backward]\n",
    "X_forward.shape, X_backward.shape"
   ]
  },
  {
   "cell_type": "code",
   "execution_count": 65,
   "id": "34a91543",
   "metadata": {},
   "outputs": [],
   "source": [
    "# Evaluate forward selection\n",
    "X_train, X_test, y_train, y_test = train_test_split(X_forward, y, test_size=0.2, random_state=0)"
   ]
  },
  {
   "cell_type": "code",
   "execution_count": 66,
   "id": "c30dc079",
   "metadata": {
    "scrolled": true
   },
   "outputs": [
    {
     "name": "stdout",
     "output_type": "stream",
     "text": [
      "(1168, 20) (292, 20) (1168,) (292,)\n"
     ]
    }
   ],
   "source": [
    "print(X_train.shape, X_test.shape, y_train.shape, y_test.shape)"
   ]
  },
  {
   "cell_type": "code",
   "execution_count": 67,
   "id": "8ddaebb0",
   "metadata": {
    "scrolled": true
   },
   "outputs": [
    {
     "name": "stdout",
     "output_type": "stream",
     "text": [
      "int64 int64\n"
     ]
    }
   ],
   "source": [
    "print(y_train.dtype, y_test.dtype)"
   ]
  },
  {
   "cell_type": "code",
   "execution_count": 68,
   "id": "dcc0488b",
   "metadata": {},
   "outputs": [],
   "source": [
    "regressor = LinearRegression()\n",
    "regressor.fit(X_train, y_train);"
   ]
  },
  {
   "cell_type": "code",
   "execution_count": 69,
   "id": "f2a6dba1",
   "metadata": {},
   "outputs": [
    {
     "name": "stdout",
     "output_type": "stream",
     "text": [
      "(292,) (292,)\n",
      "Mean Squared Error: 1782201882.20\n",
      "Mean Absolute Error: 21333.85\n"
     ]
    }
   ],
   "source": [
    "# Evaluate the performance of the model\n",
    "y_pred = regressor.predict(X_test)\n",
    "print(y_test.shape, y_test.shape)\n",
    "results = pd.DataFrame(\n",
    "    np.concatenate(\n",
    "        (\n",
    "            y_test.to_numpy().reshape(len(y_test), 1),\n",
    "            y_pred.reshape(len(y_pred), 1).astype(np.int64)\n",
    "\n",
    "        ), axis=1),\n",
    "    columns=[\"Original\", \"Predicted\"]\n",
    "    )\n",
    "\n",
    "mse = mean_squared_error(y_test, y_pred)\n",
    "mae = mean_absolute_error(y_test, y_pred)\n",
    "\n",
    "print(f'Mean Squared Error: {mse:0.2f}')\n",
    "print(f'Mean Absolute Error: {mae:0.2f}')"
   ]
  },
  {
   "cell_type": "code",
   "execution_count": 70,
   "id": "83826e16",
   "metadata": {
    "scrolled": true
   },
   "outputs": [
    {
     "data": {
      "text/plain": [
       "(    Original  Predicted\n",
       " 0     200624     257179\n",
       " 1     133000     158205\n",
       " 2     110000     118350\n",
       " 3     192000     213994\n",
       " 4      88000      92680\n",
       " ..       ...        ...\n",
       " 95    157000     151721\n",
       " 96    213000     214065\n",
       " 97    185000     160320\n",
       " 98    124500     110949\n",
       " 99    162900     148214\n",
       " \n",
       " [100 rows x 2 columns],\n",
       "      Original  Predicted\n",
       " 100    260000     240447\n",
       " 101    198500     204820\n",
       " 102    120000     113194\n",
       " 103    159500     158206\n",
       " 104    105900     112458\n",
       " ..        ...        ...\n",
       " 195    142500     163264\n",
       " 196     80000      45023\n",
       " 197    145000     137548\n",
       " 198    171000     178003\n",
       " 199    122500     108219\n",
       " \n",
       " [100 rows x 2 columns],\n",
       "      Original  Predicted\n",
       " 200    139000     122741\n",
       " 201    189000     194540\n",
       " 202    120500      97257\n",
       " 203    124000     126671\n",
       " 204    160000     138034\n",
       " ..        ...        ...\n",
       " 287    324000     284805\n",
       " 288    555000     440641\n",
       " 289    136000     190666\n",
       " 290     82500     101432\n",
       " 291    101000      95884\n",
       " \n",
       " [92 rows x 2 columns])"
      ]
     },
     "execution_count": 70,
     "metadata": {},
     "output_type": "execute_result"
    }
   ],
   "source": [
    "# Baseline approach results\n",
    "results[0:100], results[100:200], results[200:]"
   ]
  },
  {
   "cell_type": "code",
   "execution_count": 71,
   "id": "3b721f58",
   "metadata": {},
   "outputs": [],
   "source": [
    "# Evaluate forward selection\n",
    "X_train, X_test, y_train, y_test = train_test_split(X_backward, y, test_size=0.2, random_state=0)"
   ]
  },
  {
   "cell_type": "code",
   "execution_count": 72,
   "id": "8c711075",
   "metadata": {
    "scrolled": true
   },
   "outputs": [
    {
     "name": "stdout",
     "output_type": "stream",
     "text": [
      "(1168, 20) (292, 20) (1168,) (292,)\n"
     ]
    }
   ],
   "source": [
    "print(X_train.shape, X_test.shape, y_train.shape, y_test.shape)"
   ]
  },
  {
   "cell_type": "code",
   "execution_count": 73,
   "id": "869754b2",
   "metadata": {
    "scrolled": true
   },
   "outputs": [
    {
     "name": "stdout",
     "output_type": "stream",
     "text": [
      "int64 int64\n"
     ]
    }
   ],
   "source": [
    "print(y_train.dtype, y_test.dtype)"
   ]
  },
  {
   "cell_type": "code",
   "execution_count": 74,
   "id": "ffaf9242",
   "metadata": {},
   "outputs": [],
   "source": [
    "regressor = LinearRegression()\n",
    "\n",
    "regressor.fit(X_train, y_train);"
   ]
  },
  {
   "cell_type": "code",
   "execution_count": 75,
   "id": "17744880",
   "metadata": {},
   "outputs": [
    {
     "name": "stdout",
     "output_type": "stream",
     "text": [
      "(292,) (292,)\n",
      "Mean Squared Error: 1624204072.95\n",
      "Mean Absolute Error: 21294.15\n"
     ]
    }
   ],
   "source": [
    "# Evaluate the performance of the model\n",
    "y_pred = regressor.predict(X_test)\n",
    "print(y_test.shape, y_test.shape)\n",
    "results = pd.DataFrame(\n",
    "    np.concatenate(\n",
    "        (\n",
    "            y_test.to_numpy().reshape(len(y_test), 1),\n",
    "            y_pred.reshape(len(y_pred), 1).astype(np.int64)\n",
    "\n",
    "        ), axis=1),\n",
    "    columns=[\"Original\", \"Predicted\"]\n",
    "    )\n",
    "\n",
    "mse = mean_squared_error(y_test, y_pred)\n",
    "mae = mean_absolute_error(y_test, y_pred)\n",
    "\n",
    "print(f'Mean Squared Error: {mse:0.2f}')\n",
    "print(f'Mean Absolute Error: {mae:0.2f}')"
   ]
  },
  {
   "cell_type": "code",
   "execution_count": 76,
   "id": "3abba127",
   "metadata": {
    "scrolled": true
   },
   "outputs": [
    {
     "data": {
      "text/plain": [
       "(    Original  Predicted\n",
       " 0     200624     260110\n",
       " 1     133000     156223\n",
       " 2     110000     120740\n",
       " 3     192000     216703\n",
       " 4      88000      92684\n",
       " ..       ...        ...\n",
       " 95    157000     154204\n",
       " 96    213000     215771\n",
       " 97    185000     164172\n",
       " 98    124500     113525\n",
       " 99    162900     154298\n",
       " \n",
       " [100 rows x 2 columns],\n",
       "      Original  Predicted\n",
       " 100    260000     237327\n",
       " 101    198500     200983\n",
       " 102    120000     118599\n",
       " 103    159500     153639\n",
       " 104    105900     112800\n",
       " ..        ...        ...\n",
       " 195    142500     163228\n",
       " 196     80000      51600\n",
       " 197    145000     148061\n",
       " 198    171000     178543\n",
       " 199    122500     117043\n",
       " \n",
       " [100 rows x 2 columns],\n",
       "      Original  Predicted\n",
       " 200    139000     123819\n",
       " 201    189000     198792\n",
       " 202    120500     102852\n",
       " 203    124000     116973\n",
       " 204    160000     146596\n",
       " ..        ...        ...\n",
       " 287    324000     276874\n",
       " 288    555000     430158\n",
       " 289    136000     196856\n",
       " 290     82500     109984\n",
       " 291    101000     106812\n",
       " \n",
       " [92 rows x 2 columns])"
      ]
     },
     "execution_count": 76,
     "metadata": {},
     "output_type": "execute_result"
    }
   ],
   "source": [
    "results[0:100], results[100:200], results[200:]"
   ]
  },
  {
   "cell_type": "markdown",
   "id": "fa63a77c",
   "metadata": {},
   "source": [
    "- Now we are talking, it improved a lot, but still we are a bit off.\n",
    "- Considering we have selected some features based on a simple selection based on a regression technique, going from 278 features to 123, to 20 seems like a big jump.\n",
    "- We could try different feature selection methods, but let's try our new features with another model and see how it behaves, for example with Random Forests, which can be used also for feature selection.\n",
    "- But firstable, I want to know, Why the House N_0 got a prediction 60k higher than the original? Maybe the model is saying something like \"Oh, so you have a showerdoor? That's gotta be an expensive house, I'll add 60k more to the final price.\", Which obviously sounds completely bonkers. The problem with this is we don't want to introduce bias into our training. This means, don't use the outputted results as a new input to make the error smaller, because it will affect the ability of our model for generalization and predict unseen data accurately.\n",
    "- A way to visualize this in a linear regression model is to look at the coefficients."
   ]
  },
  {
   "cell_type": "code",
   "execution_count": 77,
   "id": "cf729b85",
   "metadata": {},
   "outputs": [
    {
     "data": {
      "text/plain": [
       "['OverallQual',\n",
       " 'OverallCond',\n",
       " '1stFlrSF',\n",
       " '2ndFlrSF',\n",
       " 'BsmtFullBath',\n",
       " 'GarageCars',\n",
       " 'WoodDeckSF',\n",
       " 'LotConfig_CulDSac',\n",
       " 'Neighborhood_Edwards',\n",
       " 'Neighborhood_OldTown',\n",
       " 'Condition1_Norm',\n",
       " 'BldgType_1Fam',\n",
       " 'HouseStyle_1Story',\n",
       " 'ExterQual_TA',\n",
       " 'KitchenQual_Ex',\n",
       " 'Functional_Typ',\n",
       " 'BsmtQual_Ex',\n",
       " 'BsmtExposure_Gd',\n",
       " 'BsmtFinType1_Unf',\n",
       " 'GarageCond_NA']"
      ]
     },
     "execution_count": 77,
     "metadata": {},
     "output_type": "execute_result"
    }
   ],
   "source": [
    "features_backward.to_list()"
   ]
  },
  {
   "cell_type": "code",
   "execution_count": 78,
   "id": "8ed61a52",
   "metadata": {
    "scrolled": true
   },
   "outputs": [
    {
     "name": "stdout",
     "output_type": "stream",
     "text": [
      "Predicted value: 260110.16520017516\n",
      "Manual prediction: 260110.16520017516\n",
      "House N_0: [-0.07183611 -2.31508485  3.49942984 -0.79516323  1.10781015  0.31172464\n",
      " -0.75217584  1.          0.          0.          1.          1.\n",
      "  1.          0.          0.          0.          0.          0.\n",
      "  0.          0.        ]\n",
      "Coefficients [ 19475.06553726   5062.87231804  27074.97144586  25773.0574573\n",
      "   4429.17308278  10596.26891409   3164.92445117  13632.16689855\n",
      " -12381.73089462 -16806.11431005  14174.5538513   17373.66174043\n",
      "   8858.91058393 -17112.54866921  34710.10616493  18335.77914267\n",
      "  36244.42719535  22673.84323266  -9232.99827225  14501.15627744]\n",
      "Intercept: 139108.4672923262\n",
      "Dot product[0]:  121001.69790784895\n"
     ]
    },
    {
     "data": {
      "text/html": [
       "<div>\n",
       "<style scoped>\n",
       "    .dataframe tbody tr th:only-of-type {\n",
       "        vertical-align: middle;\n",
       "    }\n",
       "\n",
       "    .dataframe tbody tr th {\n",
       "        vertical-align: top;\n",
       "    }\n",
       "\n",
       "    .dataframe thead th {\n",
       "        text-align: right;\n",
       "    }\n",
       "</style>\n",
       "<table border=\"1\" class=\"dataframe\">\n",
       "  <thead>\n",
       "    <tr style=\"text-align: right;\">\n",
       "      <th></th>\n",
       "      <th>OverallQual</th>\n",
       "      <th>OverallCond</th>\n",
       "      <th>1stFlrSF</th>\n",
       "      <th>2ndFlrSF</th>\n",
       "      <th>BsmtFullBath</th>\n",
       "      <th>GarageCars</th>\n",
       "      <th>WoodDeckSF</th>\n",
       "      <th>LotConfig_CulDSac</th>\n",
       "      <th>Neighborhood_Edwards</th>\n",
       "      <th>Neighborhood_OldTown</th>\n",
       "      <th>Condition1_Norm</th>\n",
       "      <th>BldgType_1Fam</th>\n",
       "      <th>HouseStyle_1Story</th>\n",
       "      <th>ExterQual_TA</th>\n",
       "      <th>KitchenQual_Ex</th>\n",
       "      <th>Functional_Typ</th>\n",
       "      <th>BsmtQual_Ex</th>\n",
       "      <th>BsmtExposure_Gd</th>\n",
       "      <th>BsmtFinType1_Unf</th>\n",
       "      <th>GarageCond_NA</th>\n",
       "    </tr>\n",
       "  </thead>\n",
       "  <tbody>\n",
       "    <tr>\n",
       "      <th>0</th>\n",
       "      <td>-0.071836</td>\n",
       "      <td>-2.315085</td>\n",
       "      <td>3.499430</td>\n",
       "      <td>-0.795163</td>\n",
       "      <td>1.107810</td>\n",
       "      <td>0.311725</td>\n",
       "      <td>-0.752176</td>\n",
       "      <td>1.000000</td>\n",
       "      <td>0.000000</td>\n",
       "      <td>0.00000</td>\n",
       "      <td>1.000000</td>\n",
       "      <td>1.00000</td>\n",
       "      <td>1.000000</td>\n",
       "      <td>0.000000</td>\n",
       "      <td>0.000000</td>\n",
       "      <td>0.000000</td>\n",
       "      <td>0.000000</td>\n",
       "      <td>0.000000</td>\n",
       "      <td>0.000000</td>\n",
       "      <td>0.000000</td>\n",
       "    </tr>\n",
       "    <tr>\n",
       "      <th>0</th>\n",
       "      <td>19475.065537</td>\n",
       "      <td>5062.872318</td>\n",
       "      <td>27074.971446</td>\n",
       "      <td>25773.057457</td>\n",
       "      <td>4429.173083</td>\n",
       "      <td>10596.268914</td>\n",
       "      <td>3164.924451</td>\n",
       "      <td>13632.166899</td>\n",
       "      <td>-12381.730895</td>\n",
       "      <td>-16806.11431</td>\n",
       "      <td>14174.553851</td>\n",
       "      <td>17373.66174</td>\n",
       "      <td>8858.910584</td>\n",
       "      <td>-17112.548669</td>\n",
       "      <td>34710.106165</td>\n",
       "      <td>18335.779143</td>\n",
       "      <td>36244.427195</td>\n",
       "      <td>22673.843233</td>\n",
       "      <td>-9232.998272</td>\n",
       "      <td>14501.156277</td>\n",
       "    </tr>\n",
       "  </tbody>\n",
       "</table>\n",
       "</div>"
      ],
      "text/plain": [
       "    OverallQual  OverallCond      1stFlrSF      2ndFlrSF  BsmtFullBath  \\\n",
       "0     -0.071836    -2.315085      3.499430     -0.795163      1.107810   \n",
       "0  19475.065537  5062.872318  27074.971446  25773.057457   4429.173083   \n",
       "\n",
       "     GarageCars   WoodDeckSF  LotConfig_CulDSac  Neighborhood_Edwards  \\\n",
       "0      0.311725    -0.752176           1.000000              0.000000   \n",
       "0  10596.268914  3164.924451       13632.166899         -12381.730895   \n",
       "\n",
       "   Neighborhood_OldTown  Condition1_Norm  BldgType_1Fam  HouseStyle_1Story  \\\n",
       "0               0.00000         1.000000        1.00000           1.000000   \n",
       "0          -16806.11431     14174.553851    17373.66174        8858.910584   \n",
       "\n",
       "   ExterQual_TA  KitchenQual_Ex  Functional_Typ   BsmtQual_Ex  \\\n",
       "0      0.000000        0.000000        0.000000      0.000000   \n",
       "0 -17112.548669    34710.106165    18335.779143  36244.427195   \n",
       "\n",
       "   BsmtExposure_Gd  BsmtFinType1_Unf  GarageCond_NA  \n",
       "0         0.000000          0.000000       0.000000  \n",
       "0     22673.843233      -9232.998272   14501.156277  "
      ]
     },
     "execution_count": 78,
     "metadata": {},
     "output_type": "execute_result"
    }
   ],
   "source": [
    "coefficients = regressor.coef_\n",
    "intercept = regressor.intercept_\n",
    "\n",
    "manual_prediction = np.dot(X_test, coefficients) + intercept\n",
    "\n",
    "print('Predicted value:', y_pred[0])\n",
    "print('Manual prediction:', manual_prediction[0])\n",
    "print('House N_0:', np.array(X_test)[0])\n",
    "print('Coefficients', coefficients)\n",
    "print('Intercept:', intercept)\n",
    "print('Dot product[0]: ', np.dot(X_test, coefficients)[0])\n",
    "\n",
    "reg_coef_data = pd.DataFrame(pd.concat([pd.DataFrame(np.array(X_test)[0]).T, pd.DataFrame(coefficients).T], axis=0))\n",
    "reg_coef_data.columns = features_backward\n",
    "reg_coef_data"
   ]
  },
  {
   "cell_type": "markdown",
   "id": "a6ef781e",
   "metadata": {},
   "source": [
    "- Let's take a look at the data from house N_0 (first row) and the coefficients (second row).\n",
    "- Consider that the intercept value is 139108.46\n",
    "- The feature that the model rates the highest is the BsmtQual_Ex with 36244.42 and the lowest one is ExterQual_TA with -17112.54.\n",
    "- We can see that most negative coefficient values are not taken into account, which in some way is like saying that the features that the model knows it would reduce the price didn't got taken in account because the observation had 0 in every categorical data that it calculated.\n",
    "- And this tells us that it's not enough features for this model to generalize in scenarios like this."
   ]
  },
  {
   "cell_type": "code",
   "execution_count": 79,
   "id": "b27d75ab",
   "metadata": {},
   "outputs": [],
   "source": [
    "from sklearn.ensemble import RandomForestClassifier\n",
    "forest = RandomForestClassifier()\n",
    "forest.fit(X_train, y_train);"
   ]
  },
  {
   "cell_type": "code",
   "execution_count": 80,
   "id": "a43a05a7",
   "metadata": {},
   "outputs": [
    {
     "name": "stdout",
     "output_type": "stream",
     "text": [
      "(292,) (292,)\n",
      "Mean Squared Error: 1402045000.70\n",
      "Mean Absolute Error: 25113.72\n"
     ]
    }
   ],
   "source": [
    "# Evaluate the performance of the model\n",
    "y_pred = forest.predict(X_test)\n",
    "print(y_test.shape, y_test.shape)\n",
    "results = pd.DataFrame(\n",
    "    np.concatenate(\n",
    "        (\n",
    "            y_test.to_numpy().reshape(len(y_test), 1),\n",
    "            y_pred.reshape(len(y_pred), 1).astype(np.int64)\n",
    "\n",
    "        ), axis=1),\n",
    "    columns=[\"Original\", \"Predicted\"]\n",
    "    )\n",
    "\n",
    "mse = mean_squared_error(y_test, y_pred)\n",
    "mae = mean_absolute_error(y_test, y_pred)\n",
    "\n",
    "print(f'Mean Squared Error: {mse:0.2f}')\n",
    "print(f'Mean Absolute Error: {mae:0.2f}')"
   ]
  },
  {
   "cell_type": "code",
   "execution_count": 81,
   "id": "45634dbf",
   "metadata": {},
   "outputs": [
    {
     "data": {
      "text/plain": [
       "(    Original  Predicted\n",
       " 0     200624     223000\n",
       " 1     133000     130000\n",
       " 2     110000     127000\n",
       " 3     192000     222500\n",
       " 4      88000      94500\n",
       " ..       ...        ...\n",
       " 95    157000     139000\n",
       " 96    213000     227000\n",
       " 97    185000     110000\n",
       " 98    124500     120500\n",
       " 99    162900     112000\n",
       " \n",
       " [100 rows x 2 columns],\n",
       "      Original  Predicted\n",
       " 100    260000     260400\n",
       " 101    198500     165400\n",
       " 102    120000     131400\n",
       " 103    159500     179900\n",
       " 104    105900     110000\n",
       " ..        ...        ...\n",
       " 195    142500     147000\n",
       " 196     80000      80000\n",
       " 197    145000     154500\n",
       " 198    171000     195000\n",
       " 199    122500     125000\n",
       " \n",
       " [100 rows x 2 columns],\n",
       "      Original  Predicted\n",
       " 200    139000     155000\n",
       " 201    189000     254000\n",
       " 202    120500     110000\n",
       " 203    124000      93500\n",
       " 204    160000     137000\n",
       " ..        ...        ...\n",
       " 287    324000     275000\n",
       " 288    555000     611657\n",
       " 289    136000     143000\n",
       " 290     82500      34900\n",
       " 291    101000      78000\n",
       " \n",
       " [92 rows x 2 columns])"
      ]
     },
     "execution_count": 81,
     "metadata": {},
     "output_type": "execute_result"
    }
   ],
   "source": [
    "results[0:100], results[100:200], results[200:]"
   ]
  },
  {
   "cell_type": "markdown",
   "id": "f04f7688",
   "metadata": {},
   "source": [
    "- So the model is not improving, at this point I think I should look more at the data, so I'll plot the top 5 features from the list.\n",
    "- But how do I plot the binary categorical data? We can do it by plotting the different combinations of those versus the price target and see how they interact with the price."
   ]
  },
  {
   "cell_type": "code",
   "execution_count": 106,
   "id": "9462497a",
   "metadata": {},
   "outputs": [
    {
     "data": {
      "text/html": [
       "<div>\n",
       "<style scoped>\n",
       "    .dataframe tbody tr th:only-of-type {\n",
       "        vertical-align: middle;\n",
       "    }\n",
       "\n",
       "    .dataframe tbody tr th {\n",
       "        vertical-align: top;\n",
       "    }\n",
       "\n",
       "    .dataframe thead th {\n",
       "        text-align: right;\n",
       "    }\n",
       "</style>\n",
       "<table border=\"1\" class=\"dataframe\">\n",
       "  <thead>\n",
       "    <tr style=\"text-align: right;\">\n",
       "      <th></th>\n",
       "      <th>KitchenQual_Ex</th>\n",
       "      <th>BsmtQual_Ex</th>\n",
       "      <th>Neighborhood_Edwards</th>\n",
       "      <th>OverallQual</th>\n",
       "      <th>BsmtExposure_Gd</th>\n",
       "    </tr>\n",
       "  </thead>\n",
       "  <tbody>\n",
       "    <tr>\n",
       "      <th>0</th>\n",
       "      <td>0</td>\n",
       "      <td>0</td>\n",
       "      <td>0</td>\n",
       "      <td>0.651479</td>\n",
       "      <td>0</td>\n",
       "    </tr>\n",
       "    <tr>\n",
       "      <th>1</th>\n",
       "      <td>0</td>\n",
       "      <td>0</td>\n",
       "      <td>0</td>\n",
       "      <td>-0.071836</td>\n",
       "      <td>1</td>\n",
       "    </tr>\n",
       "    <tr>\n",
       "      <th>2</th>\n",
       "      <td>0</td>\n",
       "      <td>0</td>\n",
       "      <td>0</td>\n",
       "      <td>0.651479</td>\n",
       "      <td>0</td>\n",
       "    </tr>\n",
       "    <tr>\n",
       "      <th>3</th>\n",
       "      <td>0</td>\n",
       "      <td>0</td>\n",
       "      <td>0</td>\n",
       "      <td>0.651479</td>\n",
       "      <td>0</td>\n",
       "    </tr>\n",
       "    <tr>\n",
       "      <th>4</th>\n",
       "      <td>0</td>\n",
       "      <td>0</td>\n",
       "      <td>0</td>\n",
       "      <td>1.374795</td>\n",
       "      <td>0</td>\n",
       "    </tr>\n",
       "    <tr>\n",
       "      <th>...</th>\n",
       "      <td>...</td>\n",
       "      <td>...</td>\n",
       "      <td>...</td>\n",
       "      <td>...</td>\n",
       "      <td>...</td>\n",
       "    </tr>\n",
       "    <tr>\n",
       "      <th>1455</th>\n",
       "      <td>0</td>\n",
       "      <td>0</td>\n",
       "      <td>0</td>\n",
       "      <td>-0.071836</td>\n",
       "      <td>0</td>\n",
       "    </tr>\n",
       "    <tr>\n",
       "      <th>1456</th>\n",
       "      <td>0</td>\n",
       "      <td>0</td>\n",
       "      <td>0</td>\n",
       "      <td>-0.071836</td>\n",
       "      <td>0</td>\n",
       "    </tr>\n",
       "    <tr>\n",
       "      <th>1457</th>\n",
       "      <td>0</td>\n",
       "      <td>0</td>\n",
       "      <td>0</td>\n",
       "      <td>0.651479</td>\n",
       "      <td>0</td>\n",
       "    </tr>\n",
       "    <tr>\n",
       "      <th>1458</th>\n",
       "      <td>0</td>\n",
       "      <td>0</td>\n",
       "      <td>0</td>\n",
       "      <td>-0.795151</td>\n",
       "      <td>0</td>\n",
       "    </tr>\n",
       "    <tr>\n",
       "      <th>1459</th>\n",
       "      <td>0</td>\n",
       "      <td>0</td>\n",
       "      <td>1</td>\n",
       "      <td>-0.795151</td>\n",
       "      <td>0</td>\n",
       "    </tr>\n",
       "  </tbody>\n",
       "</table>\n",
       "<p>1460 rows × 5 columns</p>\n",
       "</div>"
      ],
      "text/plain": [
       "      KitchenQual_Ex  BsmtQual_Ex  Neighborhood_Edwards  OverallQual  \\\n",
       "0                  0            0                     0     0.651479   \n",
       "1                  0            0                     0    -0.071836   \n",
       "2                  0            0                     0     0.651479   \n",
       "3                  0            0                     0     0.651479   \n",
       "4                  0            0                     0     1.374795   \n",
       "...              ...          ...                   ...          ...   \n",
       "1455               0            0                     0    -0.071836   \n",
       "1456               0            0                     0    -0.071836   \n",
       "1457               0            0                     0     0.651479   \n",
       "1458               0            0                     0    -0.795151   \n",
       "1459               0            0                     1    -0.795151   \n",
       "\n",
       "      BsmtExposure_Gd  \n",
       "0                   0  \n",
       "1                   1  \n",
       "2                   0  \n",
       "3                   0  \n",
       "4                   0  \n",
       "...               ...  \n",
       "1455                0  \n",
       "1456                0  \n",
       "1457                0  \n",
       "1458                0  \n",
       "1459                0  \n",
       "\n",
       "[1460 rows x 5 columns]"
      ]
     },
     "execution_count": 106,
     "metadata": {},
     "output_type": "execute_result"
    }
   ],
   "source": [
    "X_backward[top5_features]"
   ]
  },
  {
   "cell_type": "code",
   "execution_count": 161,
   "id": "396b774d",
   "metadata": {},
   "outputs": [
    {
     "data": {
      "image/png": "[encoded data removed]",
      "text/plain": [
       "<Figure size 640x480 with 1 Axes>"
      ]
     },
     "metadata": {},
     "output_type": "display_data"
    }
   ],
   "source": [
    "cat_features = [\"KitchenQual_Ex\", \"BsmtQual_Ex\", \"Neighborhood_Edwards\"]\n",
    "data = X_backward[cat_features]\n",
    "\n",
    "def get_binary_features(data, cat_features):\n",
    "    binary_features = []\n",
    "    for i in range(data.shape[0]):\n",
    "        value = \"\"\n",
    "        for f in cat_features:\n",
    "            value += str(data[f][i])\n",
    "        binary_features.append(value)\n",
    "        value = \"\"\n",
    "    return np.array(binary_features)\n",
    "\n",
    "binary_features = get_binary_features(data, cat_features)\n",
    "\n",
    "fig, ax = plt.subplots()\n",
    "ax.scatter(binary_features, y);"
   ]
  },
  {
   "cell_type": "markdown",
   "id": "fe7e9ef9",
   "metadata": {},
   "source": [
    "- So just looking at it we can see that most of the lower price range houses don't have any of the features described above, the kitchen quality is not excelent, que basement quality is not excelent, and the neighborhood is not edwards\n",
    "- While the houses of the most higher price range, have both the first qualities, but are not in the edwards neighborhood.\n",
    "- Now I wanna see all neighborhoods that got selected.\n"
   ]
  },
  {
   "cell_type": "code",
   "execution_count": 266,
   "id": "9877c310",
   "metadata": {},
   "outputs": [
    {
     "data": {
      "image/png": "[encoded data removed]",
      "text/plain": [
       "<Figure size 640x480 with 1 Axes>"
      ]
     },
     "metadata": {},
     "output_type": "display_data"
    }
   ],
   "source": [
    "neighborhoods = [n for n in X_merged.columns if 'Neighborhood' in n]\n",
    "neigh_ones = []\n",
    "for n in neighborhoods:\n",
    "    neigh_ones.append(y[X_merged[X_merged[n] == 1][n].index])\n",
    "    \n",
    "fig, ax = plt.subplots()\n",
    "index = 0\n",
    "colors = cm.gist_ncar(np.linspace(0, 1, len(neigh_ones)))\n",
    "for no, c in zip(neigh_ones, colors):\n",
    "    ax.scatter(no, range(len(no)), label=neighborhoods[index], color=colors[index])\n",
    "    index+=1\n",
    "ax.set_facecolor((0.5,0.5,0.5))\n",
    "ax.legend(loc='upper right', bbox_to_anchor=(1, 2.5));"
   ]
  },
  {
   "cell_type": "markdown",
   "id": "abb09377",
   "metadata": {},
   "source": [
    "- I was thinking on considering more neighborhoods in the features, because seems like neighborhoods can give you a solid window of prices like different areas of prices, but seems like they only work better on the lower espectrum as you can see between <100k and <200k."
   ]
  },
  {
   "cell_type": "code",
   "execution_count": 275,
   "id": "4ab6df95",
   "metadata": {},
   "outputs": [
    {
     "name": "stdout",
     "output_type": "stream",
     "text": [
      "['KitchenAbvGr', 'KitchenQual_Ex', 'KitchenQual_Fa', 'KitchenQual_Gd', 'KitchenQual_TA']\n"
     ]
    },
    {
     "data": {
      "image/png": "[encoded data removed]",
      "text/plain": [
       "<Figure size 640x480 with 1 Axes>"
      ]
     },
     "metadata": {},
     "output_type": "display_data"
    }
   ],
   "source": [
    "kitchens = [n for n in X_merged.columns if 'Kitchen' in n]\n",
    "kitchen_ones = []\n",
    "print(kitchens)\n",
    "for n in kitchens:\n",
    "    kitchen_ones.append(y[X_merged[X_merged[n] == 1][n].index])\n",
    "    \n",
    "fig, ax = plt.subplots()\n",
    "index = 0\n",
    "colors = cm.gist_ncar(np.linspace(0, 1, len(kitchen_ones)))\n",
    "for no, c in zip(kitchen_ones, colors):\n",
    "    ax.scatter(no, range(len(no)), label=kitchens[index], color=colors[index], s=10)\n",
    "    index+=1\n",
    "ax.set_facecolor((0.5,0.5,0.5))\n",
    "ax.legend(loc='upper right');"
   ]
  },
  {
   "cell_type": "markdown",
   "id": "3b9efadf",
   "metadata": {},
   "source": [
    "- KitchenQual_Ex has more observations out of all kitchen features and naturally it would be a good feature, because we have a lot of data for the lower priced houses, and not for the expensive ones."
   ]
  },
  {
   "cell_type": "code",
   "execution_count": 345,
   "id": "f2f443c6",
   "metadata": {},
   "outputs": [
    {
     "name": "stdout",
     "output_type": "stream",
     "text": [
      "['BsmtQual_Ex', 'BsmtQual_Fa', 'BsmtQual_Gd', 'BsmtQual_NA', 'BsmtQual_TA', 'BsmtCond_Fa', 'BsmtCond_Gd', 'BsmtCond_NA', 'BsmtCond_Po', 'BsmtCond_TA', 'BsmtExposure_Av', 'BsmtExposure_Gd', 'BsmtExposure_Mn', 'BsmtExposure_NA', 'BsmtExposure_No', 'BsmtFinType1_ALQ', 'BsmtFinType1_BLQ', 'BsmtFinType1_GLQ', 'BsmtFinType1_LwQ', 'BsmtFinType1_NA', 'BsmtFinType1_Rec', 'BsmtFinType1_Unf', 'BsmtFinType2_ALQ', 'BsmtFinType2_BLQ', 'BsmtFinType2_GLQ', 'BsmtFinType2_LwQ', 'BsmtFinType2_NA', 'BsmtFinType2_Rec']\n"
     ]
    },
    {
     "data": {
      "image/png": "[encoded data removed]",
      "text/plain": [
       "<Figure size 640x480 with 1 Axes>"
      ]
     },
     "metadata": {},
     "output_type": "display_data"
    }
   ],
   "source": [
    "basements = [n for n in X_merged.columns if 'Bsmt' in n and X_merged[n].dtype=='uint8'] #The ones with 0 and 1s\n",
    "basement_ones = []\n",
    "basements.remove('BsmtFinType2_Unf')\n",
    "print(basements)\n",
    "for n in basements:\n",
    "    basement_ones.append(y[X_merged[X_merged[n] == 1][:].index])\n",
    "    \n",
    "fig, ax = plt.subplots()\n",
    "index = 0\n",
    "colors = cm.gist_ncar(np.linspace(0, 1, len(basement_ones)))\n",
    "for no, c in zip(basement_ones, colors):\n",
    "    ax.scatter(no, range(len(no)), label=basements[index], color=colors[index], s=10)\n",
    "    index+=1\n",
    "ax.set_facecolor((0.5,0.5,0.5))\n",
    "ax.legend(loc='upper right', bbox_to_anchor=(1, 2.5));"
   ]
  },
  {
   "cell_type": "markdown",
   "id": "2d594c3f",
   "metadata": {},
   "source": [
    "- Again, the sames applies to BsmtQual_Ex, it is a little more spread to the high end price houses than the other features.\n",
    "- Now let's see how behaves numerical data.\n",
    "- The top feature in backward sequential feature selection is OverallQual, so let's see that."
   ]
  },
  {
   "cell_type": "code",
   "execution_count": 338,
   "id": "888189be",
   "metadata": {},
   "outputs": [
    {
     "data": {
      "text/plain": [
       "['OverallQual', 'OverallCond']"
      ]
     },
     "execution_count": 338,
     "metadata": {},
     "output_type": "execute_result"
    }
   ],
   "source": [
    "# There are two features that are a general appreciation of the house state\n",
    "overall = [n for n in X_merged.columns if 'Overall' in n]\n",
    "overall"
   ]
  },
  {
   "cell_type": "code",
   "execution_count": 340,
   "id": "554cbb6c",
   "metadata": {},
   "outputs": [
    {
     "data": {
      "image/png": "[encoded data removed]",
      "text/plain": [
       "<Figure size 640x480 with 1 Axes>"
      ]
     },
     "metadata": {},
     "output_type": "display_data"
    }
   ],
   "source": [
    "X1data = np.array(X_merged['OverallQual'])\n",
    "X2data = np.array(X_merged['OverallCond'])\n",
    "fig, ax = plt.subplots()\n",
    "ax.scatter(X1data, y);\n",
    "ax.scatter(X2data, y);"
   ]
  },
  {
   "cell_type": "markdown",
   "id": "1c4c93fc",
   "metadata": {},
   "source": [
    "- Clearly, OverallQual has a better spread of the data because OverallCond has more density at the center, meaning that many houses are labeled the same."
   ]
  },
  {
   "cell_type": "code",
   "execution_count": null,
   "id": "664f213d",
   "metadata": {},
   "outputs": [],
   "source": []
  },
  {
   "cell_type": "code",
   "execution_count": null,
   "id": "73a92e9f",
   "metadata": {},
   "outputs": [],
   "source": []
  }
 ],
 "metadata": {
  "kernelspec": {
   "display_name": "Python 3 (ipykernel)",
   "language": "python",
   "name": "python3"
  },
  "language_info": {
   "codemirror_mode": {
    "name": "ipython",
    "version": 3
   },
   "file_extension": ".py",
   "mimetype": "text/x-python",
   "name": "python",
   "nbconvert_exporter": "python",
   "pygments_lexer": "ipython3",
   "version": "3.8.16"
  }
 },
 "nbformat": 4,
 "nbformat_minor": 5
}
