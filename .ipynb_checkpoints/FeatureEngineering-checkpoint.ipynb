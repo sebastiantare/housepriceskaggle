{
 "cells": [
  {
   "cell_type": "code",
   "execution_count": 196,
   "id": "e8b6fd7a",
   "metadata": {},
   "outputs": [],
   "source": [
    "# Imports\n",
    "import torch\n",
    "import math, time\n",
    "import numpy as np\n",
    "import pandas as pd\n",
    "from torch import nn\n",
    "import seaborn as sns\n",
    "import missingno as msno\n",
    "import plotly.express as px\n",
    "import matplotlib.pyplot as plt\n",
    "import matplotlib.cm as cm\n",
    "from sklearn.impute import KNNImputer\n",
    "from sklearn.impute import SimpleImputer\n",
    "from sklearn.compose import ColumnTransformer\n",
    "from torch.utils.data import Dataset, DataLoader\n",
    "from sklearn.linear_model import LinearRegression\n",
    "from sklearn.model_selection import train_test_split\n",
    "from sklearn.metrics import mean_squared_error, mean_absolute_error\n",
    "from sklearn.preprocessing import MinMaxScaler, StandardScaler, LabelEncoder"
   ]
  },
  {
   "cell_type": "code",
   "execution_count": 130,
   "id": "c8e892c1",
   "metadata": {},
   "outputs": [],
   "source": [
    "# Load data\n",
    "test = pd.read_csv(\"data/test.csv\")\n",
    "train = pd.read_csv(\"data/train.csv\")"
   ]
  },
  {
   "cell_type": "code",
   "execution_count": 131,
   "id": "b7c376a7",
   "metadata": {
    "scrolled": true
   },
   "outputs": [
    {
     "data": {
      "text/plain": [
       "((1460, 80), (1460,))"
      ]
     },
     "execution_count": 131,
     "metadata": {},
     "output_type": "execute_result"
    }
   ],
   "source": [
    "dataset = train\n",
    "X = dataset[test.columns]\n",
    "y = dataset['SalePrice']\n",
    "X.shape,y.shape"
   ]
  },
  {
   "cell_type": "code",
   "execution_count": 132,
   "id": "9c545cdf",
   "metadata": {},
   "outputs": [],
   "source": [
    "numerical_columns = X.select_dtypes(include=['int', 'float']).columns\n",
    "X_num = X.loc[:, numerical_columns]\n",
    "\n",
    "# Select the categorical columns\n",
    "categorical_columns = X.select_dtypes(include=['object']).columns\n",
    "X_cat = X.loc[:, categorical_columns]"
   ]
  },
  {
   "cell_type": "code",
   "execution_count": 133,
   "id": "f8b60f80",
   "metadata": {},
   "outputs": [
    {
     "data": {
      "text/plain": [
       "(Index(['Id', 'MSSubClass', 'LotFrontage', 'LotArea', 'OverallQual',\n",
       "        'OverallCond', 'YearBuilt', 'YearRemodAdd', 'MasVnrArea', 'BsmtFinSF1',\n",
       "        'BsmtFinSF2', 'BsmtUnfSF', 'TotalBsmtSF', '1stFlrSF', '2ndFlrSF',\n",
       "        'LowQualFinSF', 'GrLivArea', 'BsmtFullBath', 'BsmtHalfBath', 'FullBath',\n",
       "        'HalfBath', 'BedroomAbvGr', 'KitchenAbvGr', 'TotRmsAbvGrd',\n",
       "        'Fireplaces', 'GarageYrBlt', 'GarageCars', 'GarageArea', 'WoodDeckSF',\n",
       "        'OpenPorchSF', 'EnclosedPorch', '3SsnPorch', 'ScreenPorch', 'PoolArea',\n",
       "        'MiscVal', 'MoSold', 'YrSold'],\n",
       "       dtype='object'),\n",
       " Index(['MSZoning', 'Street', 'Alley', 'LotShape', 'LandContour', 'Utilities',\n",
       "        'LotConfig', 'LandSlope', 'Neighborhood', 'Condition1', 'Condition2',\n",
       "        'BldgType', 'HouseStyle', 'RoofStyle', 'RoofMatl', 'Exterior1st',\n",
       "        'Exterior2nd', 'MasVnrType', 'ExterQual', 'ExterCond', 'Foundation',\n",
       "        'BsmtQual', 'BsmtCond', 'BsmtExposure', 'BsmtFinType1', 'BsmtFinType2',\n",
       "        'Heating', 'HeatingQC', 'CentralAir', 'Electrical', 'KitchenQual',\n",
       "        'Functional', 'FireplaceQu', 'GarageType', 'GarageFinish', 'GarageQual',\n",
       "        'GarageCond', 'PavedDrive', 'PoolQC', 'Fence', 'MiscFeature',\n",
       "        'SaleType', 'SaleCondition'],\n",
       "       dtype='object'))"
      ]
     },
     "execution_count": 133,
     "metadata": {},
     "output_type": "execute_result"
    }
   ],
   "source": [
    "X_num.columns, X_cat.columns"
   ]
  },
  {
   "cell_type": "markdown",
   "id": "db003353",
   "metadata": {},
   "source": [
    "- What numerical features can we create with this base"
   ]
  },
  {
   "cell_type": "markdown",
   "id": "210b6d16",
   "metadata": {},
   "source": [
    "### LotFrontage & LotArea"
   ]
  },
  {
   "cell_type": "code",
   "execution_count": 134,
   "id": "4eb87f13",
   "metadata": {},
   "outputs": [
    {
     "name": "stdout",
     "output_type": "stream",
     "text": [
      "   LotFrontage  LotArea\n",
      "0         65.0     8450\n",
      "1         80.0     9600\n",
      "2         68.0    11250\n",
      "3         60.0     9550\n",
      "4         84.0    14260\n",
      "5         85.0    14115\n",
      "6         75.0    10084\n",
      "7          NaN    10382\n",
      "8         51.0     6120\n",
      "9         50.0     7420\n",
      "\n",
      "Correlation LotFrontage LotArea: 0.4260950187718081\n"
     ]
    }
   ],
   "source": [
    "# We have LotFrontage and LotArea\n",
    "print(X_num[['LotFrontage', 'LotArea']][:10])\n",
    "print('\\nCorrelation','LotFrontage', 'LotArea:', X_num[['LotFrontage', 'LotArea']].corr()['LotFrontage'][1])"
   ]
  },
  {
   "cell_type": "code",
   "execution_count": 135,
   "id": "5047deb7",
   "metadata": {},
   "outputs": [
    {
     "data": {
      "text/plain": [
       "(259, 0)"
      ]
     },
     "execution_count": 135,
     "metadata": {},
     "output_type": "execute_result"
    }
   ],
   "source": [
    "# Check null values\n",
    "X_num['LotFrontage'].isnull().sum(), X_num['LotArea'].isnull().sum()"
   ]
  },
  {
   "cell_type": "code",
   "execution_count": 136,
   "id": "25123c94",
   "metadata": {},
   "outputs": [
    {
     "data": {
      "text/plain": [
       "array(['Pave', 'Grvl'], dtype=object)"
      ]
     },
     "execution_count": 136,
     "metadata": {},
     "output_type": "execute_result"
    }
   ],
   "source": [
    "X['Street'].unique()"
   ]
  },
  {
   "cell_type": "code",
   "execution_count": 137,
   "id": "b150cd8a",
   "metadata": {},
   "outputs": [
    {
     "data": {
      "text/plain": [
       "0"
      ]
     },
     "execution_count": 137,
     "metadata": {},
     "output_type": "execute_result"
    }
   ],
   "source": [
    "X[X_num['LotFrontage'].isnull()]['Street'].isnull().sum()\n",
    "# There are 0 datapoints with missing LotFrontage data that has null Street"
   ]
  },
  {
   "cell_type": "code",
   "execution_count": 138,
   "id": "53e15a2a",
   "metadata": {},
   "outputs": [
    {
     "data": {
      "text/plain": [
       "232      21.0\n",
       "837      21.0\n",
       "235      21.0\n",
       "1029     21.0\n",
       "1038     21.0\n",
       "        ...  \n",
       "231     174.0\n",
       "197     174.0\n",
       "1127    182.0\n",
       "934     313.0\n",
       "1298    313.0\n",
       "Name: LotFrontage, Length: 1201, dtype: float64"
      ]
     },
     "execution_count": 138,
     "metadata": {},
     "output_type": "execute_result"
    }
   ],
   "source": [
    "X[X['LotFrontage'] > 0]['LotFrontage'].sort_values()\n",
    "# There are no 0 LotFrontage\n",
    "# So, assuming we have Street data for all the datapoints with missing LotFrontage data\n",
    "# We should try completing the missing LotFrontage data with something more than 0"
   ]
  },
  {
   "cell_type": "code",
   "execution_count": 139,
   "id": "8cb4fff5",
   "metadata": {},
   "outputs": [
    {
     "data": {
      "image/png": "[encoded data removed]",
      "text/plain": [
       "<Figure size 640x480 with 1 Axes>"
      ]
     },
     "metadata": {},
     "output_type": "display_data"
    }
   ],
   "source": [
    "# Assuming the relation of LotArea and LotFrontage, we can estimate the value for\n",
    "scaler = StandardScaler()\n",
    "scaled_data = scaler.fit_transform(X[['LotArea', 'LotFrontage']])\n",
    "pd.DataFrame(scaled_data[-100:], columns=['LotArea', 'LotFrontage']).plot();"
   ]
  },
  {
   "cell_type": "code",
   "execution_count": 140,
   "id": "67f4b8b7",
   "metadata": {},
   "outputs": [
    {
     "data": {
      "image/png": "[encoded data removed]",
      "text/plain": [
       "<Figure size 640x480 with 1 Axes>"
      ]
     },
     "metadata": {},
     "output_type": "display_data"
    }
   ],
   "source": [
    "df_knn = X.filter(['LotFrontage','LotArea'], axis=1).copy()\n",
    "\n",
    "# We use the same scaler from before\n",
    "df_knn = pd.DataFrame(scaler.fit_transform(df_knn), columns = df_knn.columns)\n",
    "\n",
    "knn_imputer = KNNImputer(n_neighbors=5, weights='uniform', metric='nan_euclidean')\n",
    "\n",
    "df_knn_imputed = pd.DataFrame(knn_imputer.fit_transform(df_knn), columns=df_knn.columns)\n",
    "\n",
    "fig = plt.Figure()\n",
    "null_values = X[\"LotFrontage\"].isnull() \n",
    "fig = df_knn_imputed.plot(x=\"LotArea\", y=\"LotFrontage\", kind=\"scatter\", c=null_values, cmap='winter', title='KNN Imputation', colorbar=False)"
   ]
  },
  {
   "cell_type": "code",
   "execution_count": 141,
   "id": "9604e44d",
   "metadata": {},
   "outputs": [
    {
     "data": {
      "image/png": "[encoded data removed]",
      "text/plain": [
       "<Figure size 640x480 with 1 Axes>"
      ]
     },
     "metadata": {},
     "output_type": "display_data"
    }
   ],
   "source": [
    "df_knn_imputed = pd.DataFrame(df_knn_imputed, columns=['LotArea', 'LotFrontage'])\n",
    "df_knn_imputed[-100:].plot();"
   ]
  },
  {
   "cell_type": "code",
   "execution_count": 152,
   "id": "2c064c57",
   "metadata": {},
   "outputs": [
    {
     "name": "stderr",
     "output_type": "stream",
     "text": [
      "/tmp/ipykernel_22057/1003399457.py:1: SettingWithCopyWarning: \n",
      "A value is trying to be set on a copy of a slice from a DataFrame.\n",
      "Try using .loc[row_indexer,col_indexer] = value instead\n",
      "\n",
      "See the caveats in the documentation: https://pandas.pydata.org/pandas-docs/stable/user_guide/indexing.html#returning-a-view-versus-a-copy\n",
      "  X['LotFrontage'] = df_knn_imputed['LotFrontage']\n"
     ]
    }
   ],
   "source": [
    "X['LotFrontage'] = df_knn_imputed['LotFrontage']"
   ]
  },
  {
   "cell_type": "code",
   "execution_count": 153,
   "id": "66590c37",
   "metadata": {},
   "outputs": [
    {
     "data": {
      "text/plain": [
       "0"
      ]
     },
     "execution_count": 153,
     "metadata": {},
     "output_type": "execute_result"
    }
   ],
   "source": [
    "X['LotFrontage'].isnull().sum()"
   ]
  },
  {
   "cell_type": "code",
   "execution_count": 174,
   "id": "bff8194b",
   "metadata": {},
   "outputs": [],
   "source": [
    "# New feature\n",
    "scaler = StandardScaler()\n",
    "\n",
    "X_num_scaled = pd.DataFrame(scaler.fit_transform(X_num), columns=X_num.columns)\n",
    "\n",
    "X_num_scaled['LotTotal'] = X_num_scaled['LotFrontage'] + X_num_scaled['LotArea']"
   ]
  },
  {
   "cell_type": "code",
   "execution_count": 175,
   "id": "b9dd8c61",
   "metadata": {
    "scrolled": true
   },
   "outputs": [
    {
     "data": {
      "text/html": [
       "<div>\n",
       "<style scoped>\n",
       "    .dataframe tbody tr th:only-of-type {\n",
       "        vertical-align: middle;\n",
       "    }\n",
       "\n",
       "    .dataframe tbody tr th {\n",
       "        vertical-align: top;\n",
       "    }\n",
       "\n",
       "    .dataframe thead th {\n",
       "        text-align: right;\n",
       "    }\n",
       "</style>\n",
       "<table border=\"1\" class=\"dataframe\">\n",
       "  <thead>\n",
       "    <tr style=\"text-align: right;\">\n",
       "      <th></th>\n",
       "      <th>LotTotal</th>\n",
       "      <th>LotFrontage</th>\n",
       "      <th>LotArea</th>\n",
       "    </tr>\n",
       "  </thead>\n",
       "  <tbody>\n",
       "    <tr>\n",
       "      <th>LotTotal</th>\n",
       "      <td>1.000000</td>\n",
       "      <td>0.881133</td>\n",
       "      <td>0.803241</td>\n",
       "    </tr>\n",
       "    <tr>\n",
       "      <th>LotFrontage</th>\n",
       "      <td>0.881133</td>\n",
       "      <td>1.000000</td>\n",
       "      <td>0.426095</td>\n",
       "    </tr>\n",
       "    <tr>\n",
       "      <th>LotArea</th>\n",
       "      <td>0.803241</td>\n",
       "      <td>0.426095</td>\n",
       "      <td>1.000000</td>\n",
       "    </tr>\n",
       "  </tbody>\n",
       "</table>\n",
       "</div>"
      ],
      "text/plain": [
       "             LotTotal  LotFrontage   LotArea\n",
       "LotTotal     1.000000     0.881133  0.803241\n",
       "LotFrontage  0.881133     1.000000  0.426095\n",
       "LotArea      0.803241     0.426095  1.000000"
      ]
     },
     "execution_count": 175,
     "metadata": {},
     "output_type": "execute_result"
    }
   ],
   "source": [
    "X_num_scaled[['LotTotal', 'LotFrontage', 'LotArea']].corr()"
   ]
  },
  {
   "cell_type": "code",
   "execution_count": 176,
   "id": "88b37a46",
   "metadata": {},
   "outputs": [
    {
     "data": {
      "image/png": "[encoded data removed]",
      "text/plain": [
       "<Figure size 640x480 with 1 Axes>"
      ]
     },
     "metadata": {},
     "output_type": "display_data"
    }
   ],
   "source": [
    "X_num_scaled[['LotTotal', 'LotFrontage', 'LotArea']].plot();"
   ]
  },
  {
   "cell_type": "markdown",
   "id": "bfac8b9e",
   "metadata": {},
   "source": [
    "### Quality and Condition Overall"
   ]
  },
  {
   "cell_type": "code",
   "execution_count": 268,
   "id": "215f022f",
   "metadata": {
    "scrolled": true
   },
   "outputs": [
    {
     "data": {
      "text/html": [
       "<div>\n",
       "<style scoped>\n",
       "    .dataframe tbody tr th:only-of-type {\n",
       "        vertical-align: middle;\n",
       "    }\n",
       "\n",
       "    .dataframe tbody tr th {\n",
       "        vertical-align: top;\n",
       "    }\n",
       "\n",
       "    .dataframe thead th {\n",
       "        text-align: right;\n",
       "    }\n",
       "</style>\n",
       "<table border=\"1\" class=\"dataframe\">\n",
       "  <thead>\n",
       "    <tr style=\"text-align: right;\">\n",
       "      <th></th>\n",
       "      <th>OverallQual</th>\n",
       "      <th>OverallCond</th>\n",
       "      <th>QualCondSum</th>\n",
       "      <th>SalePrice</th>\n",
       "    </tr>\n",
       "  </thead>\n",
       "  <tbody>\n",
       "    <tr>\n",
       "      <th>OverallQual</th>\n",
       "      <td>1.000000</td>\n",
       "      <td>-0.091932</td>\n",
       "      <td>0.756229</td>\n",
       "      <td>0.790982</td>\n",
       "    </tr>\n",
       "    <tr>\n",
       "      <th>OverallCond</th>\n",
       "      <td>-0.091932</td>\n",
       "      <td>1.000000</td>\n",
       "      <td>0.582014</td>\n",
       "      <td>-0.077856</td>\n",
       "    </tr>\n",
       "    <tr>\n",
       "      <th>QualCondSum</th>\n",
       "      <td>0.756229</td>\n",
       "      <td>0.582014</td>\n",
       "      <td>1.000000</td>\n",
       "      <td>0.594786</td>\n",
       "    </tr>\n",
       "    <tr>\n",
       "      <th>SalePrice</th>\n",
       "      <td>0.790982</td>\n",
       "      <td>-0.077856</td>\n",
       "      <td>0.594786</td>\n",
       "      <td>1.000000</td>\n",
       "    </tr>\n",
       "  </tbody>\n",
       "</table>\n",
       "</div>"
      ],
      "text/plain": [
       "             OverallQual  OverallCond  QualCondSum  SalePrice\n",
       "OverallQual     1.000000    -0.091932     0.756229   0.790982\n",
       "OverallCond    -0.091932     1.000000     0.582014  -0.077856\n",
       "QualCondSum     0.756229     0.582014     1.000000   0.594786\n",
       "SalePrice       0.790982    -0.077856     0.594786   1.000000"
      ]
     },
     "execution_count": 268,
     "metadata": {},
     "output_type": "execute_result"
    }
   ],
   "source": [
    "X['QualCondSum'] = X['OverallQual'] + X['OverallCond']\n",
    "pd.concat([X[['OverallQual', 'OverallCond', 'QualCondSum']], y], axis=1).corr()"
   ]
  },
  {
   "cell_type": "markdown",
   "id": "a35ca037",
   "metadata": {},
   "source": [
    " - Correlation of 0.529166 with the new feature is worse than OverallQual, but better than OverallCond, so I should't use this in the features subset."
   ]
  },
  {
   "cell_type": "markdown",
   "id": "661526c1",
   "metadata": {},
   "source": [
    "### Floor Square Feet"
   ]
  },
  {
   "cell_type": "code",
   "execution_count": 202,
   "id": "3952b4d5",
   "metadata": {},
   "outputs": [
    {
     "data": {
      "text/html": [
       "<div>\n",
       "<style scoped>\n",
       "    .dataframe tbody tr th:only-of-type {\n",
       "        vertical-align: middle;\n",
       "    }\n",
       "\n",
       "    .dataframe tbody tr th {\n",
       "        vertical-align: top;\n",
       "    }\n",
       "\n",
       "    .dataframe thead th {\n",
       "        text-align: right;\n",
       "    }\n",
       "</style>\n",
       "<table border=\"1\" class=\"dataframe\">\n",
       "  <thead>\n",
       "    <tr style=\"text-align: right;\">\n",
       "      <th></th>\n",
       "      <th>1st2ndFlrSF_Sum</th>\n",
       "      <th>2ndFlrSF</th>\n",
       "      <th>1stFlrSF</th>\n",
       "      <th>SalePrice</th>\n",
       "    </tr>\n",
       "  </thead>\n",
       "  <tbody>\n",
       "    <tr>\n",
       "      <th>1st2ndFlrSF_Sum</th>\n",
       "      <td>1.000000</td>\n",
       "      <td>0.631409</td>\n",
       "      <td>0.631409</td>\n",
       "      <td>0.732636</td>\n",
       "    </tr>\n",
       "    <tr>\n",
       "      <th>2ndFlrSF</th>\n",
       "      <td>0.631409</td>\n",
       "      <td>1.000000</td>\n",
       "      <td>-0.202646</td>\n",
       "      <td>0.319334</td>\n",
       "    </tr>\n",
       "    <tr>\n",
       "      <th>1stFlrSF</th>\n",
       "      <td>0.631409</td>\n",
       "      <td>-0.202646</td>\n",
       "      <td>1.000000</td>\n",
       "      <td>0.605852</td>\n",
       "    </tr>\n",
       "    <tr>\n",
       "      <th>SalePrice</th>\n",
       "      <td>0.732636</td>\n",
       "      <td>0.319334</td>\n",
       "      <td>0.605852</td>\n",
       "      <td>1.000000</td>\n",
       "    </tr>\n",
       "  </tbody>\n",
       "</table>\n",
       "</div>"
      ],
      "text/plain": [
       "                 1st2ndFlrSF_Sum  2ndFlrSF  1stFlrSF  SalePrice\n",
       "1st2ndFlrSF_Sum         1.000000  0.631409  0.631409   0.732636\n",
       "2ndFlrSF                0.631409  1.000000 -0.202646   0.319334\n",
       "1stFlrSF                0.631409 -0.202646  1.000000   0.605852\n",
       "SalePrice               0.732636  0.319334  0.605852   1.000000"
      ]
     },
     "execution_count": 202,
     "metadata": {},
     "output_type": "execute_result"
    }
   ],
   "source": [
    "X_num_scaled['1st2ndFlrSF_Sum'] = X_num_scaled['1stFlrSF'] + X_num_scaled['2ndFlrSF']\n",
    "pd.concat([X_num_scaled[['1st2ndFlrSF_Sum', '2ndFlrSF', '1stFlrSF']], y], axis=1).corr()"
   ]
  },
  {
   "cell_type": "markdown",
   "id": "5fd8b398",
   "metadata": {},
   "source": [
    "- The sum of the first and second floor square feet did improve the correlation from 0.605852 to 0.732636, so this one is being included."
   ]
  },
  {
   "cell_type": "markdown",
   "id": "1c7ce536",
   "metadata": {},
   "source": [
    "### Year Build and Year Remodelation\n",
    "- If no remodelation, then the year stays the same, so my guess is that if there is no remodelation, or 0, the price should be lower, and vice versa."
   ]
  },
  {
   "cell_type": "code",
   "execution_count": 262,
   "id": "376b7535",
   "metadata": {},
   "outputs": [
    {
     "data": {
      "text/html": [
       "<div>\n",
       "<style scoped>\n",
       "    .dataframe tbody tr th:only-of-type {\n",
       "        vertical-align: middle;\n",
       "    }\n",
       "\n",
       "    .dataframe tbody tr th {\n",
       "        vertical-align: top;\n",
       "    }\n",
       "\n",
       "    .dataframe thead th {\n",
       "        text-align: right;\n",
       "    }\n",
       "</style>\n",
       "<table border=\"1\" class=\"dataframe\">\n",
       "  <thead>\n",
       "    <tr style=\"text-align: right;\">\n",
       "      <th></th>\n",
       "      <th>YearDiffRemod</th>\n",
       "      <th>YearRemodAdd</th>\n",
       "      <th>YearBuilt</th>\n",
       "      <th>SalePrice</th>\n",
       "    </tr>\n",
       "  </thead>\n",
       "  <tbody>\n",
       "    <tr>\n",
       "      <th>YearDiffRemod</th>\n",
       "      <td>1.000000</td>\n",
       "      <td>0.111922</td>\n",
       "      <td>-0.733896</td>\n",
       "      <td>-0.217503</td>\n",
       "    </tr>\n",
       "    <tr>\n",
       "      <th>YearRemodAdd</th>\n",
       "      <td>0.111922</td>\n",
       "      <td>1.000000</td>\n",
       "      <td>0.592855</td>\n",
       "      <td>0.507101</td>\n",
       "    </tr>\n",
       "    <tr>\n",
       "      <th>YearBuilt</th>\n",
       "      <td>-0.733896</td>\n",
       "      <td>0.592855</td>\n",
       "      <td>1.000000</td>\n",
       "      <td>0.522897</td>\n",
       "    </tr>\n",
       "    <tr>\n",
       "      <th>SalePrice</th>\n",
       "      <td>-0.217503</td>\n",
       "      <td>0.507101</td>\n",
       "      <td>0.522897</td>\n",
       "      <td>1.000000</td>\n",
       "    </tr>\n",
       "  </tbody>\n",
       "</table>\n",
       "</div>"
      ],
      "text/plain": [
       "               YearDiffRemod  YearRemodAdd  YearBuilt  SalePrice\n",
       "YearDiffRemod       1.000000      0.111922  -0.733896  -0.217503\n",
       "YearRemodAdd        0.111922      1.000000   0.592855   0.507101\n",
       "YearBuilt          -0.733896      0.592855   1.000000   0.522897\n",
       "SalePrice          -0.217503      0.507101   0.522897   1.000000"
      ]
     },
     "execution_count": 262,
     "metadata": {},
     "output_type": "execute_result"
    }
   ],
   "source": [
    "X['YearDiffRemod'] = X['YearRemodAdd'] - X['YearBuilt']\n",
    "pd.concat([X[['YearDiffRemod', 'YearRemodAdd', 'YearBuilt']], y], axis=1).corr()"
   ]
  },
  {
   "cell_type": "code",
   "execution_count": 267,
   "id": "cb2f6968",
   "metadata": {},
   "outputs": [
    {
     "data": {
      "text/html": [
       "<div>\n",
       "<style scoped>\n",
       "    .dataframe tbody tr th:only-of-type {\n",
       "        vertical-align: middle;\n",
       "    }\n",
       "\n",
       "    .dataframe tbody tr th {\n",
       "        vertical-align: top;\n",
       "    }\n",
       "\n",
       "    .dataframe thead th {\n",
       "        text-align: right;\n",
       "    }\n",
       "</style>\n",
       "<table border=\"1\" class=\"dataframe\">\n",
       "  <thead>\n",
       "    <tr style=\"text-align: right;\">\n",
       "      <th></th>\n",
       "      <th>YearBuilt</th>\n",
       "      <th>YearRemodAdd</th>\n",
       "      <th>YearDiffRemod</th>\n",
       "    </tr>\n",
       "  </thead>\n",
       "  <tbody>\n",
       "    <tr>\n",
       "      <th>0</th>\n",
       "      <td>2003</td>\n",
       "      <td>2003</td>\n",
       "      <td>0</td>\n",
       "    </tr>\n",
       "    <tr>\n",
       "      <th>1</th>\n",
       "      <td>1976</td>\n",
       "      <td>1976</td>\n",
       "      <td>0</td>\n",
       "    </tr>\n",
       "    <tr>\n",
       "      <th>2</th>\n",
       "      <td>2001</td>\n",
       "      <td>2002</td>\n",
       "      <td>1</td>\n",
       "    </tr>\n",
       "    <tr>\n",
       "      <th>3</th>\n",
       "      <td>1915</td>\n",
       "      <td>1970</td>\n",
       "      <td>55</td>\n",
       "    </tr>\n",
       "    <tr>\n",
       "      <th>4</th>\n",
       "      <td>2000</td>\n",
       "      <td>2000</td>\n",
       "      <td>0</td>\n",
       "    </tr>\n",
       "    <tr>\n",
       "      <th>...</th>\n",
       "      <td>...</td>\n",
       "      <td>...</td>\n",
       "      <td>...</td>\n",
       "    </tr>\n",
       "    <tr>\n",
       "      <th>1455</th>\n",
       "      <td>1999</td>\n",
       "      <td>2000</td>\n",
       "      <td>1</td>\n",
       "    </tr>\n",
       "    <tr>\n",
       "      <th>1456</th>\n",
       "      <td>1978</td>\n",
       "      <td>1988</td>\n",
       "      <td>10</td>\n",
       "    </tr>\n",
       "    <tr>\n",
       "      <th>1457</th>\n",
       "      <td>1941</td>\n",
       "      <td>2006</td>\n",
       "      <td>65</td>\n",
       "    </tr>\n",
       "    <tr>\n",
       "      <th>1458</th>\n",
       "      <td>1950</td>\n",
       "      <td>1996</td>\n",
       "      <td>46</td>\n",
       "    </tr>\n",
       "    <tr>\n",
       "      <th>1459</th>\n",
       "      <td>1965</td>\n",
       "      <td>1965</td>\n",
       "      <td>0</td>\n",
       "    </tr>\n",
       "  </tbody>\n",
       "</table>\n",
       "<p>1460 rows × 3 columns</p>\n",
       "</div>"
      ],
      "text/plain": [
       "      YearBuilt  YearRemodAdd  YearDiffRemod\n",
       "0          2003          2003              0\n",
       "1          1976          1976              0\n",
       "2          2001          2002              1\n",
       "3          1915          1970             55\n",
       "4          2000          2000              0\n",
       "...         ...           ...            ...\n",
       "1455       1999          2000              1\n",
       "1456       1978          1988             10\n",
       "1457       1941          2006             65\n",
       "1458       1950          1996             46\n",
       "1459       1965          1965              0\n",
       "\n",
       "[1460 rows x 3 columns]"
      ]
     },
     "execution_count": 267,
     "metadata": {},
     "output_type": "execute_result"
    }
   ],
   "source": [
    "X[[ 'YearBuilt',  'YearRemodAdd', 'YearDiffRemod']]"
   ]
  },
  {
   "cell_type": "markdown",
   "id": "72f74c61",
   "metadata": {},
   "source": [
    "- The correlation is bad -0.017505 so I'm leaving this feature out."
   ]
  },
  {
   "cell_type": "markdown",
   "id": "8818f8d6",
   "metadata": {},
   "source": [
    "### Garage Cars and Garage Area\n",
    "- Bigger ratio of space for each car might be related to expensive houses"
   ]
  },
  {
   "cell_type": "code",
   "execution_count": 254,
   "id": "0518f0e8",
   "metadata": {},
   "outputs": [
    {
     "data": {
      "text/html": [
       "<div>\n",
       "<style scoped>\n",
       "    .dataframe tbody tr th:only-of-type {\n",
       "        vertical-align: middle;\n",
       "    }\n",
       "\n",
       "    .dataframe tbody tr th {\n",
       "        vertical-align: top;\n",
       "    }\n",
       "\n",
       "    .dataframe thead th {\n",
       "        text-align: right;\n",
       "    }\n",
       "</style>\n",
       "<table border=\"1\" class=\"dataframe\">\n",
       "  <thead>\n",
       "    <tr style=\"text-align: right;\">\n",
       "      <th></th>\n",
       "      <th>GarageCarsRatio</th>\n",
       "      <th>GarageCars</th>\n",
       "      <th>GarageArea</th>\n",
       "      <th>SalePrice</th>\n",
       "    </tr>\n",
       "  </thead>\n",
       "  <tbody>\n",
       "    <tr>\n",
       "      <th>GarageCarsRatio</th>\n",
       "      <td>1.000000</td>\n",
       "      <td>-0.203312</td>\n",
       "      <td>0.333006</td>\n",
       "      <td>-0.013972</td>\n",
       "    </tr>\n",
       "    <tr>\n",
       "      <th>GarageCars</th>\n",
       "      <td>-0.203312</td>\n",
       "      <td>1.000000</td>\n",
       "      <td>0.882475</td>\n",
       "      <td>0.640409</td>\n",
       "    </tr>\n",
       "    <tr>\n",
       "      <th>GarageArea</th>\n",
       "      <td>0.333006</td>\n",
       "      <td>0.882475</td>\n",
       "      <td>1.000000</td>\n",
       "      <td>0.623431</td>\n",
       "    </tr>\n",
       "    <tr>\n",
       "      <th>SalePrice</th>\n",
       "      <td>-0.013972</td>\n",
       "      <td>0.640409</td>\n",
       "      <td>0.623431</td>\n",
       "      <td>1.000000</td>\n",
       "    </tr>\n",
       "  </tbody>\n",
       "</table>\n",
       "</div>"
      ],
      "text/plain": [
       "                 GarageCarsRatio  GarageCars  GarageArea  SalePrice\n",
       "GarageCarsRatio         1.000000   -0.203312    0.333006  -0.013972\n",
       "GarageCars             -0.203312    1.000000    0.882475   0.640409\n",
       "GarageArea              0.333006    0.882475    1.000000   0.623431\n",
       "SalePrice              -0.013972    0.640409    0.623431   1.000000"
      ]
     },
     "execution_count": 254,
     "metadata": {},
     "output_type": "execute_result"
    }
   ],
   "source": [
    "X['GarageCarsRatio'] = X['GarageArea'] / X['GarageCars']\n",
    "pd.concat([X[['GarageCarsRatio', 'GarageCars', 'GarageArea']], y], axis=1).corr()"
   ]
  },
  {
   "cell_type": "code",
   "execution_count": 261,
   "id": "f402a185",
   "metadata": {},
   "outputs": [
    {
     "data": {
      "text/html": [
       "<div>\n",
       "<style scoped>\n",
       "    .dataframe tbody tr th:only-of-type {\n",
       "        vertical-align: middle;\n",
       "    }\n",
       "\n",
       "    .dataframe tbody tr th {\n",
       "        vertical-align: top;\n",
       "    }\n",
       "\n",
       "    .dataframe thead th {\n",
       "        text-align: right;\n",
       "    }\n",
       "</style>\n",
       "<table border=\"1\" class=\"dataframe\">\n",
       "  <thead>\n",
       "    <tr style=\"text-align: right;\">\n",
       "      <th></th>\n",
       "      <th>GarageCars</th>\n",
       "      <th>GarageArea</th>\n",
       "      <th>GarageCarsRatio</th>\n",
       "    </tr>\n",
       "  </thead>\n",
       "  <tbody>\n",
       "    <tr>\n",
       "      <th>0</th>\n",
       "      <td>2</td>\n",
       "      <td>548</td>\n",
       "      <td>274.000000</td>\n",
       "    </tr>\n",
       "    <tr>\n",
       "      <th>1</th>\n",
       "      <td>2</td>\n",
       "      <td>460</td>\n",
       "      <td>230.000000</td>\n",
       "    </tr>\n",
       "    <tr>\n",
       "      <th>2</th>\n",
       "      <td>2</td>\n",
       "      <td>608</td>\n",
       "      <td>304.000000</td>\n",
       "    </tr>\n",
       "    <tr>\n",
       "      <th>3</th>\n",
       "      <td>3</td>\n",
       "      <td>642</td>\n",
       "      <td>214.000000</td>\n",
       "    </tr>\n",
       "    <tr>\n",
       "      <th>4</th>\n",
       "      <td>3</td>\n",
       "      <td>836</td>\n",
       "      <td>278.666667</td>\n",
       "    </tr>\n",
       "    <tr>\n",
       "      <th>...</th>\n",
       "      <td>...</td>\n",
       "      <td>...</td>\n",
       "      <td>...</td>\n",
       "    </tr>\n",
       "    <tr>\n",
       "      <th>1455</th>\n",
       "      <td>2</td>\n",
       "      <td>460</td>\n",
       "      <td>230.000000</td>\n",
       "    </tr>\n",
       "    <tr>\n",
       "      <th>1456</th>\n",
       "      <td>2</td>\n",
       "      <td>500</td>\n",
       "      <td>250.000000</td>\n",
       "    </tr>\n",
       "    <tr>\n",
       "      <th>1457</th>\n",
       "      <td>1</td>\n",
       "      <td>252</td>\n",
       "      <td>252.000000</td>\n",
       "    </tr>\n",
       "    <tr>\n",
       "      <th>1458</th>\n",
       "      <td>1</td>\n",
       "      <td>240</td>\n",
       "      <td>240.000000</td>\n",
       "    </tr>\n",
       "    <tr>\n",
       "      <th>1459</th>\n",
       "      <td>1</td>\n",
       "      <td>276</td>\n",
       "      <td>276.000000</td>\n",
       "    </tr>\n",
       "  </tbody>\n",
       "</table>\n",
       "<p>1460 rows × 3 columns</p>\n",
       "</div>"
      ],
      "text/plain": [
       "      GarageCars  GarageArea  GarageCarsRatio\n",
       "0              2         548       274.000000\n",
       "1              2         460       230.000000\n",
       "2              2         608       304.000000\n",
       "3              3         642       214.000000\n",
       "4              3         836       278.666667\n",
       "...          ...         ...              ...\n",
       "1455           2         460       230.000000\n",
       "1456           2         500       250.000000\n",
       "1457           1         252       252.000000\n",
       "1458           1         240       240.000000\n",
       "1459           1         276       276.000000\n",
       "\n",
       "[1460 rows x 3 columns]"
      ]
     },
     "execution_count": 261,
     "metadata": {},
     "output_type": "execute_result"
    }
   ],
   "source": [
    "X[['GarageCars', 'GarageArea', 'GarageCarsRatio']]"
   ]
  },
  {
   "cell_type": "markdown",
   "id": "fd4a138a",
   "metadata": {},
   "source": [
    "- It didn't perform as well as expected."
   ]
  },
  {
   "cell_type": "markdown",
   "id": "4aec1611",
   "metadata": {},
   "source": [
    "### All Areas"
   ]
  },
  {
   "cell_type": "code",
   "execution_count": 242,
   "id": "6b42ca1d",
   "metadata": {},
   "outputs": [
    {
     "data": {
      "text/plain": [
       "['LotArea', 'MasVnrArea', 'GrLivArea', 'GarageArea', 'PoolArea']"
      ]
     },
     "execution_count": 242,
     "metadata": {},
     "output_type": "execute_result"
    }
   ],
   "source": [
    "areas_columns = []\n",
    "for name in X_num_scaled.columns:\n",
    "    if 'Area' in name:\n",
    "        areas_columns.append(name)\n",
    "areas_columns\n",
    "# I'm leaving pool area out because it barely has values."
   ]
  },
  {
   "cell_type": "code",
   "execution_count": 245,
   "id": "d0a1365d",
   "metadata": {},
   "outputs": [
    {
     "data": {
      "text/html": [
       "<div>\n",
       "<style scoped>\n",
       "    .dataframe tbody tr th:only-of-type {\n",
       "        vertical-align: middle;\n",
       "    }\n",
       "\n",
       "    .dataframe tbody tr th {\n",
       "        vertical-align: top;\n",
       "    }\n",
       "\n",
       "    .dataframe thead th {\n",
       "        text-align: right;\n",
       "    }\n",
       "</style>\n",
       "<table border=\"1\" class=\"dataframe\">\n",
       "  <thead>\n",
       "    <tr style=\"text-align: right;\">\n",
       "      <th></th>\n",
       "      <th>AllAreasSum</th>\n",
       "      <th>LotArea</th>\n",
       "      <th>MasVnrArea</th>\n",
       "      <th>GrLivArea</th>\n",
       "      <th>GarageArea</th>\n",
       "      <th>SalePrice</th>\n",
       "    </tr>\n",
       "  </thead>\n",
       "  <tbody>\n",
       "    <tr>\n",
       "      <th>AllAreasSum</th>\n",
       "      <td>1.000000</td>\n",
       "      <td>0.562421</td>\n",
       "      <td>0.679303</td>\n",
       "      <td>0.771555</td>\n",
       "      <td>0.736064</td>\n",
       "      <td>0.754630</td>\n",
       "    </tr>\n",
       "    <tr>\n",
       "      <th>LotArea</th>\n",
       "      <td>0.562421</td>\n",
       "      <td>1.000000</td>\n",
       "      <td>0.104160</td>\n",
       "      <td>0.263116</td>\n",
       "      <td>0.180403</td>\n",
       "      <td>0.263843</td>\n",
       "    </tr>\n",
       "    <tr>\n",
       "      <th>MasVnrArea</th>\n",
       "      <td>0.679303</td>\n",
       "      <td>0.104160</td>\n",
       "      <td>1.000000</td>\n",
       "      <td>0.390857</td>\n",
       "      <td>0.373066</td>\n",
       "      <td>0.477493</td>\n",
       "    </tr>\n",
       "    <tr>\n",
       "      <th>GrLivArea</th>\n",
       "      <td>0.771555</td>\n",
       "      <td>0.263116</td>\n",
       "      <td>0.390857</td>\n",
       "      <td>1.000000</td>\n",
       "      <td>0.468997</td>\n",
       "      <td>0.708624</td>\n",
       "    </tr>\n",
       "    <tr>\n",
       "      <th>GarageArea</th>\n",
       "      <td>0.736064</td>\n",
       "      <td>0.180403</td>\n",
       "      <td>0.373066</td>\n",
       "      <td>0.468997</td>\n",
       "      <td>1.000000</td>\n",
       "      <td>0.623431</td>\n",
       "    </tr>\n",
       "    <tr>\n",
       "      <th>SalePrice</th>\n",
       "      <td>0.754630</td>\n",
       "      <td>0.263843</td>\n",
       "      <td>0.477493</td>\n",
       "      <td>0.708624</td>\n",
       "      <td>0.623431</td>\n",
       "      <td>1.000000</td>\n",
       "    </tr>\n",
       "  </tbody>\n",
       "</table>\n",
       "</div>"
      ],
      "text/plain": [
       "             AllAreasSum   LotArea  MasVnrArea  GrLivArea  GarageArea  \\\n",
       "AllAreasSum     1.000000  0.562421    0.679303   0.771555    0.736064   \n",
       "LotArea         0.562421  1.000000    0.104160   0.263116    0.180403   \n",
       "MasVnrArea      0.679303  0.104160    1.000000   0.390857    0.373066   \n",
       "GrLivArea       0.771555  0.263116    0.390857   1.000000    0.468997   \n",
       "GarageArea      0.736064  0.180403    0.373066   0.468997    1.000000   \n",
       "SalePrice       0.754630  0.263843    0.477493   0.708624    0.623431   \n",
       "\n",
       "             SalePrice  \n",
       "AllAreasSum   0.754630  \n",
       "LotArea       0.263843  \n",
       "MasVnrArea    0.477493  \n",
       "GrLivArea     0.708624  \n",
       "GarageArea    0.623431  \n",
       "SalePrice     1.000000  "
      ]
     },
     "execution_count": 245,
     "metadata": {},
     "output_type": "execute_result"
    }
   ],
   "source": [
    "X_num_scaled['AllAreasSum'] = X_num_scaled['LotArea'] + X_num_scaled['MasVnrArea'] + X_num_scaled['GrLivArea'] + X_num_scaled['GarageArea']\n",
    "pd.concat([X_num_scaled[['AllAreasSum', 'LotArea', 'MasVnrArea', 'GrLivArea', 'GarageArea', ]], y], axis=1).corr()"
   ]
  },
  {
   "cell_type": "markdown",
   "id": "1e03d061",
   "metadata": {},
   "source": [
    "- I'm not sure about the sum of all areas, because it is equally correlated with the other areas and the sale price\n",
    "- If it was more correlated with the areas, I would've leaved it out because it will not add much more predictive value\n",
    "- But I'm leaving it for testing."
   ]
  },
  {
   "cell_type": "markdown",
   "id": "dbaba600",
   "metadata": {},
   "source": [
    "### All Square Feets"
   ]
  },
  {
   "cell_type": "code",
   "execution_count": 246,
   "id": "ab96de53",
   "metadata": {},
   "outputs": [
    {
     "data": {
      "text/plain": [
       "['BsmtFinSF1',\n",
       " 'BsmtFinSF2',\n",
       " 'BsmtUnfSF',\n",
       " 'TotalBsmtSF',\n",
       " '1stFlrSF',\n",
       " '2ndFlrSF',\n",
       " 'LowQualFinSF',\n",
       " 'WoodDeckSF',\n",
       " 'OpenPorchSF',\n",
       " '1st2ndFlrSF_Sum']"
      ]
     },
     "execution_count": 246,
     "metadata": {},
     "output_type": "execute_result"
    }
   ],
   "source": [
    "sf_columns = []\n",
    "for name in X_num_scaled.columns:\n",
    "    if 'SF' in name:\n",
    "        sf_columns.append(name)\n",
    "sf_columns"
   ]
  },
  {
   "cell_type": "code",
   "execution_count": 253,
   "id": "38eb22f1",
   "metadata": {},
   "outputs": [
    {
     "data": {
      "text/html": [
       "<div>\n",
       "<style scoped>\n",
       "    .dataframe tbody tr th:only-of-type {\n",
       "        vertical-align: middle;\n",
       "    }\n",
       "\n",
       "    .dataframe tbody tr th {\n",
       "        vertical-align: top;\n",
       "    }\n",
       "\n",
       "    .dataframe thead th {\n",
       "        text-align: right;\n",
       "    }\n",
       "</style>\n",
       "<table border=\"1\" class=\"dataframe\">\n",
       "  <thead>\n",
       "    <tr style=\"text-align: right;\">\n",
       "      <th></th>\n",
       "      <th>0</th>\n",
       "      <th>1</th>\n",
       "      <th>2</th>\n",
       "      <th>3</th>\n",
       "      <th>4</th>\n",
       "      <th>5</th>\n",
       "      <th>6</th>\n",
       "      <th>7</th>\n",
       "      <th>8</th>\n",
       "      <th>9</th>\n",
       "      <th>...</th>\n",
       "      <th>1450</th>\n",
       "      <th>1451</th>\n",
       "      <th>1452</th>\n",
       "      <th>1453</th>\n",
       "      <th>1454</th>\n",
       "      <th>1455</th>\n",
       "      <th>1456</th>\n",
       "      <th>1457</th>\n",
       "      <th>1458</th>\n",
       "      <th>1459</th>\n",
       "    </tr>\n",
       "  </thead>\n",
       "  <tbody>\n",
       "    <tr>\n",
       "      <th>0</th>\n",
       "      <td>856</td>\n",
       "      <td>1262</td>\n",
       "      <td>920</td>\n",
       "      <td>756</td>\n",
       "      <td>1145</td>\n",
       "      <td>796</td>\n",
       "      <td>1686</td>\n",
       "      <td>1107</td>\n",
       "      <td>952</td>\n",
       "      <td>991</td>\n",
       "      <td>...</td>\n",
       "      <td>896</td>\n",
       "      <td>1573</td>\n",
       "      <td>547</td>\n",
       "      <td>1140</td>\n",
       "      <td>1221</td>\n",
       "      <td>953</td>\n",
       "      <td>1542</td>\n",
       "      <td>1152</td>\n",
       "      <td>1078</td>\n",
       "      <td>1256</td>\n",
       "    </tr>\n",
       "    <tr>\n",
       "      <th>1</th>\n",
       "      <td>856</td>\n",
       "      <td>1262</td>\n",
       "      <td>920</td>\n",
       "      <td>756</td>\n",
       "      <td>1145</td>\n",
       "      <td>796</td>\n",
       "      <td>1686</td>\n",
       "      <td>1107</td>\n",
       "      <td>952</td>\n",
       "      <td>991</td>\n",
       "      <td>...</td>\n",
       "      <td>896</td>\n",
       "      <td>1573</td>\n",
       "      <td>547</td>\n",
       "      <td>1140</td>\n",
       "      <td>1221</td>\n",
       "      <td>953</td>\n",
       "      <td>1542</td>\n",
       "      <td>1152</td>\n",
       "      <td>1078</td>\n",
       "      <td>1256</td>\n",
       "    </tr>\n",
       "  </tbody>\n",
       "</table>\n",
       "<p>2 rows × 1460 columns</p>\n",
       "</div>"
      ],
      "text/plain": [
       "   0     1     2     3     4     5     6     7     8     9     ...  1450  \\\n",
       "0   856  1262   920   756  1145   796  1686  1107   952   991  ...   896   \n",
       "1   856  1262   920   756  1145   796  1686  1107   952   991  ...   896   \n",
       "\n",
       "   1451  1452  1453  1454  1455  1456  1457  1458  1459  \n",
       "0  1573   547  1140  1221   953  1542  1152  1078  1256  \n",
       "1  1573   547  1140  1221   953  1542  1152  1078  1256  \n",
       "\n",
       "[2 rows x 1460 columns]"
      ]
     },
     "execution_count": 253,
     "metadata": {},
     "output_type": "execute_result"
    }
   ],
   "source": [
    "pd.DataFrame(\n",
    "    [\n",
    "        X[\n",
    " 'TotalBsmtSF'].to_numpy(),\n",
    "        X[['BsmtFinSF1',\n",
    "         'BsmtFinSF2', 'BsmtUnfSF']].sum(axis=1).to_numpy()\n",
    "    ]\n",
    ")"
   ]
  },
  {
   "cell_type": "code",
   "execution_count": null,
   "id": "9e870042",
   "metadata": {},
   "outputs": [],
   "source": [
    "X_num_scaled['AllAreasSum'] = X_num_scaled[[]]\n",
    "pd.concat([X_num_scaled[['AllAreasSum', 'LotArea', 'MasVnrArea', 'GrLivArea', 'GarageArea', ]], y], axis=1).corr()"
   ]
  }
 ],
 "metadata": {
  "kernelspec": {
   "display_name": "Python 3 (ipykernel)",
   "language": "python",
   "name": "python3"
  },
  "language_info": {
   "codemirror_mode": {
    "name": "ipython",
    "version": 3
   },
   "file_extension": ".py",
   "mimetype": "text/x-python",
   "name": "python",
   "nbconvert_exporter": "python",
   "pygments_lexer": "ipython3",
   "version": "3.8.16"
  }
 },
 "nbformat": 4,
 "nbformat_minor": 5
}
